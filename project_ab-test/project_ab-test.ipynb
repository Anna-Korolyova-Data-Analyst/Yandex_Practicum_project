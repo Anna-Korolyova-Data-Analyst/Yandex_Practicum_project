{
 "cells": [
  {
   "cell_type": "markdown",
   "metadata": {},
   "source": [
    "# А/В ТЕСТ"
   ]
  },
  {
   "cell_type": "markdown",
   "metadata": {},
   "source": [
    "# Описание проекта\n",
    "В этом проекте использованы данные крупного интернет-магазина. Вместе с отделом маркетинга был подготовлен список гипотез для увеличения выручки."
   ]
  },
  {
   "cell_type": "markdown",
   "metadata": {},
   "source": [
    "Цели исследования:\n",
    "1. Сделать приоритизацию гипотез.\n",
    "2. Проанализировать результаты А/В теста и принять решение о продолжение теста."
   ]
  },
  {
   "cell_type": "markdown",
   "metadata": {},
   "source": [
    "## Импорт библиотек"
   ]
  },
  {
   "cell_type": "code",
   "execution_count": 1,
   "metadata": {},
   "outputs": [],
   "source": [
    "import pandas as pd\n",
    "pd.set_option('display.float_format', '{:,.2f}'.format)\n",
    "from matplotlib import pyplot as plt\n",
    "import datetime as dt\n",
    "import numpy as np\n",
    "pd.set_option('display.max_colwidth', None)\n",
    "import scipy.stats as stats"
   ]
  },
  {
   "cell_type": "markdown",
   "metadata": {},
   "source": [
    "## Чтение файлов"
   ]
  },
  {
   "cell_type": "code",
   "execution_count": 2,
   "metadata": {},
   "outputs": [],
   "source": [
    "hypothesis = pd.read_csv('/datasets/hypothesis.csv')"
   ]
  },
  {
   "cell_type": "code",
   "execution_count": 3,
   "metadata": {},
   "outputs": [],
   "source": [
    "orders = pd.read_csv('/datasets/orders.csv')"
   ]
  },
  {
   "cell_type": "code",
   "execution_count": 4,
   "metadata": {},
   "outputs": [],
   "source": [
    "visitors = pd.read_csv('/datasets/visitors.csv')"
   ]
  },
  {
   "cell_type": "markdown",
   "metadata": {},
   "source": [
    "## Изучение и подготовка данных"
   ]
  },
  {
   "cell_type": "code",
   "execution_count": 5,
   "metadata": {},
   "outputs": [],
   "source": [
    "#функция выводит общую информацию о таблице\n",
    "def general_info(df):\n",
    "    display(df.head())\n",
    "    print('Общая информация:')\n",
    "    print(df.info())\n",
    "    print('Kоличество пропусков: ')\n",
    "    print(df.isna().sum())\n",
    "    print('Kоличество явных дубликатов: ', df.duplicated().sum())"
   ]
  },
  {
   "cell_type": "markdown",
   "metadata": {},
   "source": [
    "### Работа с таблицей hypothesis"
   ]
  },
  {
   "cell_type": "markdown",
   "metadata": {},
   "source": [
    "В таблице hypothesis 9 гипотез по увеличению выручки интернет-магазина с указанными параметрами Reach, Impact, Confidence, Effort."
   ]
  },
  {
   "cell_type": "code",
   "execution_count": 6,
   "metadata": {
    "scrolled": true
   },
   "outputs": [
    {
     "data": {
      "text/html": [
       "<div>\n",
       "<style scoped>\n",
       "    .dataframe tbody tr th:only-of-type {\n",
       "        vertical-align: middle;\n",
       "    }\n",
       "\n",
       "    .dataframe tbody tr th {\n",
       "        vertical-align: top;\n",
       "    }\n",
       "\n",
       "    .dataframe thead th {\n",
       "        text-align: right;\n",
       "    }\n",
       "</style>\n",
       "<table border=\"1\" class=\"dataframe\">\n",
       "  <thead>\n",
       "    <tr style=\"text-align: right;\">\n",
       "      <th></th>\n",
       "      <th>Hypothesis</th>\n",
       "      <th>Reach</th>\n",
       "      <th>Impact</th>\n",
       "      <th>Confidence</th>\n",
       "      <th>Efforts</th>\n",
       "    </tr>\n",
       "  </thead>\n",
       "  <tbody>\n",
       "    <tr>\n",
       "      <th>0</th>\n",
       "      <td>Добавить два новых канала привлечения трафика, что позволит привлекать на 30% больше пользователей</td>\n",
       "      <td>3</td>\n",
       "      <td>10</td>\n",
       "      <td>8</td>\n",
       "      <td>6</td>\n",
       "    </tr>\n",
       "    <tr>\n",
       "      <th>1</th>\n",
       "      <td>Запустить собственную службу доставки, что сократит срок доставки заказов</td>\n",
       "      <td>2</td>\n",
       "      <td>5</td>\n",
       "      <td>4</td>\n",
       "      <td>10</td>\n",
       "    </tr>\n",
       "    <tr>\n",
       "      <th>2</th>\n",
       "      <td>Добавить блоки рекомендаций товаров на сайт интернет магазина, чтобы повысить конверсию и средний чек заказа</td>\n",
       "      <td>8</td>\n",
       "      <td>3</td>\n",
       "      <td>7</td>\n",
       "      <td>3</td>\n",
       "    </tr>\n",
       "    <tr>\n",
       "      <th>3</th>\n",
       "      <td>Изменить структура категорий, что увеличит конверсию, т.к. пользователи быстрее найдут нужный товар</td>\n",
       "      <td>8</td>\n",
       "      <td>3</td>\n",
       "      <td>3</td>\n",
       "      <td>8</td>\n",
       "    </tr>\n",
       "    <tr>\n",
       "      <th>4</th>\n",
       "      <td>Изменить цвет фона главной страницы, чтобы увеличить вовлеченность пользователей</td>\n",
       "      <td>3</td>\n",
       "      <td>1</td>\n",
       "      <td>1</td>\n",
       "      <td>1</td>\n",
       "    </tr>\n",
       "    <tr>\n",
       "      <th>5</th>\n",
       "      <td>Добавить страницу отзывов клиентов о магазине, что позволит увеличить количество заказов</td>\n",
       "      <td>3</td>\n",
       "      <td>2</td>\n",
       "      <td>2</td>\n",
       "      <td>3</td>\n",
       "    </tr>\n",
       "    <tr>\n",
       "      <th>6</th>\n",
       "      <td>Показать на главной странице баннеры с актуальными акциями и распродажами, чтобы увеличить конверсию</td>\n",
       "      <td>5</td>\n",
       "      <td>3</td>\n",
       "      <td>8</td>\n",
       "      <td>3</td>\n",
       "    </tr>\n",
       "    <tr>\n",
       "      <th>7</th>\n",
       "      <td>Добавить форму подписки на все основные страницы, чтобы собрать базу клиентов для email-рассылок</td>\n",
       "      <td>10</td>\n",
       "      <td>7</td>\n",
       "      <td>8</td>\n",
       "      <td>5</td>\n",
       "    </tr>\n",
       "    <tr>\n",
       "      <th>8</th>\n",
       "      <td>Запустить акцию, дающую скидку на товар в день рождения</td>\n",
       "      <td>1</td>\n",
       "      <td>9</td>\n",
       "      <td>9</td>\n",
       "      <td>5</td>\n",
       "    </tr>\n",
       "  </tbody>\n",
       "</table>\n",
       "</div>"
      ],
      "text/plain": [
       "                                                                                                     Hypothesis  \\\n",
       "0            Добавить два новых канала привлечения трафика, что позволит привлекать на 30% больше пользователей   \n",
       "1                                     Запустить собственную службу доставки, что сократит срок доставки заказов   \n",
       "2  Добавить блоки рекомендаций товаров на сайт интернет магазина, чтобы повысить конверсию и средний чек заказа   \n",
       "3           Изменить структура категорий, что увеличит конверсию, т.к. пользователи быстрее найдут нужный товар   \n",
       "4                              Изменить цвет фона главной страницы, чтобы увеличить вовлеченность пользователей   \n",
       "5                      Добавить страницу отзывов клиентов о магазине, что позволит увеличить количество заказов   \n",
       "6          Показать на главной странице баннеры с актуальными акциями и распродажами, чтобы увеличить конверсию   \n",
       "7              Добавить форму подписки на все основные страницы, чтобы собрать базу клиентов для email-рассылок   \n",
       "8                                                       Запустить акцию, дающую скидку на товар в день рождения   \n",
       "\n",
       "   Reach  Impact  Confidence  Efforts  \n",
       "0      3      10           8        6  \n",
       "1      2       5           4       10  \n",
       "2      8       3           7        3  \n",
       "3      8       3           3        8  \n",
       "4      3       1           1        1  \n",
       "5      3       2           2        3  \n",
       "6      5       3           8        3  \n",
       "7     10       7           8        5  \n",
       "8      1       9           9        5  "
      ]
     },
     "execution_count": 6,
     "metadata": {},
     "output_type": "execute_result"
    }
   ],
   "source": [
    "#выведу таблицу\n",
    "hypothesis"
   ]
  },
  {
   "cell_type": "markdown",
   "metadata": {},
   "source": [
    "Описание таблицы:\n",
    "- Hypothesis — краткое описание гипотезы;\n",
    "- Reach — охват пользователей по 10-балльной шкале;\n",
    "- Impact — влияние на пользователей по 10-балльной шкале;\n",
    "- Confidence — уверенность в гипотезе по 10-балльной шкале;\n",
    "- Efforts — затраты ресурсов на проверку гипотезы по 10-балльной шкале. Чем больше значение Efforts, тем дороже проверка гипотезы."
   ]
  },
  {
   "cell_type": "code",
   "execution_count": 7,
   "metadata": {},
   "outputs": [],
   "source": [
    "#general_info(hypothesis)"
   ]
  },
  {
   "cell_type": "markdown",
   "metadata": {},
   "source": [
    "В ячейке выше проверила таблицу на соответствие типов, пропуски и дкубликаты. Предобработка не нужна.\n",
    "<br>Название колонок не в нижнем регистре, пробелов нет, поэтому оставлю так."
   ]
  },
  {
   "cell_type": "markdown",
   "metadata": {},
   "source": [
    "### Работа с таблицей orders"
   ]
  },
  {
   "cell_type": "code",
   "execution_count": 8,
   "metadata": {},
   "outputs": [
    {
     "data": {
      "text/html": [
       "<div>\n",
       "<style scoped>\n",
       "    .dataframe tbody tr th:only-of-type {\n",
       "        vertical-align: middle;\n",
       "    }\n",
       "\n",
       "    .dataframe tbody tr th {\n",
       "        vertical-align: top;\n",
       "    }\n",
       "\n",
       "    .dataframe thead th {\n",
       "        text-align: right;\n",
       "    }\n",
       "</style>\n",
       "<table border=\"1\" class=\"dataframe\">\n",
       "  <thead>\n",
       "    <tr style=\"text-align: right;\">\n",
       "      <th></th>\n",
       "      <th>transactionId</th>\n",
       "      <th>visitorId</th>\n",
       "      <th>date</th>\n",
       "      <th>revenue</th>\n",
       "      <th>group</th>\n",
       "    </tr>\n",
       "  </thead>\n",
       "  <tbody>\n",
       "    <tr>\n",
       "      <th>0</th>\n",
       "      <td>3667963787</td>\n",
       "      <td>3312258926</td>\n",
       "      <td>2019-08-15</td>\n",
       "      <td>1650</td>\n",
       "      <td>B</td>\n",
       "    </tr>\n",
       "    <tr>\n",
       "      <th>1</th>\n",
       "      <td>2804400009</td>\n",
       "      <td>3642806036</td>\n",
       "      <td>2019-08-15</td>\n",
       "      <td>730</td>\n",
       "      <td>B</td>\n",
       "    </tr>\n",
       "    <tr>\n",
       "      <th>2</th>\n",
       "      <td>2961555356</td>\n",
       "      <td>4069496402</td>\n",
       "      <td>2019-08-15</td>\n",
       "      <td>400</td>\n",
       "      <td>A</td>\n",
       "    </tr>\n",
       "    <tr>\n",
       "      <th>3</th>\n",
       "      <td>3797467345</td>\n",
       "      <td>1196621759</td>\n",
       "      <td>2019-08-15</td>\n",
       "      <td>9759</td>\n",
       "      <td>B</td>\n",
       "    </tr>\n",
       "    <tr>\n",
       "      <th>4</th>\n",
       "      <td>2282983706</td>\n",
       "      <td>2322279887</td>\n",
       "      <td>2019-08-15</td>\n",
       "      <td>2308</td>\n",
       "      <td>B</td>\n",
       "    </tr>\n",
       "  </tbody>\n",
       "</table>\n",
       "</div>"
      ],
      "text/plain": [
       "   transactionId   visitorId        date  revenue group\n",
       "0     3667963787  3312258926  2019-08-15     1650     B\n",
       "1     2804400009  3642806036  2019-08-15      730     B\n",
       "2     2961555356  4069496402  2019-08-15      400     A\n",
       "3     3797467345  1196621759  2019-08-15     9759     B\n",
       "4     2282983706  2322279887  2019-08-15     2308     B"
      ]
     },
     "metadata": {},
     "output_type": "display_data"
    },
    {
     "name": "stdout",
     "output_type": "stream",
     "text": [
      "Общая информация:\n",
      "<class 'pandas.core.frame.DataFrame'>\n",
      "RangeIndex: 1197 entries, 0 to 1196\n",
      "Data columns (total 5 columns):\n",
      " #   Column         Non-Null Count  Dtype \n",
      "---  ------         --------------  ----- \n",
      " 0   transactionId  1197 non-null   int64 \n",
      " 1   visitorId      1197 non-null   int64 \n",
      " 2   date           1197 non-null   object\n",
      " 3   revenue        1197 non-null   int64 \n",
      " 4   group          1197 non-null   object\n",
      "dtypes: int64(3), object(2)\n",
      "memory usage: 46.9+ KB\n",
      "None\n",
      "Kоличество пропусков: \n",
      "transactionId    0\n",
      "visitorId        0\n",
      "date             0\n",
      "revenue          0\n",
      "group            0\n",
      "dtype: int64\n",
      "Kоличество явных дубликатов:  0\n"
     ]
    }
   ],
   "source": [
    "general_info(orders)"
   ]
  },
  {
   "cell_type": "markdown",
   "metadata": {},
   "source": [
    "Описание таблицы:\n",
    "- transactionId — идентификатор заказа;\n",
    "- visitorId — идентификатор пользователя, совершившего заказ;\n",
    "- date — дата, когда был совершён заказ;\n",
    "- revenue — выручка заказа;\n",
    "- group — группа A/B-теста, в которую попал заказ."
   ]
  },
  {
   "cell_type": "markdown",
   "metadata": {},
   "source": [
    "Из предобработки - нужно привести дату к формату даты."
   ]
  },
  {
   "cell_type": "code",
   "execution_count": 9,
   "metadata": {},
   "outputs": [],
   "source": [
    "orders['date'] = orders['date'].map(lambda x: dt.datetime.strptime(x, '%Y-%m-%d'))"
   ]
  },
  {
   "cell_type": "code",
   "execution_count": 10,
   "metadata": {},
   "outputs": [],
   "source": [
    "orders = orders.rename(columns={'transactionId': 'transaction_id', 'visitorId': 'visitor_id'})"
   ]
  },
  {
   "cell_type": "code",
   "execution_count": 11,
   "metadata": {},
   "outputs": [
    {
     "data": {
      "text/plain": [
       "Index(['transaction_id', 'visitor_id', 'date', 'revenue', 'group'], dtype='object')"
      ]
     },
     "execution_count": 11,
     "metadata": {},
     "output_type": "execute_result"
    }
   ],
   "source": [
    "orders.columns"
   ]
  },
  {
   "cell_type": "markdown",
   "metadata": {},
   "source": [
    "Проверю доли по количеству посетителей по группам"
   ]
  },
  {
   "cell_type": "code",
   "execution_count": 12,
   "metadata": {
    "scrolled": true
   },
   "outputs": [
    {
     "data": {
      "image/png": "[encoded data removed]",
      "text/plain": [
       "<Figure size 360x360 with 1 Axes>"
      ]
     },
     "metadata": {},
     "output_type": "display_data"
    }
   ],
   "source": [
    "orders_d = orders.pivot_table(index='group', values='visitor_id', aggfunc='count')\n",
    "orders_d.plot(kind='pie', autopct='%1.0f%%', subplots=True, figsize=(5,5), legend=False)\n",
    "plt.title('Доля посетителей из групп А и В')\n",
    "plt.show();"
   ]
  },
  {
   "cell_type": "markdown",
   "metadata": {},
   "source": [
    "Группа А - 47%, В - 53%."
   ]
  },
  {
   "cell_type": "markdown",
   "metadata": {},
   "source": [
    "Доли по количеству посетителей по группам"
   ]
  },
  {
   "cell_type": "code",
   "execution_count": 13,
   "metadata": {},
   "outputs": [
    {
     "data": {
      "text/html": [
       "<div>\n",
       "<style scoped>\n",
       "    .dataframe tbody tr th:only-of-type {\n",
       "        vertical-align: middle;\n",
       "    }\n",
       "\n",
       "    .dataframe tbody tr th {\n",
       "        vertical-align: top;\n",
       "    }\n",
       "\n",
       "    .dataframe thead th {\n",
       "        text-align: right;\n",
       "    }\n",
       "</style>\n",
       "<table border=\"1\" class=\"dataframe\">\n",
       "  <thead>\n",
       "    <tr style=\"text-align: right;\">\n",
       "      <th></th>\n",
       "      <th>group</th>\n",
       "      <th>visitors</th>\n",
       "      <th>per_visitors_of_total</th>\n",
       "    </tr>\n",
       "  </thead>\n",
       "  <tbody>\n",
       "    <tr>\n",
       "      <th>0</th>\n",
       "      <td>A</td>\n",
       "      <td>18736</td>\n",
       "      <td>49.76%</td>\n",
       "    </tr>\n",
       "    <tr>\n",
       "      <th>1</th>\n",
       "      <td>B</td>\n",
       "      <td>18916</td>\n",
       "      <td>50.24%</td>\n",
       "    </tr>\n",
       "  </tbody>\n",
       "</table>\n",
       "</div>"
      ],
      "text/plain": [
       "  group  visitors per_visitors_of_total\n",
       "0     A     18736                49.76%\n",
       "1     B     18916                50.24%"
      ]
     },
     "execution_count": 13,
     "metadata": {},
     "output_type": "execute_result"
    }
   ],
   "source": [
    "dff = visitors.groupby('group', as_index=False).agg({'visitors': 'sum'})\n",
    "dff['per_visitors_of_total'] = dff['visitors'].map(lambda x: '{:.2%}'.format(x/dff['visitors'].sum()))\n",
    "dff"
   ]
  },
  {
   "cell_type": "markdown",
   "metadata": {},
   "source": [
    "На входе такая информация о посетителях, различия менее 1%"
   ]
  },
  {
   "cell_type": "markdown",
   "metadata": {},
   "source": [
    "Найду пересечение пользователей"
   ]
  },
  {
   "cell_type": "code",
   "execution_count": 14,
   "metadata": {},
   "outputs": [
    {
     "data": {
      "text/html": [
       "<div>\n",
       "<style scoped>\n",
       "    .dataframe tbody tr th:only-of-type {\n",
       "        vertical-align: middle;\n",
       "    }\n",
       "\n",
       "    .dataframe tbody tr th {\n",
       "        vertical-align: top;\n",
       "    }\n",
       "\n",
       "    .dataframe thead th {\n",
       "        text-align: right;\n",
       "    }\n",
       "</style>\n",
       "<table border=\"1\" class=\"dataframe\">\n",
       "  <thead>\n",
       "    <tr style=\"text-align: right;\">\n",
       "      <th></th>\n",
       "      <th>visitor_id</th>\n",
       "    </tr>\n",
       "    <tr>\n",
       "      <th>group</th>\n",
       "      <th></th>\n",
       "    </tr>\n",
       "  </thead>\n",
       "  <tbody>\n",
       "    <tr>\n",
       "      <th>1</th>\n",
       "      <td>973</td>\n",
       "    </tr>\n",
       "    <tr>\n",
       "      <th>2</th>\n",
       "      <td>58</td>\n",
       "    </tr>\n",
       "  </tbody>\n",
       "</table>\n",
       "</div>"
      ],
      "text/plain": [
       "       visitor_id\n",
       "group            \n",
       "1             973\n",
       "2              58"
      ]
     },
     "metadata": {},
     "output_type": "display_data"
    },
    {
     "data": {
      "image/png": "[encoded data removed]",
      "text/plain": [
       "<Figure size 360x360 with 1 Axes>"
      ]
     },
     "metadata": {},
     "output_type": "display_data"
    }
   ],
   "source": [
    "#сначала нашла сколько групп у пользователей, а затем посчитала сколько пользователей с 1 и 2 группами\n",
    "group_user = orders.groupby('visitor_id', as_index=False).agg({'group': 'nunique'})\\\n",
    "                   .pivot_table(index='group', values='visitor_id', aggfunc='nunique')\n",
    "display(group_user)\n",
    "group_user.plot(kind='pie', autopct='%1.0f%%', subplots=True, figsize=(5,5), legend=False)\n",
    "plt.title('Доля пользователей с 1 и 2 группами')\n",
    "plt.show();"
   ]
  },
  {
   "cell_type": "markdown",
   "metadata": {},
   "source": [
    "Пользователей, которые попали сразу в 2 группы - 58, это 6%."
   ]
  },
  {
   "cell_type": "markdown",
   "metadata": {},
   "source": [
    "Таких пользователей лучше удалить, но в нашем случае мы можем удалять только из заказов, таблица визитов агрегирована, поэтому удалять не требуется."
   ]
  },
  {
   "cell_type": "markdown",
   "metadata": {},
   "source": [
    "### Работа с таблицей visitors"
   ]
  },
  {
   "cell_type": "code",
   "execution_count": 15,
   "metadata": {
    "scrolled": false
   },
   "outputs": [
    {
     "data": {
      "text/html": [
       "<div>\n",
       "<style scoped>\n",
       "    .dataframe tbody tr th:only-of-type {\n",
       "        vertical-align: middle;\n",
       "    }\n",
       "\n",
       "    .dataframe tbody tr th {\n",
       "        vertical-align: top;\n",
       "    }\n",
       "\n",
       "    .dataframe thead th {\n",
       "        text-align: right;\n",
       "    }\n",
       "</style>\n",
       "<table border=\"1\" class=\"dataframe\">\n",
       "  <thead>\n",
       "    <tr style=\"text-align: right;\">\n",
       "      <th></th>\n",
       "      <th>date</th>\n",
       "      <th>group</th>\n",
       "      <th>visitors</th>\n",
       "    </tr>\n",
       "  </thead>\n",
       "  <tbody>\n",
       "    <tr>\n",
       "      <th>0</th>\n",
       "      <td>2019-08-01</td>\n",
       "      <td>A</td>\n",
       "      <td>719</td>\n",
       "    </tr>\n",
       "    <tr>\n",
       "      <th>1</th>\n",
       "      <td>2019-08-02</td>\n",
       "      <td>A</td>\n",
       "      <td>619</td>\n",
       "    </tr>\n",
       "    <tr>\n",
       "      <th>2</th>\n",
       "      <td>2019-08-03</td>\n",
       "      <td>A</td>\n",
       "      <td>507</td>\n",
       "    </tr>\n",
       "    <tr>\n",
       "      <th>3</th>\n",
       "      <td>2019-08-04</td>\n",
       "      <td>A</td>\n",
       "      <td>717</td>\n",
       "    </tr>\n",
       "    <tr>\n",
       "      <th>4</th>\n",
       "      <td>2019-08-05</td>\n",
       "      <td>A</td>\n",
       "      <td>756</td>\n",
       "    </tr>\n",
       "  </tbody>\n",
       "</table>\n",
       "</div>"
      ],
      "text/plain": [
       "         date group  visitors\n",
       "0  2019-08-01     A       719\n",
       "1  2019-08-02     A       619\n",
       "2  2019-08-03     A       507\n",
       "3  2019-08-04     A       717\n",
       "4  2019-08-05     A       756"
      ]
     },
     "metadata": {},
     "output_type": "display_data"
    },
    {
     "name": "stdout",
     "output_type": "stream",
     "text": [
      "Общая информация:\n",
      "<class 'pandas.core.frame.DataFrame'>\n",
      "RangeIndex: 62 entries, 0 to 61\n",
      "Data columns (total 3 columns):\n",
      " #   Column    Non-Null Count  Dtype \n",
      "---  ------    --------------  ----- \n",
      " 0   date      62 non-null     object\n",
      " 1   group     62 non-null     object\n",
      " 2   visitors  62 non-null     int64 \n",
      "dtypes: int64(1), object(2)\n",
      "memory usage: 1.6+ KB\n",
      "None\n",
      "Kоличество пропусков: \n",
      "date        0\n",
      "group       0\n",
      "visitors    0\n",
      "dtype: int64\n",
      "Kоличество явных дубликатов:  0\n"
     ]
    }
   ],
   "source": [
    "general_info(visitors)"
   ]
  },
  {
   "cell_type": "markdown",
   "metadata": {},
   "source": [
    "Описание таблицы:\n",
    "- date — дата;\n",
    "- group — группа A/B-теста;\n",
    "- visitors — количество пользователей в указанную дату в указанной группе A/B-теста"
   ]
  },
  {
   "cell_type": "markdown",
   "metadata": {},
   "source": [
    "Из предобработки - нужно привести дату к формату даты."
   ]
  },
  {
   "cell_type": "code",
   "execution_count": 16,
   "metadata": {},
   "outputs": [],
   "source": [
    "visitors['date'] = visitors['date'].map(lambda x: dt.datetime.strptime(x, '%Y-%m-%d'))"
   ]
  },
  {
   "cell_type": "markdown",
   "metadata": {},
   "source": [
    "### Вывод:\n",
    "данные готовы к исследованию"
   ]
  },
  {
   "cell_type": "markdown",
   "metadata": {},
   "source": [
    "## Приоритизация гипотез"
   ]
  },
  {
   "cell_type": "markdown",
   "metadata": {},
   "source": [
    "### Фреймворк ICE "
   ]
  },
  {
   "cell_type": "markdown",
   "metadata": {},
   "source": [
    "Применю фреймворк ICE для приоритизации гипотез"
   ]
  },
  {
   "cell_type": "markdown",
   "metadata": {},
   "source": [
    "Формула ICE:\n",
    "$$ICE = \\frac{Impact * Confidence}{Efforts}$$"
   ]
  },
  {
   "cell_type": "code",
   "execution_count": 17,
   "metadata": {},
   "outputs": [
    {
     "data": {
      "text/html": [
       "<div>\n",
       "<style scoped>\n",
       "    .dataframe tbody tr th:only-of-type {\n",
       "        vertical-align: middle;\n",
       "    }\n",
       "\n",
       "    .dataframe tbody tr th {\n",
       "        vertical-align: top;\n",
       "    }\n",
       "\n",
       "    .dataframe thead th {\n",
       "        text-align: right;\n",
       "    }\n",
       "</style>\n",
       "<table border=\"1\" class=\"dataframe\">\n",
       "  <thead>\n",
       "    <tr style=\"text-align: right;\">\n",
       "      <th></th>\n",
       "      <th>hipothesis_number</th>\n",
       "      <th>Hypothesis</th>\n",
       "      <th>Reach</th>\n",
       "      <th>Impact</th>\n",
       "      <th>Confidence</th>\n",
       "      <th>Efforts</th>\n",
       "    </tr>\n",
       "  </thead>\n",
       "  <tbody>\n",
       "    <tr>\n",
       "      <th>0</th>\n",
       "      <td>0</td>\n",
       "      <td>Добавить два новых канала привлечения трафика, что позволит привлекать на 30% больше пользователей</td>\n",
       "      <td>3</td>\n",
       "      <td>10</td>\n",
       "      <td>8</td>\n",
       "      <td>6</td>\n",
       "    </tr>\n",
       "    <tr>\n",
       "      <th>1</th>\n",
       "      <td>1</td>\n",
       "      <td>Запустить собственную службу доставки, что сократит срок доставки заказов</td>\n",
       "      <td>2</td>\n",
       "      <td>5</td>\n",
       "      <td>4</td>\n",
       "      <td>10</td>\n",
       "    </tr>\n",
       "    <tr>\n",
       "      <th>2</th>\n",
       "      <td>2</td>\n",
       "      <td>Добавить блоки рекомендаций товаров на сайт интернет магазина, чтобы повысить конверсию и средний чек заказа</td>\n",
       "      <td>8</td>\n",
       "      <td>3</td>\n",
       "      <td>7</td>\n",
       "      <td>3</td>\n",
       "    </tr>\n",
       "    <tr>\n",
       "      <th>3</th>\n",
       "      <td>3</td>\n",
       "      <td>Изменить структура категорий, что увеличит конверсию, т.к. пользователи быстрее найдут нужный товар</td>\n",
       "      <td>8</td>\n",
       "      <td>3</td>\n",
       "      <td>3</td>\n",
       "      <td>8</td>\n",
       "    </tr>\n",
       "    <tr>\n",
       "      <th>4</th>\n",
       "      <td>4</td>\n",
       "      <td>Изменить цвет фона главной страницы, чтобы увеличить вовлеченность пользователей</td>\n",
       "      <td>3</td>\n",
       "      <td>1</td>\n",
       "      <td>1</td>\n",
       "      <td>1</td>\n",
       "    </tr>\n",
       "    <tr>\n",
       "      <th>5</th>\n",
       "      <td>5</td>\n",
       "      <td>Добавить страницу отзывов клиентов о магазине, что позволит увеличить количество заказов</td>\n",
       "      <td>3</td>\n",
       "      <td>2</td>\n",
       "      <td>2</td>\n",
       "      <td>3</td>\n",
       "    </tr>\n",
       "    <tr>\n",
       "      <th>6</th>\n",
       "      <td>6</td>\n",
       "      <td>Показать на главной странице баннеры с актуальными акциями и распродажами, чтобы увеличить конверсию</td>\n",
       "      <td>5</td>\n",
       "      <td>3</td>\n",
       "      <td>8</td>\n",
       "      <td>3</td>\n",
       "    </tr>\n",
       "    <tr>\n",
       "      <th>7</th>\n",
       "      <td>7</td>\n",
       "      <td>Добавить форму подписки на все основные страницы, чтобы собрать базу клиентов для email-рассылок</td>\n",
       "      <td>10</td>\n",
       "      <td>7</td>\n",
       "      <td>8</td>\n",
       "      <td>5</td>\n",
       "    </tr>\n",
       "    <tr>\n",
       "      <th>8</th>\n",
       "      <td>8</td>\n",
       "      <td>Запустить акцию, дающую скидку на товар в день рождения</td>\n",
       "      <td>1</td>\n",
       "      <td>9</td>\n",
       "      <td>9</td>\n",
       "      <td>5</td>\n",
       "    </tr>\n",
       "  </tbody>\n",
       "</table>\n",
       "</div>"
      ],
      "text/plain": [
       "   hipothesis_number  \\\n",
       "0                  0   \n",
       "1                  1   \n",
       "2                  2   \n",
       "3                  3   \n",
       "4                  4   \n",
       "5                  5   \n",
       "6                  6   \n",
       "7                  7   \n",
       "8                  8   \n",
       "\n",
       "                                                                                                     Hypothesis  \\\n",
       "0            Добавить два новых канала привлечения трафика, что позволит привлекать на 30% больше пользователей   \n",
       "1                                     Запустить собственную службу доставки, что сократит срок доставки заказов   \n",
       "2  Добавить блоки рекомендаций товаров на сайт интернет магазина, чтобы повысить конверсию и средний чек заказа   \n",
       "3           Изменить структура категорий, что увеличит конверсию, т.к. пользователи быстрее найдут нужный товар   \n",
       "4                              Изменить цвет фона главной страницы, чтобы увеличить вовлеченность пользователей   \n",
       "5                      Добавить страницу отзывов клиентов о магазине, что позволит увеличить количество заказов   \n",
       "6          Показать на главной странице баннеры с актуальными акциями и распродажами, чтобы увеличить конверсию   \n",
       "7              Добавить форму подписки на все основные страницы, чтобы собрать базу клиентов для email-рассылок   \n",
       "8                                                       Запустить акцию, дающую скидку на товар в день рождения   \n",
       "\n",
       "   Reach  Impact  Confidence  Efforts  \n",
       "0      3      10           8        6  \n",
       "1      2       5           4       10  \n",
       "2      8       3           7        3  \n",
       "3      8       3           3        8  \n",
       "4      3       1           1        1  \n",
       "5      3       2           2        3  \n",
       "6      5       3           8        3  \n",
       "7     10       7           8        5  \n",
       "8      1       9           9        5  "
      ]
     },
     "metadata": {},
     "output_type": "display_data"
    }
   ],
   "source": [
    "hypothesis = hypothesis.set_index(pd.Series(range(9))).reset_index(drop=False).rename(columns={'index': 'hipothesis_number'})\n",
    "display(hypothesis)"
   ]
  },
  {
   "cell_type": "code",
   "execution_count": 18,
   "metadata": {},
   "outputs": [
    {
     "data": {
      "text/html": [
       "<div>\n",
       "<style scoped>\n",
       "    .dataframe tbody tr th:only-of-type {\n",
       "        vertical-align: middle;\n",
       "    }\n",
       "\n",
       "    .dataframe tbody tr th {\n",
       "        vertical-align: top;\n",
       "    }\n",
       "\n",
       "    .dataframe thead th {\n",
       "        text-align: right;\n",
       "    }\n",
       "</style>\n",
       "<table border=\"1\" class=\"dataframe\">\n",
       "  <thead>\n",
       "    <tr style=\"text-align: right;\">\n",
       "      <th></th>\n",
       "      <th>Hypothesis</th>\n",
       "      <th>ICE</th>\n",
       "    </tr>\n",
       "  </thead>\n",
       "  <tbody>\n",
       "    <tr>\n",
       "      <th>8</th>\n",
       "      <td>Запустить акцию, дающую скидку на товар в день рождения</td>\n",
       "      <td>16.20</td>\n",
       "    </tr>\n",
       "    <tr>\n",
       "      <th>0</th>\n",
       "      <td>Добавить два новых канала привлечения трафика, что позволит привлекать на 30% больше пользователей</td>\n",
       "      <td>13.33</td>\n",
       "    </tr>\n",
       "    <tr>\n",
       "      <th>7</th>\n",
       "      <td>Добавить форму подписки на все основные страницы, чтобы собрать базу клиентов для email-рассылок</td>\n",
       "      <td>11.20</td>\n",
       "    </tr>\n",
       "    <tr>\n",
       "      <th>6</th>\n",
       "      <td>Показать на главной странице баннеры с актуальными акциями и распродажами, чтобы увеличить конверсию</td>\n",
       "      <td>8.00</td>\n",
       "    </tr>\n",
       "    <tr>\n",
       "      <th>2</th>\n",
       "      <td>Добавить блоки рекомендаций товаров на сайт интернет магазина, чтобы повысить конверсию и средний чек заказа</td>\n",
       "      <td>7.00</td>\n",
       "    </tr>\n",
       "    <tr>\n",
       "      <th>1</th>\n",
       "      <td>Запустить собственную службу доставки, что сократит срок доставки заказов</td>\n",
       "      <td>2.00</td>\n",
       "    </tr>\n",
       "    <tr>\n",
       "      <th>5</th>\n",
       "      <td>Добавить страницу отзывов клиентов о магазине, что позволит увеличить количество заказов</td>\n",
       "      <td>1.33</td>\n",
       "    </tr>\n",
       "    <tr>\n",
       "      <th>3</th>\n",
       "      <td>Изменить структура категорий, что увеличит конверсию, т.к. пользователи быстрее найдут нужный товар</td>\n",
       "      <td>1.12</td>\n",
       "    </tr>\n",
       "    <tr>\n",
       "      <th>4</th>\n",
       "      <td>Изменить цвет фона главной страницы, чтобы увеличить вовлеченность пользователей</td>\n",
       "      <td>1.00</td>\n",
       "    </tr>\n",
       "  </tbody>\n",
       "</table>\n",
       "</div>"
      ],
      "text/plain": [
       "                                                                                                     Hypothesis  \\\n",
       "8                                                       Запустить акцию, дающую скидку на товар в день рождения   \n",
       "0            Добавить два новых канала привлечения трафика, что позволит привлекать на 30% больше пользователей   \n",
       "7              Добавить форму подписки на все основные страницы, чтобы собрать базу клиентов для email-рассылок   \n",
       "6          Показать на главной странице баннеры с актуальными акциями и распродажами, чтобы увеличить конверсию   \n",
       "2  Добавить блоки рекомендаций товаров на сайт интернет магазина, чтобы повысить конверсию и средний чек заказа   \n",
       "1                                     Запустить собственную службу доставки, что сократит срок доставки заказов   \n",
       "5                      Добавить страницу отзывов клиентов о магазине, что позволит увеличить количество заказов   \n",
       "3           Изменить структура категорий, что увеличит конверсию, т.к. пользователи быстрее найдут нужный товар   \n",
       "4                              Изменить цвет фона главной страницы, чтобы увеличить вовлеченность пользователей   \n",
       "\n",
       "    ICE  \n",
       "8 16.20  \n",
       "0 13.33  \n",
       "7 11.20  \n",
       "6  8.00  \n",
       "2  7.00  \n",
       "1  2.00  \n",
       "5  1.33  \n",
       "3  1.12  \n",
       "4  1.00  "
      ]
     },
     "metadata": {},
     "output_type": "display_data"
    }
   ],
   "source": [
    "hypothesis['ICE'] = hypothesis['Impact'] * hypothesis['Confidence'] / hypothesis['Efforts']\n",
    "# добавила место по ICE\n",
    "hypothesis_ice = hypothesis.sort_values(by='ICE', ascending=False).set_index(pd.Series(range(1, 10))).reset_index()\\\n",
    "                           .rename(columns={'index': 'i'})[['i', 'hipothesis_number']]\n",
    "\n",
    "hypothesis = hypothesis.merge(hypothesis_ice, on='hipothesis_number')\n",
    "\n",
    "display(hypothesis[['Hypothesis', 'ICE']].sort_values(by='ICE', ascending=False))"
   ]
  },
  {
   "cell_type": "markdown",
   "metadata": {},
   "source": [
    "Наиболее перспективные гипотезы по ICE: 8, 0, 7."
   ]
  },
  {
   "cell_type": "markdown",
   "metadata": {},
   "source": [
    "### Фреймворк RICE "
   ]
  },
  {
   "cell_type": "markdown",
   "metadata": {},
   "source": [
    "Применю фреймворк RICE для приоритизации гипотез"
   ]
  },
  {
   "cell_type": "markdown",
   "metadata": {},
   "source": [
    "Формула RICE:\n",
    "$$RICE = \\frac{Rearch * Impact * Confidence}{Efforts}$$"
   ]
  },
  {
   "cell_type": "code",
   "execution_count": 19,
   "metadata": {},
   "outputs": [
    {
     "data": {
      "text/html": [
       "<div>\n",
       "<style scoped>\n",
       "    .dataframe tbody tr th:only-of-type {\n",
       "        vertical-align: middle;\n",
       "    }\n",
       "\n",
       "    .dataframe tbody tr th {\n",
       "        vertical-align: top;\n",
       "    }\n",
       "\n",
       "    .dataframe thead th {\n",
       "        text-align: right;\n",
       "    }\n",
       "</style>\n",
       "<table border=\"1\" class=\"dataframe\">\n",
       "  <thead>\n",
       "    <tr style=\"text-align: right;\">\n",
       "      <th></th>\n",
       "      <th>Hypothesis</th>\n",
       "      <th>Reach</th>\n",
       "      <th>RICE</th>\n",
       "    </tr>\n",
       "  </thead>\n",
       "  <tbody>\n",
       "    <tr>\n",
       "      <th>7</th>\n",
       "      <td>Добавить форму подписки на все основные страницы, чтобы собрать базу клиентов для email-рассылок</td>\n",
       "      <td>10</td>\n",
       "      <td>112.00</td>\n",
       "    </tr>\n",
       "    <tr>\n",
       "      <th>2</th>\n",
       "      <td>Добавить блоки рекомендаций товаров на сайт интернет магазина, чтобы повысить конверсию и средний чек заказа</td>\n",
       "      <td>8</td>\n",
       "      <td>56.00</td>\n",
       "    </tr>\n",
       "    <tr>\n",
       "      <th>0</th>\n",
       "      <td>Добавить два новых канала привлечения трафика, что позволит привлекать на 30% больше пользователей</td>\n",
       "      <td>3</td>\n",
       "      <td>40.00</td>\n",
       "    </tr>\n",
       "    <tr>\n",
       "      <th>6</th>\n",
       "      <td>Показать на главной странице баннеры с актуальными акциями и распродажами, чтобы увеличить конверсию</td>\n",
       "      <td>5</td>\n",
       "      <td>40.00</td>\n",
       "    </tr>\n",
       "    <tr>\n",
       "      <th>8</th>\n",
       "      <td>Запустить акцию, дающую скидку на товар в день рождения</td>\n",
       "      <td>1</td>\n",
       "      <td>16.20</td>\n",
       "    </tr>\n",
       "    <tr>\n",
       "      <th>3</th>\n",
       "      <td>Изменить структура категорий, что увеличит конверсию, т.к. пользователи быстрее найдут нужный товар</td>\n",
       "      <td>8</td>\n",
       "      <td>9.00</td>\n",
       "    </tr>\n",
       "    <tr>\n",
       "      <th>1</th>\n",
       "      <td>Запустить собственную службу доставки, что сократит срок доставки заказов</td>\n",
       "      <td>2</td>\n",
       "      <td>4.00</td>\n",
       "    </tr>\n",
       "    <tr>\n",
       "      <th>5</th>\n",
       "      <td>Добавить страницу отзывов клиентов о магазине, что позволит увеличить количество заказов</td>\n",
       "      <td>3</td>\n",
       "      <td>4.00</td>\n",
       "    </tr>\n",
       "    <tr>\n",
       "      <th>4</th>\n",
       "      <td>Изменить цвет фона главной страницы, чтобы увеличить вовлеченность пользователей</td>\n",
       "      <td>3</td>\n",
       "      <td>3.00</td>\n",
       "    </tr>\n",
       "  </tbody>\n",
       "</table>\n",
       "</div>"
      ],
      "text/plain": [
       "                                                                                                     Hypothesis  \\\n",
       "7              Добавить форму подписки на все основные страницы, чтобы собрать базу клиентов для email-рассылок   \n",
       "2  Добавить блоки рекомендаций товаров на сайт интернет магазина, чтобы повысить конверсию и средний чек заказа   \n",
       "0            Добавить два новых канала привлечения трафика, что позволит привлекать на 30% больше пользователей   \n",
       "6          Показать на главной странице баннеры с актуальными акциями и распродажами, чтобы увеличить конверсию   \n",
       "8                                                       Запустить акцию, дающую скидку на товар в день рождения   \n",
       "3           Изменить структура категорий, что увеличит конверсию, т.к. пользователи быстрее найдут нужный товар   \n",
       "1                                     Запустить собственную службу доставки, что сократит срок доставки заказов   \n",
       "5                      Добавить страницу отзывов клиентов о магазине, что позволит увеличить количество заказов   \n",
       "4                              Изменить цвет фона главной страницы, чтобы увеличить вовлеченность пользователей   \n",
       "\n",
       "   Reach   RICE  \n",
       "7     10 112.00  \n",
       "2      8  56.00  \n",
       "0      3  40.00  \n",
       "6      5  40.00  \n",
       "8      1  16.20  \n",
       "3      8   9.00  \n",
       "1      2   4.00  \n",
       "5      3   4.00  \n",
       "4      3   3.00  "
      ]
     },
     "metadata": {},
     "output_type": "display_data"
    }
   ],
   "source": [
    "hypothesis['RICE'] = hypothesis['Reach'] * hypothesis['Impact'] * hypothesis['Confidence'] / hypothesis['Efforts']\n",
    "# добавила место по RICE\n",
    "hypothesis_rice = hypothesis.sort_values(by='RICE', ascending=False).set_index(pd.Series(range(1, 10))).reset_index()\\\n",
    "                           .rename(columns={'index': 'r'})[['r', 'hipothesis_number']]\n",
    "\n",
    "hypothesis = hypothesis.merge(hypothesis_rice, on='hipothesis_number')\n",
    "\n",
    "display(hypothesis[['Hypothesis', 'Reach', 'RICE']].sort_values(by='RICE', ascending=False))"
   ]
  },
  {
   "cell_type": "markdown",
   "metadata": {},
   "source": [
    "Наиболее перспективные гипотезы по RICE: 7, 2, 0."
   ]
  },
  {
   "cell_type": "markdown",
   "metadata": {},
   "source": [
    "7 гипотеза с 3 места переместилась на 1, потому что у нее максимальный Reach=10.\n",
    "<br> 2 с 5 места переместилась на 2, потому что ее Reach=8.\n",
    "<br> Высокий Reach=8 у 3 гипотезы, но у нее низкий ICE, 8 место."
   ]
  },
  {
   "cell_type": "markdown",
   "metadata": {},
   "source": [
    "### Вывод\n",
    "Приоритизация гипотез по RICE (7, 2, 0) и ICE (8, 0, 7) не совпали, из-за высокого охвата у 7 и 2."
   ]
  },
  {
   "cell_type": "code",
   "execution_count": 20,
   "metadata": {},
   "outputs": [
    {
     "data": {
      "text/html": [
       "<div>\n",
       "<style scoped>\n",
       "    .dataframe tbody tr th:only-of-type {\n",
       "        vertical-align: middle;\n",
       "    }\n",
       "\n",
       "    .dataframe tbody tr th {\n",
       "        vertical-align: top;\n",
       "    }\n",
       "\n",
       "    .dataframe thead th {\n",
       "        text-align: right;\n",
       "    }\n",
       "</style>\n",
       "<table border=\"1\" class=\"dataframe\">\n",
       "  <thead>\n",
       "    <tr style=\"text-align: right;\">\n",
       "      <th></th>\n",
       "      <th>hipothesis_number</th>\n",
       "      <th>Hypothesis</th>\n",
       "      <th>Reach</th>\n",
       "      <th>Impact</th>\n",
       "      <th>Confidence</th>\n",
       "      <th>Efforts</th>\n",
       "      <th>ICE</th>\n",
       "      <th>i</th>\n",
       "      <th>RICE</th>\n",
       "      <th>r</th>\n",
       "    </tr>\n",
       "  </thead>\n",
       "  <tbody>\n",
       "    <tr>\n",
       "      <th>0</th>\n",
       "      <td>0</td>\n",
       "      <td>Добавить два новых канала привлечения трафика, что позволит привлекать на 30% больше пользователей</td>\n",
       "      <td>3</td>\n",
       "      <td>10</td>\n",
       "      <td>8</td>\n",
       "      <td>6</td>\n",
       "      <td>13.33</td>\n",
       "      <td>2</td>\n",
       "      <td>40.00</td>\n",
       "      <td>3</td>\n",
       "    </tr>\n",
       "    <tr>\n",
       "      <th>1</th>\n",
       "      <td>1</td>\n",
       "      <td>Запустить собственную службу доставки, что сократит срок доставки заказов</td>\n",
       "      <td>2</td>\n",
       "      <td>5</td>\n",
       "      <td>4</td>\n",
       "      <td>10</td>\n",
       "      <td>2.00</td>\n",
       "      <td>6</td>\n",
       "      <td>4.00</td>\n",
       "      <td>7</td>\n",
       "    </tr>\n",
       "    <tr>\n",
       "      <th>2</th>\n",
       "      <td>2</td>\n",
       "      <td>Добавить блоки рекомендаций товаров на сайт интернет магазина, чтобы повысить конверсию и средний чек заказа</td>\n",
       "      <td>8</td>\n",
       "      <td>3</td>\n",
       "      <td>7</td>\n",
       "      <td>3</td>\n",
       "      <td>7.00</td>\n",
       "      <td>5</td>\n",
       "      <td>56.00</td>\n",
       "      <td>2</td>\n",
       "    </tr>\n",
       "    <tr>\n",
       "      <th>3</th>\n",
       "      <td>3</td>\n",
       "      <td>Изменить структура категорий, что увеличит конверсию, т.к. пользователи быстрее найдут нужный товар</td>\n",
       "      <td>8</td>\n",
       "      <td>3</td>\n",
       "      <td>3</td>\n",
       "      <td>8</td>\n",
       "      <td>1.12</td>\n",
       "      <td>8</td>\n",
       "      <td>9.00</td>\n",
       "      <td>6</td>\n",
       "    </tr>\n",
       "    <tr>\n",
       "      <th>4</th>\n",
       "      <td>4</td>\n",
       "      <td>Изменить цвет фона главной страницы, чтобы увеличить вовлеченность пользователей</td>\n",
       "      <td>3</td>\n",
       "      <td>1</td>\n",
       "      <td>1</td>\n",
       "      <td>1</td>\n",
       "      <td>1.00</td>\n",
       "      <td>9</td>\n",
       "      <td>3.00</td>\n",
       "      <td>9</td>\n",
       "    </tr>\n",
       "    <tr>\n",
       "      <th>5</th>\n",
       "      <td>5</td>\n",
       "      <td>Добавить страницу отзывов клиентов о магазине, что позволит увеличить количество заказов</td>\n",
       "      <td>3</td>\n",
       "      <td>2</td>\n",
       "      <td>2</td>\n",
       "      <td>3</td>\n",
       "      <td>1.33</td>\n",
       "      <td>7</td>\n",
       "      <td>4.00</td>\n",
       "      <td>8</td>\n",
       "    </tr>\n",
       "    <tr>\n",
       "      <th>6</th>\n",
       "      <td>6</td>\n",
       "      <td>Показать на главной странице баннеры с актуальными акциями и распродажами, чтобы увеличить конверсию</td>\n",
       "      <td>5</td>\n",
       "      <td>3</td>\n",
       "      <td>8</td>\n",
       "      <td>3</td>\n",
       "      <td>8.00</td>\n",
       "      <td>4</td>\n",
       "      <td>40.00</td>\n",
       "      <td>4</td>\n",
       "    </tr>\n",
       "    <tr>\n",
       "      <th>7</th>\n",
       "      <td>7</td>\n",
       "      <td>Добавить форму подписки на все основные страницы, чтобы собрать базу клиентов для email-рассылок</td>\n",
       "      <td>10</td>\n",
       "      <td>7</td>\n",
       "      <td>8</td>\n",
       "      <td>5</td>\n",
       "      <td>11.20</td>\n",
       "      <td>3</td>\n",
       "      <td>112.00</td>\n",
       "      <td>1</td>\n",
       "    </tr>\n",
       "    <tr>\n",
       "      <th>8</th>\n",
       "      <td>8</td>\n",
       "      <td>Запустить акцию, дающую скидку на товар в день рождения</td>\n",
       "      <td>1</td>\n",
       "      <td>9</td>\n",
       "      <td>9</td>\n",
       "      <td>5</td>\n",
       "      <td>16.20</td>\n",
       "      <td>1</td>\n",
       "      <td>16.20</td>\n",
       "      <td>5</td>\n",
       "    </tr>\n",
       "  </tbody>\n",
       "</table>\n",
       "</div>"
      ],
      "text/plain": [
       "   hipothesis_number  \\\n",
       "0                  0   \n",
       "1                  1   \n",
       "2                  2   \n",
       "3                  3   \n",
       "4                  4   \n",
       "5                  5   \n",
       "6                  6   \n",
       "7                  7   \n",
       "8                  8   \n",
       "\n",
       "                                                                                                     Hypothesis  \\\n",
       "0            Добавить два новых канала привлечения трафика, что позволит привлекать на 30% больше пользователей   \n",
       "1                                     Запустить собственную службу доставки, что сократит срок доставки заказов   \n",
       "2  Добавить блоки рекомендаций товаров на сайт интернет магазина, чтобы повысить конверсию и средний чек заказа   \n",
       "3           Изменить структура категорий, что увеличит конверсию, т.к. пользователи быстрее найдут нужный товар   \n",
       "4                              Изменить цвет фона главной страницы, чтобы увеличить вовлеченность пользователей   \n",
       "5                      Добавить страницу отзывов клиентов о магазине, что позволит увеличить количество заказов   \n",
       "6          Показать на главной странице баннеры с актуальными акциями и распродажами, чтобы увеличить конверсию   \n",
       "7              Добавить форму подписки на все основные страницы, чтобы собрать базу клиентов для email-рассылок   \n",
       "8                                                       Запустить акцию, дающую скидку на товар в день рождения   \n",
       "\n",
       "   Reach  Impact  Confidence  Efforts   ICE  i   RICE  r  \n",
       "0      3      10           8        6 13.33  2  40.00  3  \n",
       "1      2       5           4       10  2.00  6   4.00  7  \n",
       "2      8       3           7        3  7.00  5  56.00  2  \n",
       "3      8       3           3        8  1.12  8   9.00  6  \n",
       "4      3       1           1        1  1.00  9   3.00  9  \n",
       "5      3       2           2        3  1.33  7   4.00  8  \n",
       "6      5       3           8        3  8.00  4  40.00  4  \n",
       "7     10       7           8        5 11.20  3 112.00  1  \n",
       "8      1       9           9        5 16.20  1  16.20  5  "
      ]
     },
     "execution_count": 20,
     "metadata": {},
     "output_type": "execute_result"
    }
   ],
   "source": [
    "hypothesis"
   ]
  },
  {
   "cell_type": "code",
   "execution_count": 21,
   "metadata": {},
   "outputs": [
    {
     "data": {
      "image/png": "[encoded data removed]",
      "text/plain": [
       "<Figure size 1080x504 with 2 Axes>"
      ]
     },
     "metadata": {
      "needs_background": "light"
     },
     "output_type": "display_data"
    }
   ],
   "source": [
    "plt.figure(figsize=(15, 7))\n",
    "ax1 = plt.subplot(1, 2, 1)\n",
    "for  ind in hypothesis.hipothesis_number:\n",
    "      \n",
    "    i = hypothesis.loc[ind, 'i']\n",
    "    r = hypothesis.loc[ind, 'r']\n",
    "    if r != i:\n",
    "        plt.arrow(ind, i, 0, r-i, head_width = 0.1, length_includes_head = True, width = 0.01)\n",
    "        plt.text(ind+0.02, i, 'i', fontsize=15)\n",
    "        plt.text(ind+0.02, r, 'r', fontsize=15)\n",
    "    else:\n",
    "        plt.plot(ind, i, marker='o')\n",
    "        plt.text(ind, i, 'i=r', fontsize=15)\n",
    "plt.grid(True)\n",
    "plt.xlim(-1, 9)\n",
    "plt.xticks(range(len(hypothesis)))\n",
    "plt.title('Изменение рейтинга гипотез по ICE и RICE')\n",
    "plt.xlabel('Номер гипотезы')\n",
    "plt.ylabel('Рейтинг')\n",
    "\n",
    "ax2 = plt.subplot(1, 2, 2)\n",
    "hypothesis.plot(x='hipothesis_number', y=['i', 'r'], kind='bar', grid=True, \n",
    "                        title='Рейтинг гипотез по ICE и RICE', ax=ax2)\n",
    "plt.xlabel('Номер гипотезы')\n",
    "plt.ylabel('Рейтинг')\n",
    "plt.show(); "
   ]
  },
  {
   "cell_type": "markdown",
   "metadata": {},
   "source": [
    "## Анализ A/B-теста"
   ]
  },
  {
   "cell_type": "markdown",
   "metadata": {},
   "source": [
    "### Анализ кумулятивной выручки по группам"
   ]
  },
  {
   "cell_type": "markdown",
   "metadata": {},
   "source": [
    "Сначала соберу кумулятивные данные в датафрейм."
   ]
  },
  {
   "cell_type": "code",
   "execution_count": 22,
   "metadata": {},
   "outputs": [],
   "source": [
    "# создаю массив уникальных пар значений дат и групп теста\n",
    "dates_groups = orders[['date','group']].drop_duplicates()"
   ]
  },
  {
   "cell_type": "code",
   "execution_count": 23,
   "metadata": {},
   "outputs": [],
   "source": [
    "# получаю агрегированные кумулятивные по дням данные о заказах \n",
    "orders_aggregated = dates_groups.apply(lambda x: orders[np.logical_and(orders['date'] <= x['date'], orders['group'] == x['group'])]\\\n",
    "                              .agg({'date' : 'max', 'group' : 'max', 'transaction_id' : 'nunique', 'visitor_id' : 'nunique', \n",
    "                                    'revenue' : 'sum'}), axis=1)\\\n",
    "                              .sort_values(by=['date','group'])"
   ]
  },
  {
   "cell_type": "code",
   "execution_count": 24,
   "metadata": {},
   "outputs": [],
   "source": [
    "# получаю агрегированные кумулятивные по дням данные о посетителях интернет-магазина \n",
    "visitors_aggregated = dates_groups.apply(lambda x: visitors[np.logical_and(visitors['date'] <= x['date'], \n",
    "                                                                         visitors['group'] == x['group'])]\\\n",
    "                                .agg({'date' : 'max', 'group' : 'max', 'visitors' : 'sum'}), axis=1)\\\n",
    "                                .sort_values(by=['date','group'])"
   ]
  },
  {
   "cell_type": "code",
   "execution_count": 25,
   "metadata": {},
   "outputs": [],
   "source": [
    "# объединяю кумулятивные данные в одной таблице и присваиваю ее столбцам понятные названия\n",
    "cumulative_data = orders_aggregated.merge(visitors_aggregated, left_on=['date', 'group'], right_on=['date', 'group'])\n",
    "cumulative_data.columns = ['date', 'group', 'orders', 'buyers', 'revenue', 'visitors']"
   ]
  },
  {
   "cell_type": "code",
   "execution_count": 26,
   "metadata": {},
   "outputs": [
    {
     "data": {
      "text/html": [
       "<div>\n",
       "<style scoped>\n",
       "    .dataframe tbody tr th:only-of-type {\n",
       "        vertical-align: middle;\n",
       "    }\n",
       "\n",
       "    .dataframe tbody tr th {\n",
       "        vertical-align: top;\n",
       "    }\n",
       "\n",
       "    .dataframe thead th {\n",
       "        text-align: right;\n",
       "    }\n",
       "</style>\n",
       "<table border=\"1\" class=\"dataframe\">\n",
       "  <thead>\n",
       "    <tr style=\"text-align: right;\">\n",
       "      <th></th>\n",
       "      <th>date</th>\n",
       "      <th>group</th>\n",
       "      <th>orders</th>\n",
       "      <th>buyers</th>\n",
       "      <th>revenue</th>\n",
       "      <th>visitors</th>\n",
       "    </tr>\n",
       "  </thead>\n",
       "  <tbody>\n",
       "    <tr>\n",
       "      <th>0</th>\n",
       "      <td>2019-08-01</td>\n",
       "      <td>A</td>\n",
       "      <td>24</td>\n",
       "      <td>20</td>\n",
       "      <td>148579</td>\n",
       "      <td>719</td>\n",
       "    </tr>\n",
       "    <tr>\n",
       "      <th>1</th>\n",
       "      <td>2019-08-01</td>\n",
       "      <td>B</td>\n",
       "      <td>21</td>\n",
       "      <td>20</td>\n",
       "      <td>101217</td>\n",
       "      <td>713</td>\n",
       "    </tr>\n",
       "    <tr>\n",
       "      <th>2</th>\n",
       "      <td>2019-08-02</td>\n",
       "      <td>A</td>\n",
       "      <td>44</td>\n",
       "      <td>38</td>\n",
       "      <td>242401</td>\n",
       "      <td>1338</td>\n",
       "    </tr>\n",
       "    <tr>\n",
       "      <th>3</th>\n",
       "      <td>2019-08-02</td>\n",
       "      <td>B</td>\n",
       "      <td>45</td>\n",
       "      <td>43</td>\n",
       "      <td>266748</td>\n",
       "      <td>1294</td>\n",
       "    </tr>\n",
       "    <tr>\n",
       "      <th>4</th>\n",
       "      <td>2019-08-03</td>\n",
       "      <td>A</td>\n",
       "      <td>68</td>\n",
       "      <td>62</td>\n",
       "      <td>354874</td>\n",
       "      <td>1845</td>\n",
       "    </tr>\n",
       "  </tbody>\n",
       "</table>\n",
       "</div>"
      ],
      "text/plain": [
       "        date group  orders  buyers  revenue  visitors\n",
       "0 2019-08-01     A      24      20   148579       719\n",
       "1 2019-08-01     B      21      20   101217       713\n",
       "2 2019-08-02     A      44      38   242401      1338\n",
       "3 2019-08-02     B      45      43   266748      1294\n",
       "4 2019-08-03     A      68      62   354874      1845"
      ]
     },
     "execution_count": 26,
     "metadata": {},
     "output_type": "execute_result"
    }
   ],
   "source": [
    "#Датафрейм с кумулятивными данными\n",
    "cumulative_data.head()"
   ]
  },
  {
   "cell_type": "markdown",
   "metadata": {},
   "source": [
    "Описание таблицы:\n",
    "- date — дата;\n",
    "- group — группа A/B-теста (A или B);\n",
    "- orders — кумулятивное количество заказов на указанную дату в указанной группе;\n",
    "- buyers — кумулятивное количество пользователей, совершивших хотя бы один заказ, на указанную дату в указанной группе;\n",
    "- revenue — кумулятивная выручка на указанную дату в указанной группе (средний чек);\n",
    "- visitors — кумулятивное количество посетителей интернет-магазина на указанную дату в определённой группе."
   ]
  },
  {
   "cell_type": "markdown",
   "metadata": {},
   "source": [
    "Чтобы построить графики кумулятивной выручки по дням и группам A/B-тестирования, нужно разделить датафрейм на 2 по группам."
   ]
  },
  {
   "cell_type": "code",
   "execution_count": 27,
   "metadata": {},
   "outputs": [],
   "source": [
    "# датафрейм с кумулятивным количеством заказов и кумулятивной выручкой по дням в группе А\n",
    "cumulative_revenue_a = cumulative_data[cumulative_data['group']=='A'][['date','revenue', 'orders']]"
   ]
  },
  {
   "cell_type": "code",
   "execution_count": 28,
   "metadata": {},
   "outputs": [],
   "source": [
    "# датафрейм с кумулятивным количеством заказов и кумулятивной выручкой по дням в группе B\n",
    "cumulative_revenue_b = cumulative_data[cumulative_data['group']=='B'][['date','revenue', 'orders']]"
   ]
  },
  {
   "cell_type": "code",
   "execution_count": 29,
   "metadata": {},
   "outputs": [
    {
     "data": {
      "image/png": "[encoded data removed]",
      "text/plain": [
       "<Figure size 1080x504 with 1 Axes>"
      ]
     },
     "metadata": {
      "needs_background": "light"
     },
     "output_type": "display_data"
    }
   ],
   "source": [
    "# Строю графики\n",
    "plt.figure(figsize=(15, 7))\n",
    "# график выручки группы А\n",
    "plt.plot(cumulative_revenue_a['date'], cumulative_revenue_a['revenue'], label='A')\n",
    "\n",
    "# график выручки группы B\n",
    "plt.plot(cumulative_revenue_b['date'], cumulative_revenue_b['revenue'], label='B')\n",
    "\n",
    "plt.legend()\n",
    "plt.xlabel('Дата')\n",
    "plt.ylabel('Кумулятивная выручка')\n",
    "plt.title('График кумулятивной выручки по группам');"
   ]
  },
  {
   "cell_type": "markdown",
   "metadata": {},
   "source": [
    "#### Вывод:\n",
    "1. В группе А выручка равномерно увеличивается в течение всего теста.\n",
    "2. В группе В есть резкий скачок 18.08.19. Это может сигнализировать о всплесках числа заказов, либо о появлении очень дорогих заказов в выборке.\n",
    "3. Выручка группы В выше выручки группы А."
   ]
  },
  {
   "cell_type": "markdown",
   "metadata": {},
   "source": [
    "### Анализ кумулятивного среднего чека по группам"
   ]
  },
  {
   "cell_type": "markdown",
   "metadata": {},
   "source": [
    "Чтобы построить график среднего чека по группам — разделю кумулятивную выручку на кумулятивное число заказов"
   ]
  },
  {
   "cell_type": "code",
   "execution_count": 30,
   "metadata": {},
   "outputs": [
    {
     "data": {
      "image/png": "[encoded data removed]",
      "text/plain": [
       "<Figure size 1080x504 with 1 Axes>"
      ]
     },
     "metadata": {
      "needs_background": "light"
     },
     "output_type": "display_data"
    }
   ],
   "source": [
    "plt.figure(figsize=(15, 7))\n",
    "\n",
    "# график среднего чека группы А\n",
    "plt.plot(cumulative_revenue_a['date'], cumulative_revenue_a['revenue']/cumulative_revenue_a['orders'], label='A')\n",
    "# график среднего чека группы B\n",
    "plt.plot(cumulative_revenue_b['date'], cumulative_revenue_b['revenue']/cumulative_revenue_b['orders'], label='B')\n",
    "\n",
    "plt.legend()\n",
    "plt.xlabel('Дата')\n",
    "plt.ylabel('Средний чек')\n",
    "plt.title('График среднего чека по группам');"
   ]
  },
  {
   "cell_type": "markdown",
   "metadata": {},
   "source": [
    "#### Вывод:\n",
    "1. В начале теста есть спад, а затем рост среднего чека для группы А, но к концу теста он становится равномерным.\n",
    "2. Для группы В есть резкий скачок 18.08.19, видимо, в эту дату были крупные заказы. После этого график пошел на спад.\n",
    "Поэтому группе В нужно больше времени, чтобы прийти к реальному среднему чеку и установиться на его уровне."
   ]
  },
  {
   "cell_type": "markdown",
   "metadata": {},
   "source": [
    "### Анализ изменения кумулятивного среднего чека группы B к группе A"
   ]
  },
  {
   "cell_type": "code",
   "execution_count": 31,
   "metadata": {},
   "outputs": [],
   "source": [
    "# собираю данные в одном датафрейме\n",
    "merged_cumulative_revenue = cumulative_revenue_a.merge(cumulative_revenue_b, left_on='date', right_on='date', how='left', \n",
    "                                                   suffixes=['_a', '_b'])"
   ]
  },
  {
   "cell_type": "code",
   "execution_count": 32,
   "metadata": {},
   "outputs": [
    {
     "data": {
      "image/png": "[encoded data removed]",
      "text/plain": [
       "<Figure size 1080x504 with 1 Axes>"
      ]
     },
     "metadata": {
      "needs_background": "light"
     },
     "output_type": "display_data"
    }
   ],
   "source": [
    "# строю график\n",
    "\n",
    "plt.figure(figsize=(15, 7))\n",
    "\n",
    "# cтрою отношение средних чеков\n",
    "plt.plot(merged_cumulative_revenue['date'], ((merged_cumulative_revenue['revenue_b']/merged_cumulative_revenue['orders_b'])/\n",
    "                                           (merged_cumulative_revenue['revenue_a']/merged_cumulative_revenue['orders_a'])-1))\n",
    "\n",
    "# добавляю ось X\n",
    "plt.axhline(y=0, color='black', linestyle='--') \n",
    "\n",
    "plt.xlabel('Дата')\n",
    "plt.ylabel('Отношение среднего чека группы В к среднему чеку группы А')\n",
    "plt.title('График относительного изменения кумулятивного среднего чека группы B к группе A');"
   ]
  },
  {
   "cell_type": "markdown",
   "metadata": {},
   "source": [
    "#### Вывод:\n",
    "В нескольких точках график различия между сегментами резко меняется. Значит, есть крупные заказы и выбросы."
   ]
  },
  {
   "cell_type": "markdown",
   "metadata": {},
   "source": [
    "### Анализ кумулятивной конверсии по группам"
   ]
  },
  {
   "cell_type": "code",
   "execution_count": 33,
   "metadata": {},
   "outputs": [],
   "source": [
    "# считаю кумулятивную конверсию\n",
    "cumulative_data['conversion'] = cumulative_data['orders']/cumulative_data['visitors']\n",
    "\n",
    "# отделяю данные по группе A\n",
    "cumulative_data_a = cumulative_data[cumulative_data['group']=='A']\n",
    "\n",
    "# отделяю данные по группе B\n",
    "cumulative_data_b = cumulative_data[cumulative_data['group']=='B']"
   ]
  },
  {
   "cell_type": "code",
   "execution_count": 34,
   "metadata": {},
   "outputs": [
    {
     "data": {
      "image/png": "[encoded data removed]",
      "text/plain": [
       "<Figure size 1080x504 with 1 Axes>"
      ]
     },
     "metadata": {
      "needs_background": "light"
     },
     "output_type": "display_data"
    }
   ],
   "source": [
    "# строю графики\n",
    "\n",
    "plt.figure(figsize=(15, 7))\n",
    "\n",
    "plt.plot(cumulative_data_a['date'], cumulative_data_a['conversion'], label='A')\n",
    "plt.plot(cumulative_data_b['date'], cumulative_data_b['conversion'], label='B')\n",
    "plt.legend()\n",
    "\n",
    "\n",
    "plt.ylim(0, 0.04) \n",
    "plt.xlabel('Дата')\n",
    "plt.ylabel('Кумулятивная конверсия')\n",
    "plt.title('График кумулятивной конверсии по группам');"
   ]
  },
  {
   "cell_type": "markdown",
   "metadata": {},
   "source": [
    "#### Вывод:\n",
    "Сначала в обеих группах был скачок. Затем конверсия в группах установилась около одного значения, при этом конверсия группы A просела, стала ниже, чем в В. Конверсия группы B выросла и потом зафиксировалась."
   ]
  },
  {
   "cell_type": "markdown",
   "metadata": {},
   "source": [
    "### Анализ относительного изменения кумулятивной конверсии группы B к группе A"
   ]
  },
  {
   "cell_type": "code",
   "execution_count": 35,
   "metadata": {},
   "outputs": [],
   "source": [
    "merged_cumulative_conversions = cumulative_data_a[['date','conversion']].merge(cumulative_data_b[['date','conversion']], \n",
    "                                                                           left_on='date', right_on='date', how='left', \n",
    "                                                                           suffixes=['_a', '_b'])"
   ]
  },
  {
   "cell_type": "code",
   "execution_count": 36,
   "metadata": {},
   "outputs": [
    {
     "data": {
      "image/png": "[encoded data removed]",
      "text/plain": [
       "<Figure size 1080x504 with 1 Axes>"
      ]
     },
     "metadata": {
      "needs_background": "light"
     },
     "output_type": "display_data"
    }
   ],
   "source": [
    "# строю график\n",
    "\n",
    "plt.figure(figsize=(15, 7))\n",
    "\n",
    "plt.plot(merged_cumulative_conversions['date'], (merged_cumulative_conversions['conversion_b']/\n",
    "                                               merged_cumulative_conversions['conversion_a']-1))\n",
    "\n",
    "plt.axhline(y=0, color='black', linestyle='--')\n",
    "plt.axhline(y=0.1, color='grey', linestyle='--')\n",
    "\n",
    "plt.ylim(-0.3, 0.3) \n",
    "plt.xlabel('Дата')\n",
    "plt.ylabel('Отношение конверсии группы В к конверсии группы А')\n",
    "plt.title('Относительный прирост конверсии группы B относительно группы A');"
   ]
  },
  {
   "cell_type": "markdown",
   "metadata": {},
   "source": [
    "#### Вывод:\n",
    "В начале теста группа B проигрывала группе A, затем вырвалась вперёд. Потом её конверсия снова стала падать. \n",
    "Отношение конверсии ещё не установилось, поэтому делать какие-либо выводы по тесту нельзя. Нужно проанализировать аномалии."
   ]
  },
  {
   "cell_type": "markdown",
   "metadata": {},
   "source": [
    "### Анализ количества заказов по пользователям"
   ]
  },
  {
   "cell_type": "code",
   "execution_count": 37,
   "metadata": {},
   "outputs": [
    {
     "data": {
      "text/html": [
       "<div>\n",
       "<style scoped>\n",
       "    .dataframe tbody tr th:only-of-type {\n",
       "        vertical-align: middle;\n",
       "    }\n",
       "\n",
       "    .dataframe tbody tr th {\n",
       "        vertical-align: top;\n",
       "    }\n",
       "\n",
       "    .dataframe thead th {\n",
       "        text-align: right;\n",
       "    }\n",
       "</style>\n",
       "<table border=\"1\" class=\"dataframe\">\n",
       "  <thead>\n",
       "    <tr style=\"text-align: right;\">\n",
       "      <th></th>\n",
       "      <th>user_id</th>\n",
       "      <th>orders</th>\n",
       "    </tr>\n",
       "  </thead>\n",
       "  <tbody>\n",
       "    <tr>\n",
       "      <th>1023</th>\n",
       "      <td>4256040402</td>\n",
       "      <td>11</td>\n",
       "    </tr>\n",
       "    <tr>\n",
       "      <th>591</th>\n",
       "      <td>2458001652</td>\n",
       "      <td>11</td>\n",
       "    </tr>\n",
       "    <tr>\n",
       "      <th>569</th>\n",
       "      <td>2378935119</td>\n",
       "      <td>9</td>\n",
       "    </tr>\n",
       "    <tr>\n",
       "      <th>487</th>\n",
       "      <td>2038680547</td>\n",
       "      <td>8</td>\n",
       "    </tr>\n",
       "    <tr>\n",
       "      <th>44</th>\n",
       "      <td>199603092</td>\n",
       "      <td>5</td>\n",
       "    </tr>\n",
       "  </tbody>\n",
       "</table>\n",
       "</div>"
      ],
      "text/plain": [
       "         user_id  orders\n",
       "1023  4256040402      11\n",
       "591   2458001652      11\n",
       "569   2378935119       9\n",
       "487   2038680547       8\n",
       "44     199603092       5"
      ]
     },
     "execution_count": 37,
     "metadata": {},
     "output_type": "execute_result"
    }
   ],
   "source": [
    "# количество заказов по пользователям\n",
    "orders_by_users = (orders.groupby('visitor_id', as_index=False).agg({'transaction_id': 'nunique'}))\n",
    "orders_by_users.columns = ['user_id', 'orders']\n",
    "orders_by_users.sort_values(by='orders', ascending=False).head()"
   ]
  },
  {
   "cell_type": "code",
   "execution_count": 38,
   "metadata": {},
   "outputs": [
    {
     "data": {
      "image/png": "[encoded data removed]",
      "text/plain": [
       "<Figure size 1080x504 with 2 Axes>"
      ]
     },
     "metadata": {
      "needs_background": "light"
     },
     "output_type": "display_data"
    }
   ],
   "source": [
    "# построю гистограмму и скаттерплот\n",
    "plt.figure(figsize=(15, 7))\n",
    "\n",
    "ax1 = plt.subplot(1, 2, 1)\n",
    "plt.hist(orders_by_users['orders'])\n",
    "plt.xlabel('Число заказов')\n",
    "plt.title('Гистрограмма распределения количества заказов на одного пользователя')\n",
    "\n",
    "ax2 = plt.subplot(1, 2, 2)\n",
    "x_values = pd.Series(range(0, len(orders_by_users)))\n",
    "plt.scatter(x_values, orders_by_users['orders']) \n",
    "plt.ylabel('Число заказов')\n",
    "plt.title('Точечная диаграмма числа заказов на одного пользователя');"
   ]
  },
  {
   "cell_type": "markdown",
   "metadata": {},
   "source": [
    "#### Вывод:\n",
    "Большинство покупателей заказывали только один раз. Однако доля пользователей с 2-3 заказами тоже значительна. Их точная доля не ясна — непонятно, считать их аномалиями или нет."
   ]
  },
  {
   "cell_type": "markdown",
   "metadata": {},
   "source": [
    "### Выбор границы для определения аномальных пользователей"
   ]
  },
  {
   "cell_type": "markdown",
   "metadata": {},
   "source": [
    "Посчитаю 95-й и 99-й перцентили количества заказов на пользователя"
   ]
  },
  {
   "cell_type": "code",
   "execution_count": 39,
   "metadata": {},
   "outputs": [
    {
     "name": "stdout",
     "output_type": "stream",
     "text": [
      "[2. 4.]\n"
     ]
    }
   ],
   "source": [
    "print(np.percentile(orders_by_users['orders'], [95, 99])) "
   ]
  },
  {
   "cell_type": "markdown",
   "metadata": {},
   "source": [
    "#### Вывод:\n",
    "Не более 1% пользователей оформляли больше чем 4 заказа. И 5% пользователей заказывали не более 2 раз.\n",
    "Разумно выбрать 2 заказа на одного пользователя за нижнюю границу числа заказов, и отсеять аномальных пользователей по ней."
   ]
  },
  {
   "cell_type": "markdown",
   "metadata": {},
   "source": [
    "### Анализ стоимости заказов"
   ]
  },
  {
   "cell_type": "markdown",
   "metadata": {},
   "source": [
    "Выведу топ-5 дорогих заказов"
   ]
  },
  {
   "cell_type": "code",
   "execution_count": 40,
   "metadata": {},
   "outputs": [
    {
     "data": {
      "text/plain": [
       "425     1294500\n",
       "1196     202740\n",
       "858       93940\n",
       "1136      92550\n",
       "744       86620\n",
       "Name: revenue, dtype: int64"
      ]
     },
     "execution_count": 40,
     "metadata": {},
     "output_type": "execute_result"
    }
   ],
   "source": [
    "orders['revenue'].sort_values(ascending=False).head()"
   ]
  },
  {
   "cell_type": "code",
   "execution_count": 41,
   "metadata": {},
   "outputs": [
    {
     "data": {
      "image/png": "[encoded data removed]",
      "text/plain": [
       "<Figure size 1080x504 with 2 Axes>"
      ]
     },
     "metadata": {
      "needs_background": "light"
     },
     "output_type": "display_data"
    }
   ],
   "source": [
    "# построю гистограмму и скаттерплот\n",
    "plt.figure(figsize=(15, 7))\n",
    "\n",
    "ax1 = plt.subplot(1, 2, 1)\n",
    "plt.hist(orders['revenue'])\n",
    "plt.xlabel('Стоимость заказов')\n",
    "plt.title('Гистрограмма распределения стоимости заказов')\n",
    "\n",
    "ax2 = plt.subplot(1, 2, 2)\n",
    "x_values = pd.Series(range(0, len(orders)))\n",
    "plt.scatter(x_values, orders['revenue']) \n",
    "plt.ylabel('Стоимость заказов')\n",
    "plt.title('Точечная диаграмма стоимости заказов');"
   ]
  },
  {
   "cell_type": "markdown",
   "metadata": {},
   "source": [
    "#### Вывод:\n",
    "В данных есть заказы дороже 20 000 — например, около 120 000 рублей. Однако большинство всё-таки имеет меньшую выручку.Всё, как предполагали: есть немного дорогих заказов. По графику можно выбрать границу аномальных заказов до 20 000."
   ]
  },
  {
   "cell_type": "markdown",
   "metadata": {},
   "source": [
    "### Выбор границы для определения аномальных заказов"
   ]
  },
  {
   "cell_type": "markdown",
   "metadata": {},
   "source": [
    "Посчитаю 95-й и 99-й перцентили стоимости заказов"
   ]
  },
  {
   "cell_type": "code",
   "execution_count": 42,
   "metadata": {},
   "outputs": [
    {
     "name": "stdout",
     "output_type": "stream",
     "text": [
      "[28000.  58233.2]\n"
     ]
    }
   ],
   "source": [
    "print(np.percentile(orders['revenue'], [95, 99])) "
   ]
  },
  {
   "cell_type": "markdown",
   "metadata": {},
   "source": [
    "#### Вывод:\n",
    "Не более 5% заказов дороже 28000 рублей и не более 1% дороже 58233.2 рублей. Границу аномальных заказов оставлю до 20000."
   ]
  },
  {
   "cell_type": "markdown",
   "metadata": {},
   "source": [
    "### Анализ статистической значимости различий в конверсии между группами по «сырым» данным"
   ]
  },
  {
   "cell_type": "markdown",
   "metadata": {},
   "source": [
    "Для расчета статичтической значимости я буду использовать непараметрический тест Уилкоксона-Манна-Уитни, чтобы исключить влияние выбросов на результат.\n",
    "<br> В Python этот тест реализован в методе stats.mannwhitneyu() в библиотеке scipy.stats.\n",
    "<br> Критический уровень стат значимости приму = 5%."
   ]
  },
  {
   "cell_type": "markdown",
   "metadata": {},
   "source": [
    "Для расчета статистической значимости нужно подготовить данные"
   ]
  },
  {
   "cell_type": "code",
   "execution_count": 43,
   "metadata": {},
   "outputs": [
    {
     "data": {
      "text/html": [
       "<div>\n",
       "<style scoped>\n",
       "    .dataframe tbody tr th:only-of-type {\n",
       "        vertical-align: middle;\n",
       "    }\n",
       "\n",
       "    .dataframe tbody tr th {\n",
       "        vertical-align: top;\n",
       "    }\n",
       "\n",
       "    .dataframe thead th {\n",
       "        text-align: right;\n",
       "    }\n",
       "</style>\n",
       "<table border=\"1\" class=\"dataframe\">\n",
       "  <thead>\n",
       "    <tr style=\"text-align: right;\">\n",
       "      <th></th>\n",
       "      <th>date</th>\n",
       "      <th>visitorsCummulative_a</th>\n",
       "    </tr>\n",
       "  </thead>\n",
       "  <tbody>\n",
       "    <tr>\n",
       "      <th>0</th>\n",
       "      <td>2019-08-01</td>\n",
       "      <td>719</td>\n",
       "    </tr>\n",
       "    <tr>\n",
       "      <th>1</th>\n",
       "      <td>2019-08-02</td>\n",
       "      <td>1338</td>\n",
       "    </tr>\n",
       "    <tr>\n",
       "      <th>2</th>\n",
       "      <td>2019-08-03</td>\n",
       "      <td>1845</td>\n",
       "    </tr>\n",
       "    <tr>\n",
       "      <th>3</th>\n",
       "      <td>2019-08-04</td>\n",
       "      <td>2562</td>\n",
       "    </tr>\n",
       "    <tr>\n",
       "      <th>4</th>\n",
       "      <td>2019-08-05</td>\n",
       "      <td>3318</td>\n",
       "    </tr>\n",
       "  </tbody>\n",
       "</table>\n",
       "</div>"
      ],
      "text/plain": [
       "        date  visitorsCummulative_a\n",
       "0 2019-08-01                    719\n",
       "1 2019-08-02                   1338\n",
       "2 2019-08-03                   1845\n",
       "3 2019-08-04                   2562\n",
       "4 2019-08-05                   3318"
      ]
     },
     "execution_count": 43,
     "metadata": {},
     "output_type": "execute_result"
    }
   ],
   "source": [
    "# создаю массив уникальных пар значений дат и посетителей группы А\n",
    "visitors_a_daily = visitors[visitors['group'] == 'A'][['date', 'visitors']]\n",
    "visitors_a_daily.columns = ['date', 'visitors_per_date_a']\n",
    "\n",
    "# получаю агрегированные кумулятивные по дням данные о посетителях интернет-магазина\n",
    "visitors_a_cummulative = visitors_a_daily.apply(lambda x: visitors_a_daily[visitors_a_daily['date'] <= x['date']]\n",
    "                                                                    .agg({'date': 'max', 'visitors_per_date_a': 'sum'}), axis=1,)\n",
    "visitors_a_cummulative.columns = ['date', 'visitorsCummulative_a']\n",
    "\n",
    "visitors_a_cummulative.head()"
   ]
  },
  {
   "cell_type": "code",
   "execution_count": 44,
   "metadata": {
    "scrolled": true
   },
   "outputs": [
    {
     "data": {
      "text/html": [
       "<div>\n",
       "<style scoped>\n",
       "    .dataframe tbody tr th:only-of-type {\n",
       "        vertical-align: middle;\n",
       "    }\n",
       "\n",
       "    .dataframe tbody tr th {\n",
       "        vertical-align: top;\n",
       "    }\n",
       "\n",
       "    .dataframe thead th {\n",
       "        text-align: right;\n",
       "    }\n",
       "</style>\n",
       "<table border=\"1\" class=\"dataframe\">\n",
       "  <thead>\n",
       "    <tr style=\"text-align: right;\">\n",
       "      <th></th>\n",
       "      <th>date</th>\n",
       "      <th>visitors_cummulative_b</th>\n",
       "    </tr>\n",
       "  </thead>\n",
       "  <tbody>\n",
       "    <tr>\n",
       "      <th>31</th>\n",
       "      <td>2019-08-01</td>\n",
       "      <td>713</td>\n",
       "    </tr>\n",
       "    <tr>\n",
       "      <th>32</th>\n",
       "      <td>2019-08-02</td>\n",
       "      <td>1294</td>\n",
       "    </tr>\n",
       "    <tr>\n",
       "      <th>33</th>\n",
       "      <td>2019-08-03</td>\n",
       "      <td>1803</td>\n",
       "    </tr>\n",
       "    <tr>\n",
       "      <th>34</th>\n",
       "      <td>2019-08-04</td>\n",
       "      <td>2573</td>\n",
       "    </tr>\n",
       "    <tr>\n",
       "      <th>35</th>\n",
       "      <td>2019-08-05</td>\n",
       "      <td>3280</td>\n",
       "    </tr>\n",
       "  </tbody>\n",
       "</table>\n",
       "</div>"
      ],
      "text/plain": [
       "         date  visitors_cummulative_b\n",
       "31 2019-08-01                     713\n",
       "32 2019-08-02                    1294\n",
       "33 2019-08-03                    1803\n",
       "34 2019-08-04                    2573\n",
       "35 2019-08-05                    3280"
      ]
     },
     "execution_count": 44,
     "metadata": {},
     "output_type": "execute_result"
    }
   ],
   "source": [
    "# создаю массив уникальных пар значений дат и посетителей группы B\n",
    "visitors_b_daily = visitors[visitors['group'] == 'B'][['date', 'visitors']]\n",
    "visitors_b_daily.columns = ['date', 'visitors_per_date_b']\n",
    "\n",
    "# получаю агрегированные кумулятивные по дням данные о посетителях интернет-магазина\n",
    "visitors_b_cummulative = visitors_b_daily.apply(lambda x: visitors_b_daily[visitors_b_daily['date'] <= x['date']]\n",
    "                                                                    .agg({'date': 'max', 'visitors_per_date_b': 'sum'}), axis=1,)\n",
    "visitors_b_cummulative.columns = ['date', 'visitors_cummulative_b']\n",
    "\n",
    "visitors_b_cummulative.head()"
   ]
  },
  {
   "cell_type": "code",
   "execution_count": 45,
   "metadata": {},
   "outputs": [],
   "source": [
    "# получаю данные заказов по датам для группы А\n",
    "orders_a_daily = (\n",
    "    orders[orders['group'] == 'A'][['date', 'transaction_id', 'visitor_id', 'revenue']]\n",
    "    .groupby('date', as_index=False)\n",
    "    .agg({'transaction_id': pd.Series.nunique, 'revenue': 'sum'})\n",
    ")\n",
    "orders_a_daily.columns = ['date', 'orders_per_date_a', 'revenue_per_date_a']\n",
    "\n",
    "# получаю агрегированные кумулятивные по дням данные о заказах для группы А\n",
    "orders_a_cummulative = orders_a_daily.apply(\n",
    "    lambda x: orders_a_daily[orders_a_daily['date'] <= x['date']].agg(\n",
    "        {'date': 'max', 'orders_per_date_a': 'sum', 'revenue_per_date_a': 'sum'}\n",
    "    ),\n",
    "    axis=1,\n",
    ").sort_values(by=['date'])\n",
    "orders_a_cummulative.columns = ['date', 'orders_cummulative_a', 'revenue_cummulative_a']"
   ]
  },
  {
   "cell_type": "code",
   "execution_count": 46,
   "metadata": {},
   "outputs": [],
   "source": [
    "# получаю данные заказов по датам для группы B\n",
    "orders_b_daily = (\n",
    "    orders[orders['group'] == 'B'][['date', 'transaction_id', 'visitor_id', 'revenue']]\n",
    "    .groupby('date', as_index=False)\n",
    "    .agg({'transaction_id': pd.Series.nunique, 'revenue': 'sum'})\n",
    ")\n",
    "orders_b_daily.columns = ['date', 'orders_per_date_b', 'revenue_per_date_b']\n",
    "\n",
    "# получаю агрегированные кумулятивные по дням данные о заказах для группы B\n",
    "orders_b_cummulative = orders_b_daily.apply(\n",
    "    lambda x: orders_b_daily[orders_b_daily['date'] <= x['date']].agg(\n",
    "        {'date': 'max', 'orders_per_date_b': 'sum', 'revenue_per_date_b': 'sum'}\n",
    "    ),\n",
    "    axis=1,\n",
    ").sort_values(by=['date'])\n",
    "orders_b_cummulative.columns = ['date', 'orders_cummulative_b', 'revenue_cummulative_b']"
   ]
  },
  {
   "cell_type": "code",
   "execution_count": 47,
   "metadata": {},
   "outputs": [
    {
     "data": {
      "text/html": [
       "<div>\n",
       "<style scoped>\n",
       "    .dataframe tbody tr th:only-of-type {\n",
       "        vertical-align: middle;\n",
       "    }\n",
       "\n",
       "    .dataframe tbody tr th {\n",
       "        vertical-align: top;\n",
       "    }\n",
       "\n",
       "    .dataframe thead th {\n",
       "        text-align: right;\n",
       "    }\n",
       "</style>\n",
       "<table border=\"1\" class=\"dataframe\">\n",
       "  <thead>\n",
       "    <tr style=\"text-align: right;\">\n",
       "      <th></th>\n",
       "      <th>date</th>\n",
       "      <th>orders_per_date_a</th>\n",
       "      <th>revenue_per_date_a</th>\n",
       "      <th>orders_per_date_b</th>\n",
       "      <th>revenue_per_date_b</th>\n",
       "      <th>orders_cummulative_a</th>\n",
       "      <th>revenue_cummulative_a</th>\n",
       "      <th>orders_cummulative_b</th>\n",
       "      <th>revenue_cummulative_b</th>\n",
       "      <th>visitors_per_date_a</th>\n",
       "      <th>visitors_per_date_b</th>\n",
       "      <th>visitorsCummulative_a</th>\n",
       "      <th>visitors_cummulative_b</th>\n",
       "    </tr>\n",
       "  </thead>\n",
       "  <tbody>\n",
       "    <tr>\n",
       "      <th>0</th>\n",
       "      <td>2019-08-01</td>\n",
       "      <td>24</td>\n",
       "      <td>148579</td>\n",
       "      <td>21</td>\n",
       "      <td>101217</td>\n",
       "      <td>24</td>\n",
       "      <td>148579</td>\n",
       "      <td>21</td>\n",
       "      <td>101217</td>\n",
       "      <td>719</td>\n",
       "      <td>713</td>\n",
       "      <td>719</td>\n",
       "      <td>713</td>\n",
       "    </tr>\n",
       "    <tr>\n",
       "      <th>1</th>\n",
       "      <td>2019-08-02</td>\n",
       "      <td>20</td>\n",
       "      <td>93822</td>\n",
       "      <td>24</td>\n",
       "      <td>165531</td>\n",
       "      <td>44</td>\n",
       "      <td>242401</td>\n",
       "      <td>45</td>\n",
       "      <td>266748</td>\n",
       "      <td>619</td>\n",
       "      <td>581</td>\n",
       "      <td>1338</td>\n",
       "      <td>1294</td>\n",
       "    </tr>\n",
       "    <tr>\n",
       "      <th>2</th>\n",
       "      <td>2019-08-03</td>\n",
       "      <td>24</td>\n",
       "      <td>112473</td>\n",
       "      <td>16</td>\n",
       "      <td>114248</td>\n",
       "      <td>68</td>\n",
       "      <td>354874</td>\n",
       "      <td>61</td>\n",
       "      <td>380996</td>\n",
       "      <td>507</td>\n",
       "      <td>509</td>\n",
       "      <td>1845</td>\n",
       "      <td>1803</td>\n",
       "    </tr>\n",
       "    <tr>\n",
       "      <th>3</th>\n",
       "      <td>2019-08-04</td>\n",
       "      <td>16</td>\n",
       "      <td>70825</td>\n",
       "      <td>17</td>\n",
       "      <td>108571</td>\n",
       "      <td>84</td>\n",
       "      <td>425699</td>\n",
       "      <td>78</td>\n",
       "      <td>489567</td>\n",
       "      <td>717</td>\n",
       "      <td>770</td>\n",
       "      <td>2562</td>\n",
       "      <td>2573</td>\n",
       "    </tr>\n",
       "    <tr>\n",
       "      <th>4</th>\n",
       "      <td>2019-08-05</td>\n",
       "      <td>25</td>\n",
       "      <td>124218</td>\n",
       "      <td>23</td>\n",
       "      <td>92428</td>\n",
       "      <td>109</td>\n",
       "      <td>549917</td>\n",
       "      <td>101</td>\n",
       "      <td>581995</td>\n",
       "      <td>756</td>\n",
       "      <td>707</td>\n",
       "      <td>3318</td>\n",
       "      <td>3280</td>\n",
       "    </tr>\n",
       "  </tbody>\n",
       "</table>\n",
       "</div>"
      ],
      "text/plain": [
       "        date  orders_per_date_a  revenue_per_date_a  orders_per_date_b  \\\n",
       "0 2019-08-01                 24              148579                 21   \n",
       "1 2019-08-02                 20               93822                 24   \n",
       "2 2019-08-03                 24              112473                 16   \n",
       "3 2019-08-04                 16               70825                 17   \n",
       "4 2019-08-05                 25              124218                 23   \n",
       "\n",
       "   revenue_per_date_b  orders_cummulative_a  revenue_cummulative_a  \\\n",
       "0              101217                    24                 148579   \n",
       "1              165531                    44                 242401   \n",
       "2              114248                    68                 354874   \n",
       "3              108571                    84                 425699   \n",
       "4               92428                   109                 549917   \n",
       "\n",
       "   orders_cummulative_b  revenue_cummulative_b  visitors_per_date_a  \\\n",
       "0                    21                 101217                  719   \n",
       "1                    45                 266748                  619   \n",
       "2                    61                 380996                  507   \n",
       "3                    78                 489567                  717   \n",
       "4                   101                 581995                  756   \n",
       "\n",
       "   visitors_per_date_b  visitorsCummulative_a  visitors_cummulative_b  \n",
       "0                  713                    719                     713  \n",
       "1                  581                   1338                    1294  \n",
       "2                  509                   1845                    1803  \n",
       "3                  770                   2562                    2573  \n",
       "4                  707                   3318                    3280  "
      ]
     },
     "execution_count": 47,
     "metadata": {},
     "output_type": "execute_result"
    }
   ],
   "source": [
    "# объединяю данные о пользователях и заказах\n",
    "data = (\n",
    "    orders_a_daily.merge(\n",
    "        orders_b_daily, left_on='date', right_on='date', how='left'\n",
    "    )\n",
    "    .merge(orders_a_cummulative, left_on='date', right_on='date', how='left')\n",
    "    .merge(orders_b_cummulative, left_on='date', right_on='date', how='left')\n",
    "    .merge(visitors_a_daily, left_on='date', right_on='date', how='left')\n",
    "    .merge(visitors_b_daily, left_on='date', right_on='date', how='left')\n",
    "    .merge(visitors_a_cummulative, left_on='date', right_on='date', how='left')\n",
    "    .merge(visitors_b_cummulative, left_on='date', right_on='date', how='left')\n",
    ")\n",
    "data.head()"
   ]
  },
  {
   "cell_type": "markdown",
   "metadata": {},
   "source": [
    "Описание таблицы:\n",
    "- date — дата;\n",
    "- ordersPerDateA — количество заказов в выбранную дату в группе A;\n",
    "- revenuePerDateA — суммарная выручка в выбранную дату в группе A;\n",
    "- ordersPerDateB — количество заказов в выбранную дату в группе B;\n",
    "- revenuePerDateB — суммарная выручка в выбранную дату в группе B;\n",
    "- ordersCummulativeA — суммарное число заказов до выбранной даты включительно в группе A;\n",
    "- revenueCummulativeA — суммарная выручка до выбранной даты включительно в группе A;\n",
    "- ordersCummulativeB — суммарное количество заказов до выбранной даты включительно в группе B;\n",
    "- revenueCummulativeB — суммарная выручка до выбранной даты включительно в группе B;\n",
    "- visitorsPerDateA — количество пользователей в выбранную дату в группе A;\n",
    "- visitorsPerDateB — количество пользователей в выбранную дату в группе B;\n",
    "- visitorsCummulativeA — количество пользователей до выбранной даты включительно в группе A;\n",
    "- visitorsCummulativeB — количество пользователей до выбранной даты включительно в группе B.\n"
   ]
  },
  {
   "cell_type": "markdown",
   "metadata": {},
   "source": [
    "Посчитаю статистическую значимость различия в конверсии между группами.\n",
    "Создам переменные ordersByUsersA и ordersByUsersB со столбцами ['userId', 'orders']. В них для пользователей, которые заказывали хотя бы 1 раз, укажу число совершённых заказов."
   ]
  },
  {
   "cell_type": "code",
   "execution_count": 48,
   "metadata": {},
   "outputs": [],
   "source": [
    "orders_by_users_a = (\n",
    "    orders[orders['group'] == 'A']\n",
    "    .groupby('visitor_id', as_index=False)\n",
    "    .agg({'transaction_id': pd.Series.nunique})\n",
    ")\n",
    "orders_by_users_a.columns = ['user_id', 'orders']\n",
    "\n",
    "orders_by_users_b = (\n",
    "    orders[orders['group'] == 'B']\n",
    "    .groupby('visitor_id', as_index=False)\n",
    "    .agg({'transaction_id': pd.Series.nunique})\n",
    ")\n",
    "orders_by_users_b.columns = ['user_id', 'orders'] "
   ]
  },
  {
   "cell_type": "markdown",
   "metadata": {},
   "source": [
    "Объявлю переменные sampleA и sampleB, в которых пользователям из разных групп будет соответствовать количество заказов. Тем, кто ничего не заказал, будут соответствовать нули. Это нужно, чтобы подготовить выборки к проверке критерием Манна-Уитни."
   ]
  },
  {
   "cell_type": "code",
   "execution_count": 49,
   "metadata": {},
   "outputs": [],
   "source": [
    "sample_a = pd.concat(\n",
    "    [\n",
    "        orders_by_users_a['orders'],\n",
    "        pd.Series(\n",
    "            0,\n",
    "            index=np.arange(\n",
    "                data['visitors_per_date_a'].sum() - len(orders_by_users_a['orders'])\n",
    "            ),\n",
    "            name='orders',\n",
    "        ),\n",
    "    ],\n",
    "    axis=0,\n",
    ")\n",
    "\n",
    "sample_b = pd.concat(\n",
    "    [\n",
    "        orders_by_users_b['orders'],\n",
    "        pd.Series(\n",
    "            0,\n",
    "            index=np.arange(\n",
    "                data['visitors_per_date_b'].sum() - len(orders_by_users_b['orders'])\n",
    "            ),\n",
    "            name='orders',\n",
    "        ),\n",
    "    ],\n",
    "    axis=0,\n",
    ")"
   ]
  },
  {
   "cell_type": "markdown",
   "metadata": {},
   "source": [
    "Сформулирую гипотезы:\n",
    "- Нулевая: различий в конверсии между группами нет.\n",
    "- Альтернативная: различия в конверсии между группами есть."
   ]
  },
  {
   "cell_type": "markdown",
   "metadata": {},
   "source": [
    "Выведу p-value для сравнения средних чеков между группами и относительный прирост среднего чека группы B."
   ]
  },
  {
   "cell_type": "code",
   "execution_count": 50,
   "metadata": {},
   "outputs": [
    {
     "name": "stdout",
     "output_type": "stream",
     "text": [
      "p-value: 0.017\n",
      "относительный прирост среднего чека группы B: 0.138\n"
     ]
    }
   ],
   "source": [
    "print(\"p-value: {0:.3f}\".format(stats.mannwhitneyu(sample_a, sample_b)[1]))\n",
    "\n",
    "print(\"относительный прирост среднего чека группы B: {0:.3f}\".format(sample_b.mean() / sample_a.mean() - 1))"
   ]
  },
  {
   "cell_type": "markdown",
   "metadata": {},
   "source": [
    "#### Вывод: \n",
    "По «сырым» данным различия в конверсии групп A и B есть.\n",
    "1. p-value = 0.017, т е меньше 0.05. Значит, нулевую гипотезу о том, что статистически значимых различий в конверсии между группами нет, отвергаем. \n",
    "2. Относительный прирост группы B равен 13.8%."
   ]
  },
  {
   "cell_type": "markdown",
   "metadata": {},
   "source": [
    "### Анализ статистической значимости различий в среднем чеке заказа между группами по «сырым» данным"
   ]
  },
  {
   "cell_type": "markdown",
   "metadata": {},
   "source": [
    "Гипотезы:\n",
    "- Нулевая гипотеза: различий в среднем чеке между группами нет.\n",
    "- Альтернативная гипотеза: различия в среднем чеке между группами есть."
   ]
  },
  {
   "cell_type": "code",
   "execution_count": 51,
   "metadata": {},
   "outputs": [
    {
     "name": "stdout",
     "output_type": "stream",
     "text": [
      "p-value: 0.729\n",
      "отношение среднего чека группы В к среднему чеку группы А: 0.259\n"
     ]
    }
   ],
   "source": [
    "print('p-value: {0:.3f}'.format(stats.mannwhitneyu(orders[orders['group']=='A']['revenue'], orders[orders['group']=='B']['revenue'])[1]))\n",
    "print('отношение среднего чека группы В к среднему чеку группы А: {0:.3f}'\\\n",
    "      .format(orders[orders['group']=='B']['revenue'].mean()/orders[orders['group']=='A']['revenue'].mean()-1)) "
   ]
  },
  {
   "cell_type": "markdown",
   "metadata": {},
   "source": [
    "#### Вывод:\n",
    "<br>\n",
    "1. P-value значительно больше 0.05 — статистически значимых отличий в среднем чеке между группами нет.\n",
    "<br>\n",
    "2. Средний чек группы B больше среднего чека группы A на 25.9%."
   ]
  },
  {
   "cell_type": "markdown",
   "metadata": {},
   "source": [
    "### Анализ статистической значимости различий в конверсии между группами по «очищенным» данным"
   ]
  },
  {
   "cell_type": "markdown",
   "metadata": {},
   "source": [
    "За аномальных пользователей возьму тех, кто совершил 3 заказа и более, или совершил заказ на сумму свыше 20 000. "
   ]
  },
  {
   "cell_type": "code",
   "execution_count": 52,
   "metadata": {
    "scrolled": true
   },
   "outputs": [],
   "source": [
    "# срез пользователей с числом заказов больше 2\n",
    "users_with_many_orders  = pd.concat([orders_by_users_a[orders_by_users_a['orders'] > 2]['user_id'],\n",
    "                                  orders_by_users_b[orders_by_users_b['orders'] > 2]['user_id']],\n",
    "                                 axis=0)"
   ]
  },
  {
   "cell_type": "code",
   "execution_count": 53,
   "metadata": {},
   "outputs": [],
   "source": [
    "# срез пользователей, совершивших заказы дороже 20 000\n",
    "users_with_expensive_orders = orders[orders['revenue'] > 20000]['visitor_id']\n",
    "users_with_expensive_orders.columns = ['user_id']"
   ]
  },
  {
   "cell_type": "code",
   "execution_count": 54,
   "metadata": {},
   "outputs": [],
   "source": [
    "# объединяю и удаляю дубликаты\n",
    "abnormal_users = pd.concat(\n",
    "    [\n",
    "        users_with_many_orders, users_with_expensive_orders\n",
    "    ], axis=0).drop_duplicates().sort_values()"
   ]
  },
  {
   "cell_type": "markdown",
   "metadata": {},
   "source": [
    "Создам переменные sampleAFiltered и sampleBFiltered, в которых будут очищенные данные о заказах — не включая аномальных пользователей."
   ]
  },
  {
   "cell_type": "code",
   "execution_count": 55,
   "metadata": {},
   "outputs": [],
   "source": [
    "sample_a_filtered = pd.concat(\n",
    "    [\n",
    "        orders_by_users_a[\n",
    "            np.logical_not(orders_by_users_a['user_id'].isin(abnormal_users))\n",
    "        ]['orders'],\n",
    "        pd.Series(\n",
    "            0,\n",
    "            index=np.arange(\n",
    "                data['visitors_per_date_a'].sum() - len(orders_by_users_a['orders'])\n",
    "            ),\n",
    "            name='orders',\n",
    "        ),\n",
    "    ],\n",
    "    axis=0,\n",
    ")\n",
    "\n",
    "sample_b_filtered = pd.concat(\n",
    "    [\n",
    "        orders_by_users_b[\n",
    "            np.logical_not(orders_by_users_b['user_id'].isin(abnormal_users))\n",
    "        ]['orders'],\n",
    "        pd.Series(\n",
    "            0,\n",
    "            index=np.arange(\n",
    "                data['visitors_per_date_b'].sum() - len(orders_by_users_b['orders'])\n",
    "            ),\n",
    "            name='orders',\n",
    "        ),\n",
    "    ],\n",
    "    axis=0,\n",
    ")"
   ]
  },
  {
   "cell_type": "markdown",
   "metadata": {},
   "source": [
    "Сформулирую гипотезы:\n",
    "- Нулевая: различий в конверсии между группами нет.\n",
    "- Альтернативная: различия в конверсии между группами есть."
   ]
  },
  {
   "cell_type": "code",
   "execution_count": 56,
   "metadata": {},
   "outputs": [
    {
     "name": "stdout",
     "output_type": "stream",
     "text": [
      "p-value: 0.018\n",
      "относительный прирост среднего чека группы B: 0.170\n"
     ]
    }
   ],
   "source": [
    "print(\"p-value: {0:.3f}\".format(stats.mannwhitneyu(sample_a_filtered, sample_b_filtered)[1]))\n",
    "\n",
    "print(\"относительный прирост среднего чека группы B: {0:.3f}\".format(sample_b_filtered.mean() / sample_a_filtered.mean() - 1))"
   ]
  },
  {
   "cell_type": "markdown",
   "metadata": {},
   "source": [
    "#### Вывод:\n",
    "Как и по сырым данным, p-value меньше 0.05. Значит, нулевую гипотезу о том, что статистически значимых различий в конверсии между группами нет, отвергаем - различия есть.\n",
    "<br>При этом относительный прирост группы B равен 17%."
   ]
  },
  {
   "cell_type": "markdown",
   "metadata": {},
   "source": [
    "### Анализ статистической значимости различий в среднем чеке заказа между группами по «очищенным» данным"
   ]
  },
  {
   "cell_type": "markdown",
   "metadata": {},
   "source": [
    "Гипотезы:\n",
    "- Нулевая гипотеза: различий в среднем чеке между группами нет.\n",
    "- Альтернативная гипотеза: различия в среднем чеке между группами есть."
   ]
  },
  {
   "cell_type": "code",
   "execution_count": 57,
   "metadata": {},
   "outputs": [
    {
     "name": "stdout",
     "output_type": "stream",
     "text": [
      "p-value: 0.698\n",
      "отношение среднего чека группы В к среднему чеку группы А: -0.030\n"
     ]
    }
   ],
   "source": [
    "print(\n",
    "    'p-value: {0:.3f}'.format(\n",
    "        stats.mannwhitneyu(\n",
    "            orders[\n",
    "                np.logical_and(\n",
    "                    orders['group'] == 'A',\n",
    "                    np.logical_not(orders['visitor_id'].isin(abnormal_users)),\n",
    "                )\n",
    "            ]['revenue'],\n",
    "            orders[\n",
    "                np.logical_and(\n",
    "                    orders['group'] == 'B',\n",
    "                    np.logical_not(orders['visitor_id'].isin(abnormal_users)),\n",
    "                )\n",
    "            ]['revenue'],\n",
    "        )[1]\n",
    "    )\n",
    ")\n",
    "\n",
    "print(\n",
    "    \"отношение среднего чека группы В к среднему чеку группы А: {0:.3f}\".format(\n",
    "        orders[\n",
    "            np.logical_and(\n",
    "                orders['group'] == 'B',\n",
    "                np.logical_not(orders['visitor_id'].isin(abnormal_users)),\n",
    "            )\n",
    "        ]['revenue'].mean()\n",
    "        / orders[\n",
    "            np.logical_and(\n",
    "                orders['group'] == 'A',\n",
    "                np.logical_not(orders['visitor_id'].isin(abnormal_users)),\n",
    "            )\n",
    "        ]['revenue'].mean()\n",
    "        - 1\n",
    "    )\n",
    ")"
   ]
  },
  {
   "cell_type": "markdown",
   "metadata": {},
   "source": [
    "#### Вывод:\n",
    "<br>\n",
    "1. Как и для сырых данных P-value значительно больше 0.05 — статистически значимых отличий в среднем чеке между группами нет.\n",
    "<br>\n",
    "2. Но! Теперь средний чек группы B меньше среднего чека группы A на 3%. \n",
    "<br>\n",
    "Это значит, что после удаления выбросов в данных меньше шума; дисперсия снизилась, и различие в 3% по выручке статистически не значимо."
   ]
  },
  {
   "cell_type": "markdown",
   "metadata": {},
   "source": [
    "### Вывод:\n",
    "1. В группе А выручка равномерно увеличивается в течение всего теста.\n",
    "2. В группе В есть резкий скачок 18.08.19 - крупные заказы.\n",
    "3. Выручка группы В выше выручки группы А.\n",
    "4. В начале теста есть спад, а затем рост среднего чека для группы А, но к концу теста он становится равномерным.\n",
    "5. Для группы В есть резкий скачок 18.08.19, после этого график пошел на спад.\n",
    "Поэтому группе В нужно больше времени, чтобы прийти к реальному среднему чеку и установиться на его уровне.\n",
    "\n",
    "6. По графику конверсии сначала в обеих группах был скачок. Затем конверсия в группах установилась около одного значения, при этом конверсия группы A просела, стала ниже, чем в В. Конверсия группы B выросла и потом зафиксировалась.\n",
    "\n",
    "7. По анализу данных я определила границу аномальных заказов до 20000 и не более 2 заказов на одного пользователя.\n",
    "\n",
    "8. По «сырым» данным различия в конверсии групп A и B есть. Относительный прирост группы B равен 13.8%.\n",
    "\n",
    "9. Статистически значимых отличий в среднем чеке между группами нет. Средний чек группы B больше среднего чека группы A на 25.9%.\n",
    "\n",
    "10. По отфильтрованным данным для конверсии статистическая значимость достигнута. При этом относительный прирост группы B равен 17%. Т е группа В лучше группы А.\n",
    "11. Статистически значимых отличий в среднем чеке между группами нет. Но! Теперь средний чек группы B меньше среднего чека группы A на 3%. \n",
    "<br>\n",
    "12. После удаления выбросов в данных меньше шума; дисперсия снизилась, и различие в 3% по выручке статистически не значимо.\n",
    "\n",
    "<br> ***Конверсия достигла статистической значимости, разница между В и А в 17%! \n",
    "Статистически значимых отличий в среднем чеке между группами нет, даже для сырых данных.\n",
    "Поэтому я рекомедую остановить тест, зафиксировать победу группы В.***"
   ]
  },
  {
   "cell_type": "markdown",
   "metadata": {},
   "source": [
    "## Общий вывод:\n",
    "1. Приоритизация гипотез по RICE (7, 2, 0) и ICE (8, 0, 7) не совпали, из-за высокого охвата у 7 и 2.\n",
    "2. Конверсия достигла статистической значимости. Конверсия группы В на 17% лучше конверсии группы А.\n",
    "Статистически значимых отличий в среднем чеке между группами нет, даже для сырых данных.\n",
    "Поэтому я рекомедую остановить тест, зафиксировать победу группы В."
   ]
  }
 ],
 "metadata": {
  "ExecuteTimeLog": [
   {
    "duration": 812,
    "start_time": "2022-03-30T12:02:46.772Z"
   },
   {
    "duration": 13,
    "start_time": "2022-03-30T12:04:01.116Z"
   },
   {
    "duration": 21,
    "start_time": "2022-03-30T12:04:33.760Z"
   },
   {
    "duration": 27,
    "start_time": "2022-03-30T13:02:48.452Z"
   },
   {
    "duration": 3,
    "start_time": "2022-03-30T13:03:26.487Z"
   },
   {
    "duration": 11,
    "start_time": "2022-03-30T13:06:26.825Z"
   },
   {
    "duration": 26,
    "start_time": "2022-03-30T13:07:08.214Z"
   },
   {
    "duration": 9,
    "start_time": "2022-03-30T13:07:40.544Z"
   },
   {
    "duration": 9,
    "start_time": "2022-03-30T13:09:06.254Z"
   },
   {
    "duration": 18,
    "start_time": "2022-03-30T13:09:34.905Z"
   },
   {
    "duration": 2,
    "start_time": "2022-03-30T13:10:47.603Z"
   },
   {
    "duration": 3,
    "start_time": "2022-03-30T13:11:02.269Z"
   },
   {
    "duration": 67,
    "start_time": "2022-03-30T13:12:59.707Z"
   },
   {
    "duration": 19,
    "start_time": "2022-03-30T13:13:09.773Z"
   },
   {
    "duration": 3,
    "start_time": "2022-03-30T13:21:21.934Z"
   },
   {
    "duration": 11,
    "start_time": "2022-03-30T13:22:37.849Z"
   },
   {
    "duration": 15,
    "start_time": "2022-03-30T13:22:51.293Z"
   },
   {
    "duration": 7496,
    "start_time": "2022-03-30T13:24:56.683Z"
   },
   {
    "duration": 7378,
    "start_time": "2022-03-30T13:25:25.018Z"
   },
   {
    "duration": 4,
    "start_time": "2022-03-30T13:25:49.092Z"
   },
   {
    "duration": 5,
    "start_time": "2022-03-30T13:30:26.634Z"
   },
   {
    "duration": 12,
    "start_time": "2022-03-30T13:31:29.422Z"
   },
   {
    "duration": 10,
    "start_time": "2022-03-30T13:31:38.869Z"
   },
   {
    "duration": 111,
    "start_time": "2022-03-30T13:41:24.695Z"
   },
   {
    "duration": 4,
    "start_time": "2022-03-30T13:42:05.039Z"
   },
   {
    "duration": 12,
    "start_time": "2022-03-30T13:42:59.822Z"
   },
   {
    "duration": 790,
    "start_time": "2022-03-30T14:42:02.746Z"
   },
   {
    "duration": 29,
    "start_time": "2022-03-30T14:42:04.547Z"
   },
   {
    "duration": 36,
    "start_time": "2022-03-30T14:42:05.101Z"
   },
   {
    "duration": 16,
    "start_time": "2022-03-30T14:42:05.709Z"
   },
   {
    "duration": 3,
    "start_time": "2022-03-30T14:42:06.598Z"
   },
   {
    "duration": 12,
    "start_time": "2022-03-30T14:42:08.009Z"
   },
   {
    "duration": 3,
    "start_time": "2022-03-30T14:42:09.237Z"
   },
   {
    "duration": 19,
    "start_time": "2022-03-30T14:42:10.712Z"
   },
   {
    "duration": 13,
    "start_time": "2022-03-30T14:42:12.430Z"
   },
   {
    "duration": 16,
    "start_time": "2022-03-30T14:42:13.242Z"
   },
   {
    "duration": 4,
    "start_time": "2022-03-30T14:42:14.701Z"
   },
   {
    "duration": 13,
    "start_time": "2022-03-30T14:42:17.171Z"
   },
   {
    "duration": 10,
    "start_time": "2022-03-30T14:42:21.326Z"
   },
   {
    "duration": 10,
    "start_time": "2022-03-30T14:42:42.768Z"
   },
   {
    "duration": 6,
    "start_time": "2022-03-30T14:54:14.486Z"
   },
   {
    "duration": 7,
    "start_time": "2022-03-30T14:55:13.081Z"
   },
   {
    "duration": 6,
    "start_time": "2022-03-30T14:55:22.748Z"
   },
   {
    "duration": 86,
    "start_time": "2022-03-30T14:56:52.886Z"
   },
   {
    "duration": 8,
    "start_time": "2022-03-30T14:57:24.633Z"
   },
   {
    "duration": 161,
    "start_time": "2022-03-30T14:57:59.015Z"
   },
   {
    "duration": 8,
    "start_time": "2022-03-30T14:59:02.922Z"
   },
   {
    "duration": 117,
    "start_time": "2022-03-30T14:59:20.675Z"
   },
   {
    "duration": 6,
    "start_time": "2022-03-30T15:00:06.733Z"
   },
   {
    "duration": 9,
    "start_time": "2022-03-30T15:00:34.361Z"
   },
   {
    "duration": 8,
    "start_time": "2022-03-30T15:00:40.577Z"
   },
   {
    "duration": 9,
    "start_time": "2022-03-30T15:03:40.089Z"
   },
   {
    "duration": 5,
    "start_time": "2022-03-30T15:07:20.709Z"
   },
   {
    "duration": 4,
    "start_time": "2022-03-30T15:07:37.756Z"
   },
   {
    "duration": 227,
    "start_time": "2022-03-30T15:09:54.498Z"
   },
   {
    "duration": 155,
    "start_time": "2022-03-30T15:10:00.712Z"
   },
   {
    "duration": 247,
    "start_time": "2022-03-30T15:10:47.374Z"
   },
   {
    "duration": 214,
    "start_time": "2022-03-30T15:10:57.680Z"
   },
   {
    "duration": 177,
    "start_time": "2022-03-30T15:11:06.092Z"
   },
   {
    "duration": 175,
    "start_time": "2022-03-30T15:11:31.886Z"
   },
   {
    "duration": 184,
    "start_time": "2022-03-30T15:12:39.311Z"
   },
   {
    "duration": 202,
    "start_time": "2022-03-30T15:13:39.693Z"
   },
   {
    "duration": 193,
    "start_time": "2022-03-30T15:22:31.849Z"
   },
   {
    "duration": 6,
    "start_time": "2022-03-30T15:34:24.258Z"
   },
   {
    "duration": 379,
    "start_time": "2022-03-30T15:35:22.967Z"
   },
   {
    "duration": 280,
    "start_time": "2022-03-30T15:36:31.042Z"
   },
   {
    "duration": 5,
    "start_time": "2022-03-30T15:42:41.660Z"
   },
   {
    "duration": 212,
    "start_time": "2022-03-30T15:44:04.227Z"
   },
   {
    "duration": 251,
    "start_time": "2022-03-30T15:44:28.022Z"
   },
   {
    "duration": 203,
    "start_time": "2022-03-30T15:45:50.417Z"
   },
   {
    "duration": 272,
    "start_time": "2022-03-30T15:46:30.462Z"
   },
   {
    "duration": 201,
    "start_time": "2022-03-30T15:46:49.440Z"
   },
   {
    "duration": 195,
    "start_time": "2022-03-30T15:47:37.666Z"
   },
   {
    "duration": 8,
    "start_time": "2022-03-30T15:53:25.850Z"
   },
   {
    "duration": 305,
    "start_time": "2022-03-30T15:55:04.155Z"
   },
   {
    "duration": 348,
    "start_time": "2022-03-30T15:57:06.722Z"
   },
   {
    "duration": 334,
    "start_time": "2022-03-30T15:58:11.316Z"
   },
   {
    "duration": 10,
    "start_time": "2022-03-30T16:38:58.145Z"
   },
   {
    "duration": 11,
    "start_time": "2022-03-30T16:41:04.753Z"
   },
   {
    "duration": 92,
    "start_time": "2022-03-30T16:43:31.915Z"
   },
   {
    "duration": 216,
    "start_time": "2022-03-30T16:51:49.670Z"
   },
   {
    "duration": 203,
    "start_time": "2022-03-30T16:52:43.148Z"
   },
   {
    "duration": 185,
    "start_time": "2022-03-30T16:52:51.674Z"
   },
   {
    "duration": 97,
    "start_time": "2022-03-30T16:52:56.287Z"
   },
   {
    "duration": 96,
    "start_time": "2022-03-30T16:53:39.558Z"
   },
   {
    "duration": 103,
    "start_time": "2022-03-30T16:54:15.309Z"
   },
   {
    "duration": 98,
    "start_time": "2022-03-30T16:54:34.898Z"
   },
   {
    "duration": 166,
    "start_time": "2022-03-30T16:56:01.745Z"
   },
   {
    "duration": 190,
    "start_time": "2022-03-30T16:56:14.110Z"
   },
   {
    "duration": 95,
    "start_time": "2022-03-30T16:56:19.271Z"
   },
   {
    "duration": 804,
    "start_time": "2022-03-30T17:05:26.550Z"
   },
   {
    "duration": 18,
    "start_time": "2022-03-30T17:05:28.316Z"
   },
   {
    "duration": 21,
    "start_time": "2022-03-30T17:05:28.724Z"
   },
   {
    "duration": 10,
    "start_time": "2022-03-30T17:05:29.097Z"
   },
   {
    "duration": 4,
    "start_time": "2022-03-30T17:05:29.883Z"
   },
   {
    "duration": 12,
    "start_time": "2022-03-30T17:05:31.275Z"
   },
   {
    "duration": 3,
    "start_time": "2022-03-30T17:05:31.981Z"
   },
   {
    "duration": 20,
    "start_time": "2022-03-30T17:05:34.169Z"
   },
   {
    "duration": 12,
    "start_time": "2022-03-30T17:05:35.406Z"
   },
   {
    "duration": 20,
    "start_time": "2022-03-30T17:05:36.014Z"
   },
   {
    "duration": 5,
    "start_time": "2022-03-30T17:05:37.118Z"
   },
   {
    "duration": 13,
    "start_time": "2022-03-30T17:05:38.804Z"
   },
   {
    "duration": 13,
    "start_time": "2022-03-30T17:05:40.454Z"
   },
   {
    "duration": 7,
    "start_time": "2022-03-30T17:05:42.753Z"
   },
   {
    "duration": 175,
    "start_time": "2022-03-30T17:05:43.241Z"
   },
   {
    "duration": 121,
    "start_time": "2022-03-30T17:05:43.643Z"
   },
   {
    "duration": 7,
    "start_time": "2022-03-30T17:05:44.166Z"
   },
   {
    "duration": 10,
    "start_time": "2022-03-30T17:05:44.555Z"
   },
   {
    "duration": 6,
    "start_time": "2022-03-30T17:05:45.780Z"
   },
   {
    "duration": 5,
    "start_time": "2022-03-30T17:05:46.102Z"
   },
   {
    "duration": 291,
    "start_time": "2022-03-30T17:05:46.403Z"
   },
   {
    "duration": 263,
    "start_time": "2022-03-30T17:05:47.832Z"
   },
   {
    "duration": 8,
    "start_time": "2022-03-30T17:05:48.874Z"
   },
   {
    "duration": 378,
    "start_time": "2022-03-30T17:05:49.260Z"
   },
   {
    "duration": 10,
    "start_time": "2022-03-30T17:05:50.267Z"
   },
   {
    "duration": 292,
    "start_time": "2022-03-30T17:05:50.592Z"
   },
   {
    "duration": 8,
    "start_time": "2022-03-30T17:05:51.674Z"
   },
   {
    "duration": 324,
    "start_time": "2022-03-30T17:05:52.038Z"
   },
   {
    "duration": 12,
    "start_time": "2022-03-30T17:05:53.017Z"
   },
   {
    "duration": 175,
    "start_time": "2022-03-30T17:05:54.452Z"
   },
   {
    "duration": 114,
    "start_time": "2022-03-30T17:08:53.075Z"
   },
   {
    "duration": 115,
    "start_time": "2022-03-30T17:09:40.242Z"
   },
   {
    "duration": 233,
    "start_time": "2022-03-30T17:11:46.128Z"
   },
   {
    "duration": 12,
    "start_time": "2022-03-30T17:12:39.654Z"
   },
   {
    "duration": 245,
    "start_time": "2022-03-30T17:12:40.866Z"
   },
   {
    "duration": 5,
    "start_time": "2022-03-30T17:16:44.613Z"
   },
   {
    "duration": 19,
    "start_time": "2022-03-30T17:19:53.919Z"
   },
   {
    "duration": 274,
    "start_time": "2022-03-30T17:23:22.389Z"
   },
   {
    "duration": 8,
    "start_time": "2022-03-30T17:24:31.037Z"
   },
   {
    "duration": 4,
    "start_time": "2022-03-30T17:28:08.690Z"
   },
   {
    "duration": 1174,
    "start_time": "2022-03-31T09:02:41.021Z"
   },
   {
    "duration": 17,
    "start_time": "2022-03-31T09:02:42.199Z"
   },
   {
    "duration": 22,
    "start_time": "2022-03-31T09:02:42.219Z"
   },
   {
    "duration": 11,
    "start_time": "2022-03-31T09:02:42.244Z"
   },
   {
    "duration": 5,
    "start_time": "2022-03-31T09:02:42.689Z"
   },
   {
    "duration": 17,
    "start_time": "2022-03-31T09:02:43.696Z"
   },
   {
    "duration": 3,
    "start_time": "2022-03-31T09:02:44.432Z"
   },
   {
    "duration": 34,
    "start_time": "2022-03-31T09:02:45.439Z"
   },
   {
    "duration": 20,
    "start_time": "2022-03-31T09:02:46.677Z"
   },
   {
    "duration": 26,
    "start_time": "2022-03-31T09:02:47.355Z"
   },
   {
    "duration": 5,
    "start_time": "2022-03-31T09:02:48.516Z"
   },
   {
    "duration": 19,
    "start_time": "2022-03-31T09:02:50.106Z"
   },
   {
    "duration": 16,
    "start_time": "2022-03-31T09:02:52.079Z"
   },
   {
    "duration": 9,
    "start_time": "2022-03-31T09:02:55.692Z"
   },
   {
    "duration": 281,
    "start_time": "2022-03-31T09:02:56.157Z"
   },
   {
    "duration": 210,
    "start_time": "2022-03-31T09:02:57.045Z"
   },
   {
    "duration": 10,
    "start_time": "2022-03-31T09:02:57.780Z"
   },
   {
    "duration": 12,
    "start_time": "2022-03-31T09:02:59.210Z"
   },
   {
    "duration": 6,
    "start_time": "2022-03-31T09:03:00.794Z"
   },
   {
    "duration": 6,
    "start_time": "2022-03-31T09:03:01.296Z"
   },
   {
    "duration": 501,
    "start_time": "2022-03-31T09:03:02.108Z"
   },
   {
    "duration": 349,
    "start_time": "2022-03-31T09:03:04.890Z"
   },
   {
    "duration": 8,
    "start_time": "2022-03-31T09:03:06.456Z"
   },
   {
    "duration": 511,
    "start_time": "2022-03-31T09:03:07.075Z"
   },
   {
    "duration": 8,
    "start_time": "2022-03-31T09:03:08.776Z"
   },
   {
    "duration": 406,
    "start_time": "2022-03-31T09:03:09.067Z"
   },
   {
    "duration": 11,
    "start_time": "2022-03-31T09:03:10.381Z"
   },
   {
    "duration": 466,
    "start_time": "2022-03-31T09:03:10.769Z"
   },
   {
    "duration": 15,
    "start_time": "2022-03-31T09:03:12.084Z"
   },
   {
    "duration": 392,
    "start_time": "2022-03-31T09:03:12.549Z"
   },
   {
    "duration": 5,
    "start_time": "2022-03-31T09:03:14.250Z"
   },
   {
    "duration": 7,
    "start_time": "2022-03-31T09:03:15.507Z"
   },
   {
    "duration": 448,
    "start_time": "2022-03-31T09:03:16.047Z"
   },
   {
    "duration": 5,
    "start_time": "2022-03-31T09:03:18.058Z"
   },
   {
    "duration": 85,
    "start_time": "2022-03-31T09:39:20.846Z"
   },
   {
    "duration": 84,
    "start_time": "2022-03-31T09:39:46.559Z"
   },
   {
    "duration": 87,
    "start_time": "2022-03-31T09:41:22.800Z"
   },
   {
    "duration": 6,
    "start_time": "2022-03-31T09:44:12.647Z"
   },
   {
    "duration": 47,
    "start_time": "2022-03-31T09:48:54.989Z"
   },
   {
    "duration": 109,
    "start_time": "2022-03-31T09:49:19.820Z"
   },
   {
    "duration": 140,
    "start_time": "2022-03-31T09:49:41.778Z"
   },
   {
    "duration": 121,
    "start_time": "2022-03-31T09:49:55.965Z"
   },
   {
    "duration": 45,
    "start_time": "2022-03-31T10:38:58.772Z"
   },
   {
    "duration": 829,
    "start_time": "2022-03-31T10:39:06.766Z"
   },
   {
    "duration": 18,
    "start_time": "2022-03-31T10:39:08.428Z"
   },
   {
    "duration": 27,
    "start_time": "2022-03-31T10:39:08.969Z"
   },
   {
    "duration": 25,
    "start_time": "2022-03-31T10:39:09.279Z"
   },
   {
    "duration": 4,
    "start_time": "2022-03-31T10:39:09.784Z"
   },
   {
    "duration": 11,
    "start_time": "2022-03-31T10:39:10.600Z"
   },
   {
    "duration": 2,
    "start_time": "2022-03-31T10:39:11.104Z"
   },
   {
    "duration": 18,
    "start_time": "2022-03-31T10:39:11.844Z"
   },
   {
    "duration": 11,
    "start_time": "2022-03-31T10:39:12.582Z"
   },
   {
    "duration": 17,
    "start_time": "2022-03-31T10:39:13.049Z"
   },
   {
    "duration": 4,
    "start_time": "2022-03-31T10:39:13.672Z"
   },
   {
    "duration": 13,
    "start_time": "2022-03-31T10:39:14.724Z"
   },
   {
    "duration": 9,
    "start_time": "2022-03-31T10:39:15.621Z"
   },
   {
    "duration": 5,
    "start_time": "2022-03-31T10:39:17.139Z"
   },
   {
    "duration": 147,
    "start_time": "2022-03-31T10:39:17.372Z"
   },
   {
    "duration": 101,
    "start_time": "2022-03-31T10:39:17.570Z"
   },
   {
    "duration": 6,
    "start_time": "2022-03-31T10:39:17.801Z"
   },
   {
    "duration": 8,
    "start_time": "2022-03-31T10:39:17.996Z"
   },
   {
    "duration": 5,
    "start_time": "2022-03-31T10:39:18.696Z"
   },
   {
    "duration": 5,
    "start_time": "2022-03-31T10:39:18.910Z"
   },
   {
    "duration": 359,
    "start_time": "2022-03-31T10:39:19.145Z"
   },
   {
    "duration": 185,
    "start_time": "2022-03-31T10:39:20.021Z"
   },
   {
    "duration": 6,
    "start_time": "2022-03-31T10:39:20.758Z"
   },
   {
    "duration": 346,
    "start_time": "2022-03-31T10:39:21.011Z"
   },
   {
    "duration": 6,
    "start_time": "2022-03-31T10:39:21.749Z"
   },
   {
    "duration": 248,
    "start_time": "2022-03-31T10:39:22.023Z"
   },
   {
    "duration": 7,
    "start_time": "2022-03-31T10:39:22.779Z"
   },
   {
    "duration": 297,
    "start_time": "2022-03-31T10:39:23.053Z"
   },
   {
    "duration": 11,
    "start_time": "2022-03-31T10:39:23.868Z"
   },
   {
    "duration": 215,
    "start_time": "2022-03-31T10:39:24.121Z"
   },
   {
    "duration": 4,
    "start_time": "2022-03-31T10:39:25.168Z"
   },
   {
    "duration": 5,
    "start_time": "2022-03-31T10:39:26.179Z"
   },
   {
    "duration": 241,
    "start_time": "2022-03-31T10:39:26.453Z"
   },
   {
    "duration": 3,
    "start_time": "2022-03-31T10:39:27.847Z"
   },
   {
    "duration": 48,
    "start_time": "2022-03-31T10:39:28.664Z"
   },
   {
    "duration": 54,
    "start_time": "2022-03-31T10:39:28.935Z"
   },
   {
    "duration": 4,
    "start_time": "2022-03-31T10:39:29.283Z"
   },
   {
    "duration": 55,
    "start_time": "2022-03-31T10:39:29.647Z"
   },
   {
    "duration": 56,
    "start_time": "2022-03-31T10:39:46.817Z"
   },
   {
    "duration": 28,
    "start_time": "2022-03-31T10:40:00.562Z"
   },
   {
    "duration": 41,
    "start_time": "2022-03-31T11:59:31.275Z"
   },
   {
    "duration": 127,
    "start_time": "2022-03-31T12:00:53.561Z"
   },
   {
    "duration": 6,
    "start_time": "2022-03-31T12:06:11.883Z"
   },
   {
    "duration": 8,
    "start_time": "2022-03-31T12:06:38.164Z"
   },
   {
    "duration": 350,
    "start_time": "2022-03-31T12:07:03.892Z"
   },
   {
    "duration": 22,
    "start_time": "2022-03-31T12:07:09.148Z"
   },
   {
    "duration": 22,
    "start_time": "2022-03-31T12:12:22.726Z"
   },
   {
    "duration": 10,
    "start_time": "2022-03-31T12:19:50.436Z"
   },
   {
    "duration": 11,
    "start_time": "2022-03-31T12:22:27.863Z"
   },
   {
    "duration": 7,
    "start_time": "2022-03-31T12:33:29.319Z"
   },
   {
    "duration": 2335,
    "start_time": "2022-03-31T12:34:19.411Z"
   },
   {
    "duration": 5,
    "start_time": "2022-03-31T12:35:20.377Z"
   },
   {
    "duration": 4,
    "start_time": "2022-03-31T13:04:46.101Z"
   },
   {
    "duration": 4,
    "start_time": "2022-03-31T13:04:55.014Z"
   },
   {
    "duration": 11,
    "start_time": "2022-03-31T13:06:41.352Z"
   },
   {
    "duration": 23,
    "start_time": "2022-03-31T13:08:53.213Z"
   },
   {
    "duration": 21,
    "start_time": "2022-03-31T13:13:46.366Z"
   },
   {
    "duration": 1294,
    "start_time": "2022-03-31T16:35:49.002Z"
   },
   {
    "duration": 17,
    "start_time": "2022-03-31T16:35:52.424Z"
   },
   {
    "duration": 21,
    "start_time": "2022-03-31T16:35:53.929Z"
   },
   {
    "duration": 10,
    "start_time": "2022-03-31T16:35:54.805Z"
   },
   {
    "duration": 4,
    "start_time": "2022-03-31T16:35:56.895Z"
   },
   {
    "duration": 12,
    "start_time": "2022-03-31T16:35:59.452Z"
   },
   {
    "duration": 2,
    "start_time": "2022-03-31T16:36:01.217Z"
   },
   {
    "duration": 21,
    "start_time": "2022-03-31T16:36:03.081Z"
   },
   {
    "duration": 11,
    "start_time": "2022-03-31T16:36:04.841Z"
   },
   {
    "duration": 4,
    "start_time": "2022-03-31T16:36:05.511Z"
   },
   {
    "duration": 18,
    "start_time": "2022-03-31T16:36:30.953Z"
   },
   {
    "duration": 4,
    "start_time": "2022-03-31T16:36:33.961Z"
   },
   {
    "duration": 12,
    "start_time": "2022-03-31T16:36:39.169Z"
   },
   {
    "duration": 10,
    "start_time": "2022-03-31T16:36:41.526Z"
   },
   {
    "duration": 6,
    "start_time": "2022-03-31T16:36:44.801Z"
   },
   {
    "duration": 5,
    "start_time": "2022-03-31T16:37:05.724Z"
   },
   {
    "duration": 105,
    "start_time": "2022-03-31T16:37:26.521Z"
   },
   {
    "duration": 4,
    "start_time": "2022-03-31T16:38:17.718Z"
   },
   {
    "duration": 13,
    "start_time": "2022-03-31T16:38:23.241Z"
   },
   {
    "duration": 4,
    "start_time": "2022-03-31T16:38:26.607Z"
   },
   {
    "duration": 4,
    "start_time": "2022-03-31T16:38:35.860Z"
   },
   {
    "duration": 5,
    "start_time": "2022-03-31T16:38:37.327Z"
   },
   {
    "duration": 4,
    "start_time": "2022-03-31T16:39:03.989Z"
   },
   {
    "duration": 4,
    "start_time": "2022-03-31T16:39:04.693Z"
   },
   {
    "duration": 19,
    "start_time": "2022-03-31T16:39:07.541Z"
   },
   {
    "duration": 446,
    "start_time": "2022-03-31T16:39:08.718Z"
   },
   {
    "duration": 14,
    "start_time": "2022-03-31T16:39:11.281Z"
   },
   {
    "duration": 11,
    "start_time": "2022-03-31T16:39:12.719Z"
   },
   {
    "duration": 6,
    "start_time": "2022-03-31T16:39:15.475Z"
   },
   {
    "duration": 165,
    "start_time": "2022-03-31T16:39:16.130Z"
   },
   {
    "duration": 109,
    "start_time": "2022-03-31T16:39:29.825Z"
   },
   {
    "duration": 7,
    "start_time": "2022-03-31T16:39:50.297Z"
   },
   {
    "duration": 9,
    "start_time": "2022-03-31T16:39:55.696Z"
   },
   {
    "duration": 7,
    "start_time": "2022-03-31T16:40:18.058Z"
   },
   {
    "duration": 4,
    "start_time": "2022-03-31T16:41:12.641Z"
   },
   {
    "duration": 289,
    "start_time": "2022-03-31T16:41:51.122Z"
   },
   {
    "duration": 206,
    "start_time": "2022-03-31T16:42:41.976Z"
   },
   {
    "duration": 10,
    "start_time": "2022-03-31T16:43:10.456Z"
   },
   {
    "duration": 7,
    "start_time": "2022-03-31T16:43:20.126Z"
   },
   {
    "duration": 333,
    "start_time": "2022-03-31T16:44:17.471Z"
   },
   {
    "duration": 6,
    "start_time": "2022-03-31T16:44:52.686Z"
   },
   {
    "duration": 224,
    "start_time": "2022-03-31T16:45:37.013Z"
   },
   {
    "duration": 11,
    "start_time": "2022-03-31T16:46:10.841Z"
   },
   {
    "duration": 324,
    "start_time": "2022-03-31T16:46:45.741Z"
   },
   {
    "duration": 11,
    "start_time": "2022-03-31T16:47:23.362Z"
   },
   {
    "duration": 254,
    "start_time": "2022-03-31T16:47:54.007Z"
   },
   {
    "duration": 4,
    "start_time": "2022-03-31T16:48:05.365Z"
   },
   {
    "duration": 7,
    "start_time": "2022-03-31T16:48:09.881Z"
   },
   {
    "duration": 286,
    "start_time": "2022-03-31T16:48:17.667Z"
   },
   {
    "duration": 6,
    "start_time": "2022-03-31T16:48:21.010Z"
   },
   {
    "duration": 24,
    "start_time": "2022-03-31T16:50:09.192Z"
   },
   {
    "duration": 2250,
    "start_time": "2022-03-31T16:50:40.560Z"
   },
   {
    "duration": 124,
    "start_time": "2022-03-31T16:51:35.425Z"
   },
   {
    "duration": 1915,
    "start_time": "2022-03-31T16:51:36.338Z"
   },
   {
    "duration": 122,
    "start_time": "2022-03-31T16:51:54.473Z"
   },
   {
    "duration": 2017,
    "start_time": "2022-03-31T16:51:56.154Z"
   },
   {
    "duration": 115,
    "start_time": "2022-03-31T16:53:19.914Z"
   },
   {
    "duration": 1844,
    "start_time": "2022-03-31T16:53:22.753Z"
   },
   {
    "duration": 1903,
    "start_time": "2022-03-31T16:53:35.173Z"
   },
   {
    "duration": 8,
    "start_time": "2022-03-31T16:54:54.611Z"
   },
   {
    "duration": 442,
    "start_time": "2022-03-31T16:55:18.453Z"
   },
   {
    "duration": 6,
    "start_time": "2022-03-31T16:55:23.788Z"
   },
   {
    "duration": 223,
    "start_time": "2022-03-31T16:55:25.622Z"
   },
   {
    "duration": 9,
    "start_time": "2022-03-31T16:55:27.346Z"
   },
   {
    "duration": 1995,
    "start_time": "2022-03-31T16:55:28.015Z"
   },
   {
    "duration": 7,
    "start_time": "2022-03-31T16:55:43.307Z"
   },
   {
    "duration": 343,
    "start_time": "2022-03-31T16:55:43.624Z"
   },
   {
    "duration": 12,
    "start_time": "2022-03-31T16:55:46.390Z"
   },
   {
    "duration": 244,
    "start_time": "2022-03-31T16:55:47.168Z"
   },
   {
    "duration": 4,
    "start_time": "2022-03-31T16:55:49.351Z"
   },
   {
    "duration": 6,
    "start_time": "2022-03-31T16:55:50.803Z"
   },
   {
    "duration": 276,
    "start_time": "2022-03-31T16:55:51.769Z"
   },
   {
    "duration": 5,
    "start_time": "2022-03-31T16:55:58.399Z"
   },
   {
    "duration": 33,
    "start_time": "2022-03-31T16:56:00.488Z"
   },
   {
    "duration": 49,
    "start_time": "2022-03-31T16:58:23.332Z"
   },
   {
    "duration": 52,
    "start_time": "2022-03-31T16:58:25.641Z"
   },
   {
    "duration": 60,
    "start_time": "2022-03-31T16:59:46.498Z"
   },
   {
    "duration": 15,
    "start_time": "2022-03-31T16:59:47.968Z"
   },
   {
    "duration": 62,
    "start_time": "2022-03-31T17:01:40.930Z"
   },
   {
    "duration": 61,
    "start_time": "2022-03-31T17:15:15.894Z"
   },
   {
    "duration": 13,
    "start_time": "2022-03-31T17:16:11.923Z"
   },
   {
    "duration": 60,
    "start_time": "2022-03-31T17:17:55.906Z"
   },
   {
    "duration": 59,
    "start_time": "2022-03-31T17:17:56.985Z"
   },
   {
    "duration": 14,
    "start_time": "2022-03-31T17:17:57.703Z"
   },
   {
    "duration": 21,
    "start_time": "2022-03-31T17:18:04.189Z"
   },
   {
    "duration": 23,
    "start_time": "2022-03-31T17:18:16.017Z"
   },
   {
    "duration": 47,
    "start_time": "2022-03-31T17:18:53.175Z"
   },
   {
    "duration": 57,
    "start_time": "2022-03-31T17:18:53.662Z"
   },
   {
    "duration": 56,
    "start_time": "2022-03-31T17:18:54.180Z"
   },
   {
    "duration": 27,
    "start_time": "2022-03-31T17:18:54.874Z"
   },
   {
    "duration": 123,
    "start_time": "2022-03-31T17:20:21.622Z"
   },
   {
    "duration": 7,
    "start_time": "2022-03-31T17:21:51.335Z"
   },
   {
    "duration": 22,
    "start_time": "2022-03-31T17:22:10.527Z"
   },
   {
    "duration": 10,
    "start_time": "2022-03-31T17:22:35.837Z"
   },
   {
    "duration": 1783,
    "start_time": "2022-03-31T17:23:38.781Z"
   },
   {
    "duration": 119,
    "start_time": "2022-03-31T17:24:33.653Z"
   },
   {
    "duration": 6,
    "start_time": "2022-03-31T17:24:35.699Z"
   },
   {
    "duration": 24,
    "start_time": "2022-03-31T17:24:36.939Z"
   },
   {
    "duration": 11,
    "start_time": "2022-03-31T17:24:38.824Z"
   },
   {
    "duration": 1895,
    "start_time": "2022-03-31T17:24:40.596Z"
   },
   {
    "duration": 132,
    "start_time": "2022-03-31T17:25:01.291Z"
   },
   {
    "duration": 7,
    "start_time": "2022-03-31T17:25:02.202Z"
   },
   {
    "duration": 27,
    "start_time": "2022-03-31T17:25:03.475Z"
   },
   {
    "duration": 10,
    "start_time": "2022-03-31T17:25:05.551Z"
   },
   {
    "duration": 5,
    "start_time": "2022-03-31T17:25:09.202Z"
   },
   {
    "duration": 4,
    "start_time": "2022-03-31T17:25:41.676Z"
   },
   {
    "duration": 5,
    "start_time": "2022-03-31T17:26:11.016Z"
   },
   {
    "duration": 2059,
    "start_time": "2022-03-31T17:28:21.610Z"
   },
   {
    "duration": 10,
    "start_time": "2022-03-31T17:28:38.166Z"
   },
   {
    "duration": 9,
    "start_time": "2022-03-31T17:28:59.487Z"
   },
   {
    "duration": 9,
    "start_time": "2022-03-31T17:29:02.402Z"
   },
   {
    "duration": 22,
    "start_time": "2022-03-31T17:29:36.750Z"
   },
   {
    "duration": 16,
    "start_time": "2022-03-31T17:30:29.185Z"
   },
   {
    "duration": 21,
    "start_time": "2022-03-31T17:31:09.839Z"
   },
   {
    "duration": 14,
    "start_time": "2022-03-31T17:31:19.125Z"
   },
   {
    "duration": 1682,
    "start_time": "2022-04-01T08:06:14.398Z"
   },
   {
    "duration": 29,
    "start_time": "2022-04-01T08:06:16.676Z"
   },
   {
    "duration": 83,
    "start_time": "2022-04-01T08:06:17.100Z"
   },
   {
    "duration": 18,
    "start_time": "2022-04-01T08:06:17.487Z"
   },
   {
    "duration": 5,
    "start_time": "2022-04-01T08:06:18.298Z"
   },
   {
    "duration": 17,
    "start_time": "2022-04-01T08:06:19.730Z"
   },
   {
    "duration": 4,
    "start_time": "2022-04-01T08:06:20.809Z"
   },
   {
    "duration": 30,
    "start_time": "2022-04-01T08:06:22.047Z"
   },
   {
    "duration": 19,
    "start_time": "2022-04-01T08:06:23.264Z"
   },
   {
    "duration": 5,
    "start_time": "2022-04-01T08:06:23.691Z"
   },
   {
    "duration": 6,
    "start_time": "2022-04-01T08:06:24.114Z"
   },
   {
    "duration": 26,
    "start_time": "2022-04-01T08:06:25.253Z"
   },
   {
    "duration": 7,
    "start_time": "2022-04-01T08:06:27.339Z"
   },
   {
    "duration": 19,
    "start_time": "2022-04-01T08:06:30.622Z"
   },
   {
    "duration": 17,
    "start_time": "2022-04-01T08:06:32.746Z"
   },
   {
    "duration": 9,
    "start_time": "2022-04-01T08:06:36.260Z"
   },
   {
    "duration": 252,
    "start_time": "2022-04-01T08:06:36.649Z"
   },
   {
    "duration": 207,
    "start_time": "2022-04-01T08:06:36.996Z"
   },
   {
    "duration": 10,
    "start_time": "2022-04-01T08:06:37.306Z"
   },
   {
    "duration": 12,
    "start_time": "2022-04-01T08:06:37.770Z"
   },
   {
    "duration": 7,
    "start_time": "2022-04-01T08:06:38.988Z"
   },
   {
    "duration": 6,
    "start_time": "2022-04-01T08:06:39.260Z"
   },
   {
    "duration": 462,
    "start_time": "2022-04-01T08:06:39.609Z"
   },
   {
    "duration": 336,
    "start_time": "2022-04-01T08:06:41.078Z"
   },
   {
    "duration": 8,
    "start_time": "2022-04-01T08:06:43.087Z"
   },
   {
    "duration": 543,
    "start_time": "2022-04-01T08:06:44.400Z"
   },
   {
    "duration": 8,
    "start_time": "2022-04-01T08:06:46.176Z"
   },
   {
    "duration": 351,
    "start_time": "2022-04-01T08:06:46.794Z"
   },
   {
    "duration": 11,
    "start_time": "2022-04-01T08:06:48.358Z"
   },
   {
    "duration": 410,
    "start_time": "2022-04-01T08:06:48.668Z"
   },
   {
    "duration": 15,
    "start_time": "2022-04-01T08:06:49.713Z"
   },
   {
    "duration": 381,
    "start_time": "2022-04-01T08:06:50.024Z"
   },
   {
    "duration": 5,
    "start_time": "2022-04-01T08:06:51.493Z"
   },
   {
    "duration": 7,
    "start_time": "2022-04-01T08:06:53.233Z"
   },
   {
    "duration": 426,
    "start_time": "2022-04-01T08:06:53.678Z"
   },
   {
    "duration": 5,
    "start_time": "2022-04-01T08:06:55.186Z"
   },
   {
    "duration": 80,
    "start_time": "2022-04-01T08:06:56.694Z"
   },
   {
    "duration": 79,
    "start_time": "2022-04-01T08:06:57.120Z"
   },
   {
    "duration": 97,
    "start_time": "2022-04-01T08:06:57.661Z"
   },
   {
    "duration": 95,
    "start_time": "2022-04-01T08:06:58.279Z"
   },
   {
    "duration": 44,
    "start_time": "2022-04-01T08:06:58.703Z"
   },
   {
    "duration": 248,
    "start_time": "2022-04-01T08:06:59.939Z"
   },
   {
    "duration": 10,
    "start_time": "2022-04-01T08:07:00.694Z"
   },
   {
    "duration": 30,
    "start_time": "2022-04-01T08:07:01.815Z"
   },
   {
    "duration": 15,
    "start_time": "2022-04-01T08:07:07.764Z"
   },
   {
    "duration": 8,
    "start_time": "2022-04-01T08:07:09.060Z"
   },
   {
    "duration": 6,
    "start_time": "2022-04-01T08:07:09.333Z"
   },
   {
    "duration": 6,
    "start_time": "2022-04-01T08:07:09.644Z"
   },
   {
    "duration": 12,
    "start_time": "2022-04-01T08:07:10.263Z"
   },
   {
    "duration": 31,
    "start_time": "2022-04-01T08:07:10.959Z"
   },
   {
    "duration": 19,
    "start_time": "2022-04-01T08:07:12.315Z"
   },
   {
    "duration": 1189,
    "start_time": "2022-04-02T04:47:32.508Z"
   },
   {
    "duration": 17,
    "start_time": "2022-04-02T04:47:33.699Z"
   },
   {
    "duration": 37,
    "start_time": "2022-04-02T04:47:33.718Z"
   },
   {
    "duration": 15,
    "start_time": "2022-04-02T04:47:33.757Z"
   },
   {
    "duration": 4,
    "start_time": "2022-04-02T04:47:33.775Z"
   },
   {
    "duration": 15,
    "start_time": "2022-04-02T04:47:33.780Z"
   },
   {
    "duration": 4,
    "start_time": "2022-04-02T04:47:33.797Z"
   },
   {
    "duration": 24,
    "start_time": "2022-04-02T04:47:33.802Z"
   },
   {
    "duration": 13,
    "start_time": "2022-04-02T04:47:33.827Z"
   },
   {
    "duration": 6,
    "start_time": "2022-04-02T04:47:33.842Z"
   },
   {
    "duration": 11,
    "start_time": "2022-04-02T04:47:33.850Z"
   },
   {
    "duration": 24,
    "start_time": "2022-04-02T04:47:33.863Z"
   },
   {
    "duration": 4,
    "start_time": "2022-04-02T04:47:33.889Z"
   },
   {
    "duration": 14,
    "start_time": "2022-04-02T04:47:33.896Z"
   },
   {
    "duration": 29,
    "start_time": "2022-04-02T04:47:33.912Z"
   },
   {
    "duration": 8,
    "start_time": "2022-04-02T04:47:33.942Z"
   },
   {
    "duration": 181,
    "start_time": "2022-04-02T04:47:33.951Z"
   },
   {
    "duration": 133,
    "start_time": "2022-04-02T04:47:34.134Z"
   },
   {
    "duration": 7,
    "start_time": "2022-04-02T04:47:34.269Z"
   },
   {
    "duration": 13,
    "start_time": "2022-04-02T04:47:34.277Z"
   },
   {
    "duration": 9,
    "start_time": "2022-04-02T04:47:34.292Z"
   },
   {
    "duration": 7,
    "start_time": "2022-04-02T04:47:34.303Z"
   },
   {
    "duration": 329,
    "start_time": "2022-04-02T04:47:34.312Z"
   },
   {
    "duration": 246,
    "start_time": "2022-04-02T04:47:34.643Z"
   },
   {
    "duration": 6,
    "start_time": "2022-04-02T04:47:34.891Z"
   },
   {
    "duration": 369,
    "start_time": "2022-04-02T04:47:34.898Z"
   },
   {
    "duration": 6,
    "start_time": "2022-04-02T04:47:35.269Z"
   },
   {
    "duration": 249,
    "start_time": "2022-04-02T04:47:35.276Z"
   },
   {
    "duration": 8,
    "start_time": "2022-04-02T04:47:35.531Z"
   },
   {
    "duration": 330,
    "start_time": "2022-04-02T04:47:35.541Z"
   },
   {
    "duration": 12,
    "start_time": "2022-04-02T04:47:35.873Z"
   },
   {
    "duration": 287,
    "start_time": "2022-04-02T04:47:35.887Z"
   },
   {
    "duration": 4,
    "start_time": "2022-04-02T04:47:36.176Z"
   },
   {
    "duration": 10,
    "start_time": "2022-04-02T04:47:36.182Z"
   },
   {
    "duration": 307,
    "start_time": "2022-04-02T04:47:36.194Z"
   },
   {
    "duration": 4,
    "start_time": "2022-04-02T04:47:36.503Z"
   },
   {
    "duration": 63,
    "start_time": "2022-04-02T04:47:36.509Z"
   },
   {
    "duration": 64,
    "start_time": "2022-04-02T04:47:36.574Z"
   },
   {
    "duration": 60,
    "start_time": "2022-04-02T04:47:36.640Z"
   },
   {
    "duration": 80,
    "start_time": "2022-04-02T04:47:36.702Z"
   },
   {
    "duration": 47,
    "start_time": "2022-04-02T04:47:36.786Z"
   },
   {
    "duration": 150,
    "start_time": "2022-04-02T04:47:36.834Z"
   },
   {
    "duration": 7,
    "start_time": "2022-04-02T04:47:36.986Z"
   },
   {
    "duration": 38,
    "start_time": "2022-04-02T04:47:36.995Z"
   },
   {
    "duration": 10,
    "start_time": "2022-04-02T04:47:37.035Z"
   },
   {
    "duration": 7,
    "start_time": "2022-04-02T04:47:37.047Z"
   },
   {
    "duration": 6,
    "start_time": "2022-04-02T04:47:37.056Z"
   },
   {
    "duration": 7,
    "start_time": "2022-04-02T04:47:37.064Z"
   },
   {
    "duration": 9,
    "start_time": "2022-04-02T04:47:37.073Z"
   },
   {
    "duration": 51,
    "start_time": "2022-04-02T04:47:37.083Z"
   },
   {
    "duration": 14,
    "start_time": "2022-04-02T04:47:37.136Z"
   },
   {
    "duration": 1724,
    "start_time": "2022-04-02T07:20:31.187Z"
   },
   {
    "duration": 19,
    "start_time": "2022-04-02T07:20:32.914Z"
   },
   {
    "duration": 23,
    "start_time": "2022-04-02T07:20:34.313Z"
   },
   {
    "duration": 11,
    "start_time": "2022-04-02T07:20:34.740Z"
   },
   {
    "duration": 5,
    "start_time": "2022-04-02T07:20:35.615Z"
   },
   {
    "duration": 16,
    "start_time": "2022-04-02T07:20:37.326Z"
   },
   {
    "duration": 4,
    "start_time": "2022-04-02T07:20:38.468Z"
   },
   {
    "duration": 29,
    "start_time": "2022-04-02T07:20:39.606Z"
   },
   {
    "duration": 20,
    "start_time": "2022-04-02T07:20:41.217Z"
   },
   {
    "duration": 4,
    "start_time": "2022-04-02T07:20:41.610Z"
   },
   {
    "duration": 6,
    "start_time": "2022-04-02T07:20:42.015Z"
   },
   {
    "duration": 28,
    "start_time": "2022-04-02T07:20:43.277Z"
   },
   {
    "duration": 6,
    "start_time": "2022-04-02T07:20:44.825Z"
   },
   {
    "duration": 20,
    "start_time": "2022-04-02T07:21:52.205Z"
   },
   {
    "duration": 16,
    "start_time": "2022-04-02T07:21:53.943Z"
   },
   {
    "duration": 7,
    "start_time": "2022-04-02T07:22:24.159Z"
   },
   {
    "duration": 273,
    "start_time": "2022-04-02T07:22:24.481Z"
   },
   {
    "duration": 215,
    "start_time": "2022-04-02T07:22:24.778Z"
   },
   {
    "duration": 11,
    "start_time": "2022-04-02T07:22:25.132Z"
   },
   {
    "duration": 13,
    "start_time": "2022-04-02T07:22:25.471Z"
   },
   {
    "duration": 8,
    "start_time": "2022-04-02T07:22:26.548Z"
   },
   {
    "duration": 6,
    "start_time": "2022-04-02T07:22:26.781Z"
   },
   {
    "duration": 456,
    "start_time": "2022-04-02T07:22:27.049Z"
   },
   {
    "duration": 465,
    "start_time": "2022-04-02T07:22:28.720Z"
   },
   {
    "duration": 11,
    "start_time": "2022-04-02T07:22:29.841Z"
   },
   {
    "duration": 664,
    "start_time": "2022-04-02T07:22:30.262Z"
   },
   {
    "duration": 10,
    "start_time": "2022-04-02T07:22:31.523Z"
   },
   {
    "duration": 492,
    "start_time": "2022-04-02T07:22:31.921Z"
   },
   {
    "duration": 11,
    "start_time": "2022-04-02T07:22:33.235Z"
   },
   {
    "duration": 446,
    "start_time": "2022-04-02T07:22:33.827Z"
   },
   {
    "duration": 17,
    "start_time": "2022-04-02T07:22:53.112Z"
   },
   {
    "duration": 384,
    "start_time": "2022-04-02T07:22:53.447Z"
   },
   {
    "duration": 6,
    "start_time": "2022-04-02T07:22:54.922Z"
   },
   {
    "duration": 8,
    "start_time": "2022-04-02T07:22:56.274Z"
   },
   {
    "duration": 434,
    "start_time": "2022-04-02T07:22:56.609Z"
   },
   {
    "duration": 6,
    "start_time": "2022-04-02T07:23:00.098Z"
   },
   {
    "duration": 81,
    "start_time": "2022-04-02T07:24:43.148Z"
   },
   {
    "duration": 83,
    "start_time": "2022-04-02T07:24:44.148Z"
   },
   {
    "duration": 94,
    "start_time": "2022-04-02T07:24:44.943Z"
   },
   {
    "duration": 98,
    "start_time": "2022-04-02T07:24:45.690Z"
   },
   {
    "duration": 47,
    "start_time": "2022-04-02T07:24:46.077Z"
   },
   {
    "duration": 265,
    "start_time": "2022-04-02T07:24:47.109Z"
   },
   {
    "duration": 10,
    "start_time": "2022-04-02T07:24:47.733Z"
   },
   {
    "duration": 28,
    "start_time": "2022-04-02T07:24:49.510Z"
   },
   {
    "duration": 20,
    "start_time": "2022-04-02T07:24:51.657Z"
   },
   {
    "duration": 10,
    "start_time": "2022-04-02T07:24:53.063Z"
   },
   {
    "duration": 8,
    "start_time": "2022-04-02T07:24:53.273Z"
   },
   {
    "duration": 8,
    "start_time": "2022-04-02T07:24:53.514Z"
   },
   {
    "duration": 15,
    "start_time": "2022-04-02T07:24:54.186Z"
   },
   {
    "duration": 30,
    "start_time": "2022-04-02T07:24:54.908Z"
   },
   {
    "duration": 20,
    "start_time": "2022-04-02T07:25:21.302Z"
   },
   {
    "duration": 130,
    "start_time": "2022-04-02T07:35:27.953Z"
   },
   {
    "duration": 179,
    "start_time": "2022-04-02T07:35:46.635Z"
   },
   {
    "duration": 117,
    "start_time": "2022-04-02T07:36:00.022Z"
   },
   {
    "duration": 201,
    "start_time": "2022-04-02T07:36:04.938Z"
   },
   {
    "duration": 133,
    "start_time": "2022-04-02T07:37:12.644Z"
   },
   {
    "duration": 1215,
    "start_time": "2022-04-02T07:53:17.370Z"
   },
   {
    "duration": 140,
    "start_time": "2022-04-02T07:53:40.463Z"
   },
   {
    "duration": 99,
    "start_time": "2022-04-02T07:56:30.060Z"
   },
   {
    "duration": 466,
    "start_time": "2022-04-02T07:56:41.395Z"
   },
   {
    "duration": 488,
    "start_time": "2022-04-02T07:57:54.956Z"
   },
   {
    "duration": 125,
    "start_time": "2022-04-02T07:58:59.244Z"
   },
   {
    "duration": 480,
    "start_time": "2022-04-02T07:59:13.133Z"
   },
   {
    "duration": 503,
    "start_time": "2022-04-02T07:59:20.797Z"
   },
   {
    "duration": 477,
    "start_time": "2022-04-02T07:59:38.764Z"
   },
   {
    "duration": 1031,
    "start_time": "2022-04-02T09:12:05.439Z"
   },
   {
    "duration": 121,
    "start_time": "2022-04-02T09:12:29.871Z"
   },
   {
    "duration": 1026,
    "start_time": "2022-04-02T09:12:50.080Z"
   },
   {
    "duration": 123,
    "start_time": "2022-04-02T09:13:05.439Z"
   },
   {
    "duration": 943,
    "start_time": "2022-04-02T09:13:19.919Z"
   },
   {
    "duration": 127,
    "start_time": "2022-04-02T09:14:00.117Z"
   },
   {
    "duration": 598,
    "start_time": "2022-04-02T09:17:27.435Z"
   },
   {
    "duration": 517,
    "start_time": "2022-04-02T09:19:55.630Z"
   },
   {
    "duration": 120,
    "start_time": "2022-04-02T09:29:37.246Z"
   },
   {
    "duration": 133,
    "start_time": "2022-04-02T09:29:48.892Z"
   },
   {
    "duration": 122,
    "start_time": "2022-04-02T09:30:07.316Z"
   },
   {
    "duration": 22,
    "start_time": "2022-04-02T09:32:08.072Z"
   },
   {
    "duration": 117,
    "start_time": "2022-04-02T09:32:19.613Z"
   },
   {
    "duration": 13,
    "start_time": "2022-04-02T09:33:01.679Z"
   },
   {
    "duration": 122,
    "start_time": "2022-04-02T09:33:28.931Z"
   },
   {
    "duration": 1258,
    "start_time": "2022-04-02T09:33:52.884Z"
   },
   {
    "duration": 3410,
    "start_time": "2022-04-02T09:35:09.421Z"
   },
   {
    "duration": 98,
    "start_time": "2022-04-02T09:35:29.232Z"
   },
   {
    "duration": 1253,
    "start_time": "2022-04-02T09:35:32.445Z"
   },
   {
    "duration": 540,
    "start_time": "2022-04-02T09:38:01.920Z"
   },
   {
    "duration": 99,
    "start_time": "2022-04-02T09:38:31.752Z"
   },
   {
    "duration": 612,
    "start_time": "2022-04-02T09:39:19.693Z"
   },
   {
    "duration": 525,
    "start_time": "2022-04-02T09:41:10.107Z"
   },
   {
    "duration": 497,
    "start_time": "2022-04-02T09:41:15.537Z"
   },
   {
    "duration": 18,
    "start_time": "2022-04-02T09:42:31.703Z"
   },
   {
    "duration": 26,
    "start_time": "2022-04-02T09:43:18.698Z"
   },
   {
    "duration": 23,
    "start_time": "2022-04-02T09:43:32.656Z"
   },
   {
    "duration": 127,
    "start_time": "2022-04-02T09:44:06.779Z"
   },
   {
    "duration": 132,
    "start_time": "2022-04-02T09:45:20.811Z"
   },
   {
    "duration": 139,
    "start_time": "2022-04-02T09:46:31.779Z"
   },
   {
    "duration": 141,
    "start_time": "2022-04-02T09:46:39.989Z"
   },
   {
    "duration": 131,
    "start_time": "2022-04-02T09:47:23.918Z"
   },
   {
    "duration": 250,
    "start_time": "2022-04-02T10:01:17.407Z"
   },
   {
    "duration": 259,
    "start_time": "2022-04-02T10:01:55.367Z"
   },
   {
    "duration": 242,
    "start_time": "2022-04-02T10:03:18.848Z"
   },
   {
    "duration": 339,
    "start_time": "2022-04-02T10:04:03.394Z"
   },
   {
    "duration": 557,
    "start_time": "2022-04-02T10:05:57.179Z"
   },
   {
    "duration": 667,
    "start_time": "2022-04-02T10:06:22.566Z"
   },
   {
    "duration": 575,
    "start_time": "2022-04-02T10:06:30.187Z"
   },
   {
    "duration": 269,
    "start_time": "2022-04-02T10:06:47.869Z"
   },
   {
    "duration": 332,
    "start_time": "2022-04-02T10:07:14.979Z"
   },
   {
    "duration": 269,
    "start_time": "2022-04-02T10:08:57.094Z"
   },
   {
    "duration": 331,
    "start_time": "2022-04-02T10:09:02.036Z"
   },
   {
    "duration": 244,
    "start_time": "2022-04-02T10:09:18.555Z"
   },
   {
    "duration": 33,
    "start_time": "2022-04-02T10:10:48.205Z"
   },
   {
    "duration": 344,
    "start_time": "2022-04-02T10:11:18.032Z"
   },
   {
    "duration": 265,
    "start_time": "2022-04-02T10:11:47.862Z"
   },
   {
    "duration": 178,
    "start_time": "2022-04-02T10:23:02.561Z"
   },
   {
    "duration": 268,
    "start_time": "2022-04-02T10:23:19.795Z"
   },
   {
    "duration": 262,
    "start_time": "2022-04-02T10:26:36.572Z"
   },
   {
    "duration": 428,
    "start_time": "2022-04-02T10:27:32.422Z"
   },
   {
    "duration": 286,
    "start_time": "2022-04-02T10:28:01.981Z"
   },
   {
    "duration": 206,
    "start_time": "2022-04-02T10:32:48.629Z"
   },
   {
    "duration": 188,
    "start_time": "2022-04-02T10:33:34.727Z"
   },
   {
    "duration": 146,
    "start_time": "2022-04-02T10:35:49.881Z"
   },
   {
    "duration": 19,
    "start_time": "2022-04-02T10:39:32.720Z"
   },
   {
    "duration": 307,
    "start_time": "2022-04-02T10:43:36.036Z"
   },
   {
    "duration": 244,
    "start_time": "2022-04-02T10:45:53.268Z"
   },
   {
    "duration": 237,
    "start_time": "2022-04-02T10:46:00.308Z"
   },
   {
    "duration": 16,
    "start_time": "2022-04-02T10:46:50.998Z"
   },
   {
    "duration": 20,
    "start_time": "2022-04-02T10:49:12.728Z"
   },
   {
    "duration": 8,
    "start_time": "2022-04-02T10:53:58.526Z"
   },
   {
    "duration": 13,
    "start_time": "2022-04-02T10:54:22.684Z"
   },
   {
    "duration": 449,
    "start_time": "2022-04-02T10:55:08.843Z"
   },
   {
    "duration": 346,
    "start_time": "2022-04-02T10:56:30.393Z"
   },
   {
    "duration": 255,
    "start_time": "2022-04-02T10:58:04.603Z"
   },
   {
    "duration": 258,
    "start_time": "2022-04-02T10:58:57.549Z"
   },
   {
    "duration": 256,
    "start_time": "2022-04-02T10:59:29.266Z"
   },
   {
    "duration": 258,
    "start_time": "2022-04-02T10:59:40.177Z"
   },
   {
    "duration": 235,
    "start_time": "2022-04-02T11:00:28.566Z"
   },
   {
    "duration": 248,
    "start_time": "2022-04-02T11:01:05.342Z"
   },
   {
    "duration": 249,
    "start_time": "2022-04-02T11:01:12.977Z"
   },
   {
    "duration": 262,
    "start_time": "2022-04-02T11:02:01.799Z"
   },
   {
    "duration": 234,
    "start_time": "2022-04-02T11:02:23.494Z"
   },
   {
    "duration": 242,
    "start_time": "2022-04-02T11:03:26.151Z"
   },
   {
    "duration": 335,
    "start_time": "2022-04-02T11:03:31.817Z"
   },
   {
    "duration": 232,
    "start_time": "2022-04-02T11:03:48.831Z"
   },
   {
    "duration": 243,
    "start_time": "2022-04-02T11:04:17.017Z"
   },
   {
    "duration": 242,
    "start_time": "2022-04-02T11:04:53.792Z"
   },
   {
    "duration": 266,
    "start_time": "2022-04-02T11:04:59.032Z"
   },
   {
    "duration": 238,
    "start_time": "2022-04-02T11:05:02.980Z"
   },
   {
    "duration": 245,
    "start_time": "2022-04-02T11:05:28.595Z"
   },
   {
    "duration": 244,
    "start_time": "2022-04-02T11:05:42.876Z"
   },
   {
    "duration": 238,
    "start_time": "2022-04-02T11:05:49.793Z"
   },
   {
    "duration": 240,
    "start_time": "2022-04-02T11:06:51.772Z"
   },
   {
    "duration": 240,
    "start_time": "2022-04-02T11:06:57.397Z"
   },
   {
    "duration": 110,
    "start_time": "2022-04-02T11:08:12.533Z"
   },
   {
    "duration": 422,
    "start_time": "2022-04-02T11:08:23.520Z"
   },
   {
    "duration": 261,
    "start_time": "2022-04-02T11:08:46.369Z"
   },
   {
    "duration": 304,
    "start_time": "2022-04-02T11:08:57.428Z"
   },
   {
    "duration": 261,
    "start_time": "2022-04-02T11:09:13.359Z"
   },
   {
    "duration": 243,
    "start_time": "2022-04-02T11:09:19.117Z"
   },
   {
    "duration": 247,
    "start_time": "2022-04-02T11:10:02.128Z"
   },
   {
    "duration": 21,
    "start_time": "2022-04-02T11:14:13.185Z"
   },
   {
    "duration": 19,
    "start_time": "2022-04-02T11:14:18.604Z"
   },
   {
    "duration": 16,
    "start_time": "2022-04-02T11:14:27.710Z"
   },
   {
    "duration": 17,
    "start_time": "2022-04-02T11:15:06.692Z"
   },
   {
    "duration": 18,
    "start_time": "2022-04-02T11:19:08.931Z"
   },
   {
    "duration": 19,
    "start_time": "2022-04-02T11:19:48.225Z"
   },
   {
    "duration": 5,
    "start_time": "2022-04-02T11:20:00.663Z"
   },
   {
    "duration": 26,
    "start_time": "2022-04-02T11:20:00.670Z"
   },
   {
    "duration": 26,
    "start_time": "2022-04-02T11:20:00.698Z"
   },
   {
    "duration": 15,
    "start_time": "2022-04-02T11:20:00.727Z"
   },
   {
    "duration": 16,
    "start_time": "2022-04-02T11:20:00.745Z"
   },
   {
    "duration": 40,
    "start_time": "2022-04-02T11:20:00.763Z"
   },
   {
    "duration": 26,
    "start_time": "2022-04-02T11:20:00.805Z"
   },
   {
    "duration": 46,
    "start_time": "2022-04-02T11:20:00.833Z"
   },
   {
    "duration": 18,
    "start_time": "2022-04-02T11:20:00.882Z"
   },
   {
    "duration": 17,
    "start_time": "2022-04-02T11:20:00.902Z"
   },
   {
    "duration": 9,
    "start_time": "2022-04-02T11:20:00.921Z"
   },
   {
    "duration": 150,
    "start_time": "2022-04-02T11:20:00.932Z"
   },
   {
    "duration": 160,
    "start_time": "2022-04-02T11:20:01.084Z"
   },
   {
    "duration": 34,
    "start_time": "2022-04-02T11:20:01.246Z"
   },
   {
    "duration": 5,
    "start_time": "2022-04-02T11:20:01.283Z"
   },
   {
    "duration": 18,
    "start_time": "2022-04-02T11:20:01.290Z"
   },
   {
    "duration": 18,
    "start_time": "2022-04-02T11:20:01.311Z"
   },
   {
    "duration": 19,
    "start_time": "2022-04-02T11:20:04.636Z"
   },
   {
    "duration": 5,
    "start_time": "2022-04-02T11:20:43.321Z"
   },
   {
    "duration": 11,
    "start_time": "2022-04-02T11:20:43.332Z"
   },
   {
    "duration": 22,
    "start_time": "2022-04-02T11:20:43.346Z"
   },
   {
    "duration": 10,
    "start_time": "2022-04-02T11:20:43.370Z"
   },
   {
    "duration": 5,
    "start_time": "2022-04-02T11:20:43.383Z"
   },
   {
    "duration": 13,
    "start_time": "2022-04-02T11:20:43.390Z"
   },
   {
    "duration": 4,
    "start_time": "2022-04-02T11:20:43.405Z"
   },
   {
    "duration": 63,
    "start_time": "2022-04-02T11:20:43.411Z"
   },
   {
    "duration": 16,
    "start_time": "2022-04-02T11:20:43.476Z"
   },
   {
    "duration": 5,
    "start_time": "2022-04-02T11:20:43.496Z"
   },
   {
    "duration": 8,
    "start_time": "2022-04-02T11:20:43.503Z"
   },
   {
    "duration": 161,
    "start_time": "2022-04-02T11:20:43.513Z"
   },
   {
    "duration": 157,
    "start_time": "2022-04-02T11:20:43.676Z"
   },
   {
    "duration": 37,
    "start_time": "2022-04-02T11:20:43.835Z"
   },
   {
    "duration": 6,
    "start_time": "2022-04-02T11:20:43.874Z"
   },
   {
    "duration": 15,
    "start_time": "2022-04-02T11:20:43.882Z"
   },
   {
    "duration": 20,
    "start_time": "2022-04-02T11:20:45.877Z"
   },
   {
    "duration": 6,
    "start_time": "2022-04-02T11:23:45.949Z"
   },
   {
    "duration": 17,
    "start_time": "2022-04-02T11:23:45.962Z"
   },
   {
    "duration": 23,
    "start_time": "2022-04-02T11:23:45.983Z"
   },
   {
    "duration": 12,
    "start_time": "2022-04-02T11:23:46.009Z"
   },
   {
    "duration": 5,
    "start_time": "2022-04-02T11:23:46.024Z"
   },
   {
    "duration": 13,
    "start_time": "2022-04-02T11:23:46.031Z"
   },
   {
    "duration": 22,
    "start_time": "2022-04-02T11:23:46.046Z"
   },
   {
    "duration": 31,
    "start_time": "2022-04-02T11:23:46.071Z"
   },
   {
    "duration": 18,
    "start_time": "2022-04-02T11:23:46.104Z"
   },
   {
    "duration": 43,
    "start_time": "2022-04-02T11:23:46.124Z"
   },
   {
    "duration": 6,
    "start_time": "2022-04-02T11:23:46.171Z"
   },
   {
    "duration": 156,
    "start_time": "2022-04-02T11:23:46.179Z"
   },
   {
    "duration": 166,
    "start_time": "2022-04-02T11:23:46.338Z"
   },
   {
    "duration": 24,
    "start_time": "2022-04-02T11:23:46.506Z"
   },
   {
    "duration": 6,
    "start_time": "2022-04-02T11:23:46.532Z"
   },
   {
    "duration": 38,
    "start_time": "2022-04-02T11:23:46.540Z"
   },
   {
    "duration": 21,
    "start_time": "2022-04-02T11:23:50.433Z"
   },
   {
    "duration": 6,
    "start_time": "2022-04-02T11:24:05.001Z"
   },
   {
    "duration": 15,
    "start_time": "2022-04-02T11:24:05.010Z"
   },
   {
    "duration": 23,
    "start_time": "2022-04-02T11:24:05.028Z"
   },
   {
    "duration": 11,
    "start_time": "2022-04-02T11:24:05.053Z"
   },
   {
    "duration": 4,
    "start_time": "2022-04-02T11:24:05.067Z"
   },
   {
    "duration": 15,
    "start_time": "2022-04-02T11:24:05.074Z"
   },
   {
    "duration": 5,
    "start_time": "2022-04-02T11:24:05.091Z"
   },
   {
    "duration": 72,
    "start_time": "2022-04-02T11:24:05.099Z"
   },
   {
    "duration": 20,
    "start_time": "2022-04-02T11:24:05.174Z"
   },
   {
    "duration": 9,
    "start_time": "2022-04-02T11:24:05.196Z"
   },
   {
    "duration": 6,
    "start_time": "2022-04-02T11:24:05.208Z"
   },
   {
    "duration": 252,
    "start_time": "2022-04-02T11:24:05.217Z"
   },
   {
    "duration": 168,
    "start_time": "2022-04-02T11:24:05.472Z"
   },
   {
    "duration": 36,
    "start_time": "2022-04-02T11:24:05.642Z"
   },
   {
    "duration": 6,
    "start_time": "2022-04-02T11:24:05.681Z"
   },
   {
    "duration": 18,
    "start_time": "2022-04-02T11:24:05.690Z"
   },
   {
    "duration": 20,
    "start_time": "2022-04-02T11:24:07.423Z"
   },
   {
    "duration": 5,
    "start_time": "2022-04-02T11:26:08.113Z"
   },
   {
    "duration": 13,
    "start_time": "2022-04-02T11:26:08.123Z"
   },
   {
    "duration": 23,
    "start_time": "2022-04-02T11:26:08.138Z"
   },
   {
    "duration": 11,
    "start_time": "2022-04-02T11:26:08.162Z"
   },
   {
    "duration": 4,
    "start_time": "2022-04-02T11:26:08.176Z"
   },
   {
    "duration": 14,
    "start_time": "2022-04-02T11:26:08.182Z"
   },
   {
    "duration": 4,
    "start_time": "2022-04-02T11:26:08.198Z"
   },
   {
    "duration": 62,
    "start_time": "2022-04-02T11:26:08.205Z"
   },
   {
    "duration": 18,
    "start_time": "2022-04-02T11:26:08.269Z"
   },
   {
    "duration": 6,
    "start_time": "2022-04-02T11:26:08.290Z"
   },
   {
    "duration": 8,
    "start_time": "2022-04-02T11:26:08.299Z"
   },
   {
    "duration": 175,
    "start_time": "2022-04-02T11:26:08.310Z"
   },
   {
    "duration": 180,
    "start_time": "2022-04-02T11:26:08.488Z"
   },
   {
    "duration": 26,
    "start_time": "2022-04-02T11:26:08.671Z"
   },
   {
    "duration": 6,
    "start_time": "2022-04-02T11:26:08.700Z"
   },
   {
    "duration": 16,
    "start_time": "2022-04-02T11:26:08.708Z"
   },
   {
    "duration": 22,
    "start_time": "2022-04-02T11:26:10.902Z"
   },
   {
    "duration": 15,
    "start_time": "2022-04-02T11:26:19.732Z"
   },
   {
    "duration": 5,
    "start_time": "2022-04-02T11:26:56.709Z"
   },
   {
    "duration": 12,
    "start_time": "2022-04-02T11:26:56.718Z"
   },
   {
    "duration": 22,
    "start_time": "2022-04-02T11:26:56.733Z"
   },
   {
    "duration": 10,
    "start_time": "2022-04-02T11:26:56.757Z"
   },
   {
    "duration": 5,
    "start_time": "2022-04-02T11:26:56.770Z"
   },
   {
    "duration": 14,
    "start_time": "2022-04-02T11:26:56.777Z"
   },
   {
    "duration": 5,
    "start_time": "2022-04-02T11:26:56.793Z"
   },
   {
    "duration": 66,
    "start_time": "2022-04-02T11:26:56.801Z"
   },
   {
    "duration": 18,
    "start_time": "2022-04-02T11:26:56.871Z"
   },
   {
    "duration": 10,
    "start_time": "2022-04-02T11:26:56.891Z"
   },
   {
    "duration": 9,
    "start_time": "2022-04-02T11:26:56.904Z"
   },
   {
    "duration": 162,
    "start_time": "2022-04-02T11:26:56.915Z"
   },
   {
    "duration": 243,
    "start_time": "2022-04-02T11:26:57.081Z"
   },
   {
    "duration": 44,
    "start_time": "2022-04-02T11:26:57.327Z"
   },
   {
    "duration": 6,
    "start_time": "2022-04-02T11:26:57.373Z"
   },
   {
    "duration": 14,
    "start_time": "2022-04-02T11:26:57.381Z"
   },
   {
    "duration": 109,
    "start_time": "2022-04-02T11:26:59.472Z"
   },
   {
    "duration": 27,
    "start_time": "2022-04-02T11:27:05.664Z"
   },
   {
    "duration": 5,
    "start_time": "2022-04-02T11:29:21.592Z"
   },
   {
    "duration": 12,
    "start_time": "2022-04-02T11:29:21.602Z"
   },
   {
    "duration": 21,
    "start_time": "2022-04-02T11:29:21.617Z"
   },
   {
    "duration": 11,
    "start_time": "2022-04-02T11:29:21.640Z"
   },
   {
    "duration": 4,
    "start_time": "2022-04-02T11:29:21.654Z"
   },
   {
    "duration": 15,
    "start_time": "2022-04-02T11:29:21.661Z"
   },
   {
    "duration": 3,
    "start_time": "2022-04-02T11:29:21.678Z"
   },
   {
    "duration": 30,
    "start_time": "2022-04-02T11:29:21.684Z"
   },
   {
    "duration": 17,
    "start_time": "2022-04-02T11:29:21.716Z"
   },
   {
    "duration": 6,
    "start_time": "2022-04-02T11:29:21.767Z"
   },
   {
    "duration": 10,
    "start_time": "2022-04-02T11:29:21.775Z"
   },
   {
    "duration": 160,
    "start_time": "2022-04-02T11:29:21.788Z"
   },
   {
    "duration": 164,
    "start_time": "2022-04-02T11:29:21.950Z"
   },
   {
    "duration": 26,
    "start_time": "2022-04-02T11:29:22.116Z"
   },
   {
    "duration": 24,
    "start_time": "2022-04-02T11:29:22.145Z"
   },
   {
    "duration": 104,
    "start_time": "2022-04-02T11:29:24.430Z"
   },
   {
    "duration": 17,
    "start_time": "2022-04-02T11:30:04.141Z"
   },
   {
    "duration": 18,
    "start_time": "2022-04-02T11:30:38.712Z"
   },
   {
    "duration": 17,
    "start_time": "2022-04-02T11:30:59.321Z"
   },
   {
    "duration": 16,
    "start_time": "2022-04-02T11:32:01.923Z"
   },
   {
    "duration": 4,
    "start_time": "2022-04-02T11:32:07.915Z"
   },
   {
    "duration": 17,
    "start_time": "2022-04-02T11:32:07.926Z"
   },
   {
    "duration": 22,
    "start_time": "2022-04-02T11:32:07.945Z"
   },
   {
    "duration": 11,
    "start_time": "2022-04-02T11:32:07.968Z"
   },
   {
    "duration": 5,
    "start_time": "2022-04-02T11:32:07.981Z"
   },
   {
    "duration": 15,
    "start_time": "2022-04-02T11:32:07.988Z"
   },
   {
    "duration": 7,
    "start_time": "2022-04-02T11:32:08.006Z"
   },
   {
    "duration": 55,
    "start_time": "2022-04-02T11:32:08.015Z"
   },
   {
    "duration": 17,
    "start_time": "2022-04-02T11:32:08.073Z"
   },
   {
    "duration": 11,
    "start_time": "2022-04-02T11:32:08.092Z"
   },
   {
    "duration": 7,
    "start_time": "2022-04-02T11:32:08.106Z"
   },
   {
    "duration": 159,
    "start_time": "2022-04-02T11:32:08.115Z"
   },
   {
    "duration": 159,
    "start_time": "2022-04-02T11:32:08.277Z"
   },
   {
    "duration": 36,
    "start_time": "2022-04-02T11:32:08.438Z"
   },
   {
    "duration": 6,
    "start_time": "2022-04-02T11:32:08.476Z"
   },
   {
    "duration": 16,
    "start_time": "2022-04-02T11:32:10.724Z"
   },
   {
    "duration": 20,
    "start_time": "2022-04-02T11:32:58.809Z"
   },
   {
    "duration": 22,
    "start_time": "2022-04-02T11:34:03.656Z"
   },
   {
    "duration": 5,
    "start_time": "2022-04-02T11:34:41.834Z"
   },
   {
    "duration": 15,
    "start_time": "2022-04-02T11:34:41.842Z"
   },
   {
    "duration": 21,
    "start_time": "2022-04-02T11:34:41.860Z"
   },
   {
    "duration": 10,
    "start_time": "2022-04-02T11:34:41.884Z"
   },
   {
    "duration": 5,
    "start_time": "2022-04-02T11:34:41.897Z"
   },
   {
    "duration": 13,
    "start_time": "2022-04-02T11:34:41.904Z"
   },
   {
    "duration": 5,
    "start_time": "2022-04-02T11:34:41.920Z"
   },
   {
    "duration": 53,
    "start_time": "2022-04-02T11:34:41.927Z"
   },
   {
    "duration": 18,
    "start_time": "2022-04-02T11:34:41.982Z"
   },
   {
    "duration": 7,
    "start_time": "2022-04-02T11:34:42.003Z"
   },
   {
    "duration": 9,
    "start_time": "2022-04-02T11:34:42.012Z"
   },
   {
    "duration": 164,
    "start_time": "2022-04-02T11:34:42.023Z"
   },
   {
    "duration": 159,
    "start_time": "2022-04-02T11:34:42.189Z"
   },
   {
    "duration": 34,
    "start_time": "2022-04-02T11:34:42.351Z"
   },
   {
    "duration": 5,
    "start_time": "2022-04-02T11:34:42.389Z"
   },
   {
    "duration": 17,
    "start_time": "2022-04-02T11:34:44.064Z"
   },
   {
    "duration": 18,
    "start_time": "2022-04-02T11:34:59.667Z"
   },
   {
    "duration": 16,
    "start_time": "2022-04-02T11:35:49.093Z"
   },
   {
    "duration": 20,
    "start_time": "2022-04-02T11:36:00.181Z"
   },
   {
    "duration": 5,
    "start_time": "2022-04-02T11:36:10.952Z"
   },
   {
    "duration": 14,
    "start_time": "2022-04-02T11:36:10.962Z"
   },
   {
    "duration": 21,
    "start_time": "2022-04-02T11:36:10.978Z"
   },
   {
    "duration": 11,
    "start_time": "2022-04-02T11:36:11.001Z"
   },
   {
    "duration": 5,
    "start_time": "2022-04-02T11:36:11.014Z"
   },
   {
    "duration": 12,
    "start_time": "2022-04-02T11:36:11.022Z"
   },
   {
    "duration": 30,
    "start_time": "2022-04-02T11:36:11.037Z"
   },
   {
    "duration": 27,
    "start_time": "2022-04-02T11:36:11.069Z"
   },
   {
    "duration": 18,
    "start_time": "2022-04-02T11:36:11.098Z"
   },
   {
    "duration": 5,
    "start_time": "2022-04-02T11:36:11.118Z"
   },
   {
    "duration": 42,
    "start_time": "2022-04-02T11:36:11.127Z"
   },
   {
    "duration": 149,
    "start_time": "2022-04-02T11:36:11.171Z"
   },
   {
    "duration": 165,
    "start_time": "2022-04-02T11:36:11.322Z"
   },
   {
    "duration": 26,
    "start_time": "2022-04-02T11:36:11.490Z"
   },
   {
    "duration": 6,
    "start_time": "2022-04-02T11:36:11.518Z"
   },
   {
    "duration": 65,
    "start_time": "2022-04-02T11:36:11.526Z"
   },
   {
    "duration": 20,
    "start_time": "2022-04-02T11:36:18.037Z"
   },
   {
    "duration": 24,
    "start_time": "2022-04-02T11:36:48.125Z"
   },
   {
    "duration": 28,
    "start_time": "2022-04-02T11:38:08.208Z"
   },
   {
    "duration": 36,
    "start_time": "2022-04-02T11:39:06.221Z"
   },
   {
    "duration": 29,
    "start_time": "2022-04-02T11:39:51.551Z"
   },
   {
    "duration": 38,
    "start_time": "2022-04-02T11:40:30.268Z"
   },
   {
    "duration": 39,
    "start_time": "2022-04-02T11:40:45.708Z"
   },
   {
    "duration": 4,
    "start_time": "2022-04-02T11:40:53.397Z"
   },
   {
    "duration": 16,
    "start_time": "2022-04-02T11:40:53.407Z"
   },
   {
    "duration": 21,
    "start_time": "2022-04-02T11:40:53.427Z"
   },
   {
    "duration": 11,
    "start_time": "2022-04-02T11:40:53.450Z"
   },
   {
    "duration": 4,
    "start_time": "2022-04-02T11:40:53.464Z"
   },
   {
    "duration": 15,
    "start_time": "2022-04-02T11:40:53.470Z"
   },
   {
    "duration": 3,
    "start_time": "2022-04-02T11:40:53.487Z"
   },
   {
    "duration": 29,
    "start_time": "2022-04-02T11:40:53.492Z"
   },
   {
    "duration": 47,
    "start_time": "2022-04-02T11:40:53.524Z"
   },
   {
    "duration": 5,
    "start_time": "2022-04-02T11:40:53.574Z"
   },
   {
    "duration": 9,
    "start_time": "2022-04-02T11:40:53.582Z"
   },
   {
    "duration": 158,
    "start_time": "2022-04-02T11:40:53.594Z"
   },
   {
    "duration": 236,
    "start_time": "2022-04-02T11:40:53.754Z"
   },
   {
    "duration": 25,
    "start_time": "2022-04-02T11:40:53.992Z"
   },
   {
    "duration": 5,
    "start_time": "2022-04-02T11:40:54.020Z"
   },
   {
    "duration": 32,
    "start_time": "2022-04-02T11:40:56.152Z"
   },
   {
    "duration": 5,
    "start_time": "2022-04-02T11:41:15.048Z"
   },
   {
    "duration": 15,
    "start_time": "2022-04-02T11:41:15.056Z"
   },
   {
    "duration": 22,
    "start_time": "2022-04-02T11:41:15.073Z"
   },
   {
    "duration": 11,
    "start_time": "2022-04-02T11:41:15.098Z"
   },
   {
    "duration": 4,
    "start_time": "2022-04-02T11:41:15.111Z"
   },
   {
    "duration": 12,
    "start_time": "2022-04-02T11:41:15.118Z"
   },
   {
    "duration": 3,
    "start_time": "2022-04-02T11:41:15.179Z"
   },
   {
    "duration": 29,
    "start_time": "2022-04-02T11:41:15.184Z"
   },
   {
    "duration": 17,
    "start_time": "2022-04-02T11:41:15.215Z"
   },
   {
    "duration": 6,
    "start_time": "2022-04-02T11:41:15.234Z"
   },
   {
    "duration": 5,
    "start_time": "2022-04-02T11:41:15.268Z"
   },
   {
    "duration": 143,
    "start_time": "2022-04-02T11:41:15.275Z"
   },
   {
    "duration": 162,
    "start_time": "2022-04-02T11:41:15.420Z"
   },
   {
    "duration": 26,
    "start_time": "2022-04-02T11:41:15.585Z"
   },
   {
    "duration": 6,
    "start_time": "2022-04-02T11:41:15.613Z"
   },
   {
    "duration": 25,
    "start_time": "2022-04-02T11:41:17.552Z"
   },
   {
    "duration": 34,
    "start_time": "2022-04-02T11:41:49.754Z"
   },
   {
    "duration": 4,
    "start_time": "2022-04-02T11:42:00.276Z"
   },
   {
    "duration": 41,
    "start_time": "2022-04-02T11:42:00.283Z"
   },
   {
    "duration": 23,
    "start_time": "2022-04-02T11:42:00.327Z"
   },
   {
    "duration": 11,
    "start_time": "2022-04-02T11:42:00.352Z"
   },
   {
    "duration": 5,
    "start_time": "2022-04-02T11:42:00.367Z"
   },
   {
    "duration": 33,
    "start_time": "2022-04-02T11:42:00.374Z"
   },
   {
    "duration": 14,
    "start_time": "2022-04-02T11:42:00.409Z"
   },
   {
    "duration": 41,
    "start_time": "2022-04-02T11:42:00.425Z"
   },
   {
    "duration": 18,
    "start_time": "2022-04-02T11:42:00.468Z"
   },
   {
    "duration": 19,
    "start_time": "2022-04-02T11:42:00.488Z"
   },
   {
    "duration": 18,
    "start_time": "2022-04-02T11:42:00.511Z"
   },
   {
    "duration": 136,
    "start_time": "2022-04-02T11:42:00.531Z"
   },
   {
    "duration": 165,
    "start_time": "2022-04-02T11:42:00.670Z"
   },
   {
    "duration": 33,
    "start_time": "2022-04-02T11:42:00.837Z"
   },
   {
    "duration": 6,
    "start_time": "2022-04-02T11:42:00.872Z"
   },
   {
    "duration": 25,
    "start_time": "2022-04-02T11:42:02.847Z"
   },
   {
    "duration": 29,
    "start_time": "2022-04-02T11:43:24.140Z"
   },
   {
    "duration": 41,
    "start_time": "2022-04-02T11:44:10.436Z"
   },
   {
    "duration": 5,
    "start_time": "2022-04-02T11:44:29.172Z"
   },
   {
    "duration": 13,
    "start_time": "2022-04-02T11:44:29.184Z"
   },
   {
    "duration": 21,
    "start_time": "2022-04-02T11:44:29.200Z"
   },
   {
    "duration": 11,
    "start_time": "2022-04-02T11:44:29.223Z"
   },
   {
    "duration": 5,
    "start_time": "2022-04-02T11:44:29.237Z"
   },
   {
    "duration": 28,
    "start_time": "2022-04-02T11:44:29.244Z"
   },
   {
    "duration": 4,
    "start_time": "2022-04-02T11:44:29.275Z"
   },
   {
    "duration": 33,
    "start_time": "2022-04-02T11:44:29.281Z"
   },
   {
    "duration": 53,
    "start_time": "2022-04-02T11:44:29.316Z"
   },
   {
    "duration": 5,
    "start_time": "2022-04-02T11:44:29.372Z"
   },
   {
    "duration": 7,
    "start_time": "2022-04-02T11:44:29.380Z"
   },
   {
    "duration": 165,
    "start_time": "2022-04-02T11:44:29.390Z"
   },
   {
    "duration": 167,
    "start_time": "2022-04-02T11:44:29.557Z"
   },
   {
    "duration": 41,
    "start_time": "2022-04-02T11:44:29.727Z"
   },
   {
    "duration": 7,
    "start_time": "2022-04-02T11:44:29.770Z"
   },
   {
    "duration": 43,
    "start_time": "2022-04-02T11:44:29.779Z"
   },
   {
    "duration": 43,
    "start_time": "2022-04-02T11:44:31.257Z"
   },
   {
    "duration": 5,
    "start_time": "2022-04-02T11:45:00.499Z"
   },
   {
    "duration": 18,
    "start_time": "2022-04-02T11:45:00.509Z"
   },
   {
    "duration": 22,
    "start_time": "2022-04-02T11:45:00.530Z"
   },
   {
    "duration": 11,
    "start_time": "2022-04-02T11:45:00.554Z"
   },
   {
    "duration": 10,
    "start_time": "2022-04-02T11:45:00.568Z"
   },
   {
    "duration": 24,
    "start_time": "2022-04-02T11:45:00.581Z"
   },
   {
    "duration": 23,
    "start_time": "2022-04-02T11:45:00.607Z"
   },
   {
    "duration": 53,
    "start_time": "2022-04-02T11:45:00.633Z"
   },
   {
    "duration": 18,
    "start_time": "2022-04-02T11:45:00.688Z"
   },
   {
    "duration": 13,
    "start_time": "2022-04-02T11:45:00.709Z"
   },
   {
    "duration": 16,
    "start_time": "2022-04-02T11:45:00.726Z"
   },
   {
    "duration": 151,
    "start_time": "2022-04-02T11:45:00.744Z"
   },
   {
    "duration": 165,
    "start_time": "2022-04-02T11:45:00.898Z"
   },
   {
    "duration": 27,
    "start_time": "2022-04-02T11:45:01.066Z"
   },
   {
    "duration": 6,
    "start_time": "2022-04-02T11:45:01.096Z"
   },
   {
    "duration": 67,
    "start_time": "2022-04-02T11:45:01.104Z"
   },
   {
    "duration": 5,
    "start_time": "2022-04-02T11:45:18.260Z"
   },
   {
    "duration": 15,
    "start_time": "2022-04-02T11:45:18.268Z"
   },
   {
    "duration": 21,
    "start_time": "2022-04-02T11:45:18.286Z"
   },
   {
    "duration": 11,
    "start_time": "2022-04-02T11:45:18.310Z"
   },
   {
    "duration": 5,
    "start_time": "2022-04-02T11:45:18.324Z"
   },
   {
    "duration": 16,
    "start_time": "2022-04-02T11:45:18.331Z"
   },
   {
    "duration": 3,
    "start_time": "2022-04-02T11:45:18.368Z"
   },
   {
    "duration": 31,
    "start_time": "2022-04-02T11:45:18.373Z"
   },
   {
    "duration": 17,
    "start_time": "2022-04-02T11:45:18.406Z"
   },
   {
    "duration": 6,
    "start_time": "2022-04-02T11:45:18.425Z"
   },
   {
    "duration": 6,
    "start_time": "2022-04-02T11:45:18.467Z"
   },
   {
    "duration": 151,
    "start_time": "2022-04-02T11:45:18.476Z"
   },
   {
    "duration": 168,
    "start_time": "2022-04-02T11:45:18.629Z"
   },
   {
    "duration": 25,
    "start_time": "2022-04-02T11:45:18.799Z"
   },
   {
    "duration": 6,
    "start_time": "2022-04-02T11:45:18.827Z"
   },
   {
    "duration": 34,
    "start_time": "2022-04-02T11:45:21.416Z"
   },
   {
    "duration": 4,
    "start_time": "2022-04-02T11:45:40.668Z"
   },
   {
    "duration": 14,
    "start_time": "2022-04-02T11:45:40.676Z"
   },
   {
    "duration": 21,
    "start_time": "2022-04-02T11:45:40.693Z"
   },
   {
    "duration": 11,
    "start_time": "2022-04-02T11:45:40.716Z"
   },
   {
    "duration": 5,
    "start_time": "2022-04-02T11:45:40.730Z"
   },
   {
    "duration": 31,
    "start_time": "2022-04-02T11:45:40.738Z"
   },
   {
    "duration": 4,
    "start_time": "2022-04-02T11:45:40.772Z"
   },
   {
    "duration": 30,
    "start_time": "2022-04-02T11:45:40.779Z"
   },
   {
    "duration": 87,
    "start_time": "2022-04-02T11:45:40.811Z"
   },
   {
    "duration": 9,
    "start_time": "2022-04-02T11:45:40.902Z"
   },
   {
    "duration": 6,
    "start_time": "2022-04-02T11:45:40.916Z"
   },
   {
    "duration": 192,
    "start_time": "2022-04-02T11:45:40.924Z"
   },
   {
    "duration": 173,
    "start_time": "2022-04-02T11:45:41.119Z"
   },
   {
    "duration": 26,
    "start_time": "2022-04-02T11:45:41.295Z"
   },
   {
    "duration": 6,
    "start_time": "2022-04-02T11:45:41.324Z"
   },
   {
    "duration": 27,
    "start_time": "2022-04-02T11:45:42.830Z"
   },
   {
    "duration": 29,
    "start_time": "2022-04-02T11:46:22.265Z"
   },
   {
    "duration": 6,
    "start_time": "2022-04-02T11:47:34.045Z"
   },
   {
    "duration": 14,
    "start_time": "2022-04-02T11:47:34.054Z"
   },
   {
    "duration": 21,
    "start_time": "2022-04-02T11:47:34.071Z"
   },
   {
    "duration": 11,
    "start_time": "2022-04-02T11:47:34.094Z"
   },
   {
    "duration": 4,
    "start_time": "2022-04-02T11:47:34.108Z"
   },
   {
    "duration": 14,
    "start_time": "2022-04-02T11:47:34.114Z"
   },
   {
    "duration": 8,
    "start_time": "2022-04-02T11:47:34.130Z"
   },
   {
    "duration": 46,
    "start_time": "2022-04-02T11:47:34.140Z"
   },
   {
    "duration": 17,
    "start_time": "2022-04-02T11:47:34.188Z"
   },
   {
    "duration": 6,
    "start_time": "2022-04-02T11:47:34.207Z"
   },
   {
    "duration": 6,
    "start_time": "2022-04-02T11:47:34.216Z"
   },
   {
    "duration": 157,
    "start_time": "2022-04-02T11:47:34.225Z"
   },
   {
    "duration": 244,
    "start_time": "2022-04-02T11:47:34.384Z"
   },
   {
    "duration": 39,
    "start_time": "2022-04-02T11:47:34.629Z"
   },
   {
    "duration": 6,
    "start_time": "2022-04-02T11:47:34.670Z"
   },
   {
    "duration": 25,
    "start_time": "2022-04-02T11:47:36.475Z"
   },
   {
    "duration": 29,
    "start_time": "2022-04-02T11:47:46.535Z"
   },
   {
    "duration": 4,
    "start_time": "2022-04-02T11:48:38.361Z"
   },
   {
    "duration": 13,
    "start_time": "2022-04-02T11:48:38.372Z"
   },
   {
    "duration": 22,
    "start_time": "2022-04-02T11:48:38.388Z"
   },
   {
    "duration": 11,
    "start_time": "2022-04-02T11:48:38.412Z"
   },
   {
    "duration": 5,
    "start_time": "2022-04-02T11:48:38.426Z"
   },
   {
    "duration": 14,
    "start_time": "2022-04-02T11:48:38.433Z"
   },
   {
    "duration": 3,
    "start_time": "2022-04-02T11:48:38.468Z"
   },
   {
    "duration": 27,
    "start_time": "2022-04-02T11:48:38.473Z"
   },
   {
    "duration": 17,
    "start_time": "2022-04-02T11:48:38.503Z"
   },
   {
    "duration": 46,
    "start_time": "2022-04-02T11:48:38.522Z"
   },
   {
    "duration": 11,
    "start_time": "2022-04-02T11:48:38.569Z"
   },
   {
    "duration": 138,
    "start_time": "2022-04-02T11:48:38.582Z"
   },
   {
    "duration": 161,
    "start_time": "2022-04-02T11:48:38.722Z"
   },
   {
    "duration": 25,
    "start_time": "2022-04-02T11:48:38.885Z"
   },
   {
    "duration": 6,
    "start_time": "2022-04-02T11:48:38.912Z"
   },
   {
    "duration": 29,
    "start_time": "2022-04-02T11:48:40.265Z"
   },
   {
    "duration": 33,
    "start_time": "2022-04-02T11:48:53.423Z"
   },
   {
    "duration": 5,
    "start_time": "2022-04-02T11:49:38.476Z"
   },
   {
    "duration": 23,
    "start_time": "2022-04-02T11:49:38.483Z"
   },
   {
    "duration": 24,
    "start_time": "2022-04-02T11:49:38.509Z"
   },
   {
    "duration": 10,
    "start_time": "2022-04-02T11:49:38.535Z"
   },
   {
    "duration": 18,
    "start_time": "2022-04-02T11:49:38.548Z"
   },
   {
    "duration": 29,
    "start_time": "2022-04-02T11:49:38.568Z"
   },
   {
    "duration": 14,
    "start_time": "2022-04-02T11:49:38.599Z"
   },
   {
    "duration": 29,
    "start_time": "2022-04-02T11:49:38.616Z"
   },
   {
    "duration": 25,
    "start_time": "2022-04-02T11:49:38.648Z"
   },
   {
    "duration": 10,
    "start_time": "2022-04-02T11:49:38.676Z"
   },
   {
    "duration": 7,
    "start_time": "2022-04-02T11:49:38.691Z"
   },
   {
    "duration": 147,
    "start_time": "2022-04-02T11:49:38.701Z"
   },
   {
    "duration": 166,
    "start_time": "2022-04-02T11:49:38.851Z"
   },
   {
    "duration": 26,
    "start_time": "2022-04-02T11:49:39.020Z"
   },
   {
    "duration": 6,
    "start_time": "2022-04-02T11:49:39.069Z"
   },
   {
    "duration": 28,
    "start_time": "2022-04-02T11:49:39.079Z"
   },
   {
    "duration": 43,
    "start_time": "2022-04-02T11:49:40.669Z"
   },
   {
    "duration": 5,
    "start_time": "2022-04-02T11:50:16.528Z"
   },
   {
    "duration": 20,
    "start_time": "2022-04-02T11:50:16.536Z"
   },
   {
    "duration": 23,
    "start_time": "2022-04-02T11:50:16.560Z"
   },
   {
    "duration": 11,
    "start_time": "2022-04-02T11:50:16.585Z"
   },
   {
    "duration": 5,
    "start_time": "2022-04-02T11:50:16.600Z"
   },
   {
    "duration": 13,
    "start_time": "2022-04-02T11:50:16.608Z"
   },
   {
    "duration": 4,
    "start_time": "2022-04-02T11:50:16.623Z"
   },
   {
    "duration": 62,
    "start_time": "2022-04-02T11:50:16.629Z"
   },
   {
    "duration": 16,
    "start_time": "2022-04-02T11:50:16.694Z"
   },
   {
    "duration": 6,
    "start_time": "2022-04-02T11:50:16.713Z"
   },
   {
    "duration": 5,
    "start_time": "2022-04-02T11:50:16.725Z"
   },
   {
    "duration": 156,
    "start_time": "2022-04-02T11:50:16.768Z"
   },
   {
    "duration": 168,
    "start_time": "2022-04-02T11:50:16.927Z"
   },
   {
    "duration": 29,
    "start_time": "2022-04-02T11:50:17.097Z"
   },
   {
    "duration": 7,
    "start_time": "2022-04-02T11:50:17.128Z"
   },
   {
    "duration": 56,
    "start_time": "2022-04-02T11:50:17.137Z"
   },
   {
    "duration": 40,
    "start_time": "2022-04-02T11:50:18.917Z"
   },
   {
    "duration": 5,
    "start_time": "2022-04-02T11:55:03.313Z"
   },
   {
    "duration": 17,
    "start_time": "2022-04-02T11:55:03.321Z"
   },
   {
    "duration": 23,
    "start_time": "2022-04-02T11:55:03.340Z"
   },
   {
    "duration": 11,
    "start_time": "2022-04-02T11:55:03.365Z"
   },
   {
    "duration": 4,
    "start_time": "2022-04-02T11:55:03.380Z"
   },
   {
    "duration": 15,
    "start_time": "2022-04-02T11:55:03.386Z"
   },
   {
    "duration": 6,
    "start_time": "2022-04-02T11:55:03.404Z"
   },
   {
    "duration": 63,
    "start_time": "2022-04-02T11:55:03.412Z"
   },
   {
    "duration": 18,
    "start_time": "2022-04-02T11:55:03.478Z"
   },
   {
    "duration": 13,
    "start_time": "2022-04-02T11:55:03.499Z"
   },
   {
    "duration": 16,
    "start_time": "2022-04-02T11:55:03.516Z"
   },
   {
    "duration": 159,
    "start_time": "2022-04-02T11:55:03.534Z"
   },
   {
    "duration": 168,
    "start_time": "2022-04-02T11:55:03.695Z"
   },
   {
    "duration": 29,
    "start_time": "2022-04-02T11:55:03.867Z"
   },
   {
    "duration": 8,
    "start_time": "2022-04-02T11:55:03.898Z"
   },
   {
    "duration": 60,
    "start_time": "2022-04-02T11:55:03.908Z"
   },
   {
    "duration": 21,
    "start_time": "2022-04-02T11:55:03.970Z"
   },
   {
    "duration": 22,
    "start_time": "2022-04-02T11:55:07.128Z"
   },
   {
    "duration": 17,
    "start_time": "2022-04-02T11:55:59.865Z"
   },
   {
    "duration": 19,
    "start_time": "2022-04-02T11:56:42.659Z"
   },
   {
    "duration": 5,
    "start_time": "2022-04-02T11:58:18.122Z"
   },
   {
    "duration": 14,
    "start_time": "2022-04-02T11:58:18.130Z"
   },
   {
    "duration": 21,
    "start_time": "2022-04-02T11:58:18.146Z"
   },
   {
    "duration": 12,
    "start_time": "2022-04-02T11:58:18.170Z"
   },
   {
    "duration": 6,
    "start_time": "2022-04-02T11:58:18.185Z"
   },
   {
    "duration": 15,
    "start_time": "2022-04-02T11:58:18.193Z"
   },
   {
    "duration": 4,
    "start_time": "2022-04-02T11:58:18.210Z"
   },
   {
    "duration": 69,
    "start_time": "2022-04-02T11:58:18.216Z"
   },
   {
    "duration": 17,
    "start_time": "2022-04-02T11:58:18.288Z"
   },
   {
    "duration": 6,
    "start_time": "2022-04-02T11:58:18.307Z"
   },
   {
    "duration": 7,
    "start_time": "2022-04-02T11:58:18.315Z"
   },
   {
    "duration": 161,
    "start_time": "2022-04-02T11:58:18.324Z"
   },
   {
    "duration": 157,
    "start_time": "2022-04-02T11:58:18.487Z"
   },
   {
    "duration": 33,
    "start_time": "2022-04-02T11:58:18.646Z"
   },
   {
    "duration": 5,
    "start_time": "2022-04-02T11:58:18.682Z"
   },
   {
    "duration": 5,
    "start_time": "2022-04-02T11:59:15.168Z"
   },
   {
    "duration": 15,
    "start_time": "2022-04-02T11:59:15.176Z"
   },
   {
    "duration": 22,
    "start_time": "2022-04-02T11:59:15.193Z"
   },
   {
    "duration": 12,
    "start_time": "2022-04-02T11:59:15.217Z"
   },
   {
    "duration": 5,
    "start_time": "2022-04-02T11:59:15.232Z"
   },
   {
    "duration": 34,
    "start_time": "2022-04-02T11:59:15.239Z"
   },
   {
    "duration": 4,
    "start_time": "2022-04-02T11:59:15.275Z"
   },
   {
    "duration": 30,
    "start_time": "2022-04-02T11:59:15.281Z"
   },
   {
    "duration": 18,
    "start_time": "2022-04-02T11:59:15.314Z"
   },
   {
    "duration": 36,
    "start_time": "2022-04-02T11:59:15.334Z"
   },
   {
    "duration": 8,
    "start_time": "2022-04-02T11:59:15.372Z"
   },
   {
    "duration": 164,
    "start_time": "2022-04-02T11:59:15.382Z"
   },
   {
    "duration": 168,
    "start_time": "2022-04-02T11:59:15.549Z"
   },
   {
    "duration": 26,
    "start_time": "2022-04-02T11:59:15.721Z"
   },
   {
    "duration": 22,
    "start_time": "2022-04-02T11:59:15.749Z"
   },
   {
    "duration": 162,
    "start_time": "2022-04-02T11:59:18.280Z"
   },
   {
    "duration": 8,
    "start_time": "2022-04-02T11:59:29.166Z"
   },
   {
    "duration": 21,
    "start_time": "2022-04-02T11:59:45.546Z"
   },
   {
    "duration": 22,
    "start_time": "2022-04-02T11:59:52.303Z"
   },
   {
    "duration": 20,
    "start_time": "2022-04-02T12:00:00.536Z"
   },
   {
    "duration": 4,
    "start_time": "2022-04-02T12:01:17.848Z"
   },
   {
    "duration": 14,
    "start_time": "2022-04-02T12:01:17.857Z"
   },
   {
    "duration": 21,
    "start_time": "2022-04-02T12:01:17.874Z"
   },
   {
    "duration": 12,
    "start_time": "2022-04-02T12:01:17.897Z"
   },
   {
    "duration": 5,
    "start_time": "2022-04-02T12:01:17.911Z"
   },
   {
    "duration": 13,
    "start_time": "2022-04-02T12:01:17.918Z"
   },
   {
    "duration": 5,
    "start_time": "2022-04-02T12:01:17.933Z"
   },
   {
    "duration": 54,
    "start_time": "2022-04-02T12:01:17.940Z"
   },
   {
    "duration": 18,
    "start_time": "2022-04-02T12:01:17.997Z"
   },
   {
    "duration": 5,
    "start_time": "2022-04-02T12:01:18.020Z"
   },
   {
    "duration": 41,
    "start_time": "2022-04-02T12:01:18.028Z"
   },
   {
    "duration": 136,
    "start_time": "2022-04-02T12:01:18.072Z"
   },
   {
    "duration": 240,
    "start_time": "2022-04-02T12:01:18.211Z"
   },
   {
    "duration": 30,
    "start_time": "2022-04-02T12:01:18.454Z"
   },
   {
    "duration": 5,
    "start_time": "2022-04-02T12:01:18.487Z"
   },
   {
    "duration": 6,
    "start_time": "2022-04-02T12:01:18.495Z"
   },
   {
    "duration": 7,
    "start_time": "2022-04-02T12:01:20.599Z"
   },
   {
    "duration": 31,
    "start_time": "2022-04-02T12:01:21.095Z"
   },
   {
    "duration": 4,
    "start_time": "2022-04-02T12:01:52.163Z"
   },
   {
    "duration": 13,
    "start_time": "2022-04-02T12:01:52.173Z"
   },
   {
    "duration": 23,
    "start_time": "2022-04-02T12:01:52.188Z"
   },
   {
    "duration": 11,
    "start_time": "2022-04-02T12:01:52.213Z"
   },
   {
    "duration": 4,
    "start_time": "2022-04-02T12:01:52.227Z"
   },
   {
    "duration": 33,
    "start_time": "2022-04-02T12:01:52.234Z"
   },
   {
    "duration": 4,
    "start_time": "2022-04-02T12:01:52.269Z"
   },
   {
    "duration": 29,
    "start_time": "2022-04-02T12:01:52.275Z"
   },
   {
    "duration": 16,
    "start_time": "2022-04-02T12:01:52.307Z"
   },
   {
    "duration": 43,
    "start_time": "2022-04-02T12:01:52.326Z"
   },
   {
    "duration": 7,
    "start_time": "2022-04-02T12:01:52.372Z"
   },
   {
    "duration": 139,
    "start_time": "2022-04-02T12:01:52.381Z"
   },
   {
    "duration": 166,
    "start_time": "2022-04-02T12:01:52.522Z"
   },
   {
    "duration": 26,
    "start_time": "2022-04-02T12:01:52.690Z"
   },
   {
    "duration": 5,
    "start_time": "2022-04-02T12:01:52.718Z"
   },
   {
    "duration": 15,
    "start_time": "2022-04-02T12:01:54.653Z"
   },
   {
    "duration": 34,
    "start_time": "2022-04-02T12:03:00.368Z"
   },
   {
    "duration": 5,
    "start_time": "2022-04-02T12:03:20.351Z"
   },
   {
    "duration": 16,
    "start_time": "2022-04-02T12:03:20.359Z"
   },
   {
    "duration": 21,
    "start_time": "2022-04-02T12:03:20.377Z"
   },
   {
    "duration": 11,
    "start_time": "2022-04-02T12:03:20.400Z"
   },
   {
    "duration": 4,
    "start_time": "2022-04-02T12:03:20.414Z"
   },
   {
    "duration": 26,
    "start_time": "2022-04-02T12:03:20.420Z"
   },
   {
    "duration": 3,
    "start_time": "2022-04-02T12:03:20.448Z"
   },
   {
    "duration": 33,
    "start_time": "2022-04-02T12:03:20.453Z"
   },
   {
    "duration": 16,
    "start_time": "2022-04-02T12:03:20.489Z"
   },
   {
    "duration": 6,
    "start_time": "2022-04-02T12:03:20.507Z"
   },
   {
    "duration": 10,
    "start_time": "2022-04-02T12:03:20.517Z"
   },
   {
    "duration": 168,
    "start_time": "2022-04-02T12:03:20.529Z"
   },
   {
    "duration": 156,
    "start_time": "2022-04-02T12:03:20.699Z"
   },
   {
    "duration": 30,
    "start_time": "2022-04-02T12:03:20.858Z"
   },
   {
    "duration": 6,
    "start_time": "2022-04-02T12:03:20.890Z"
   },
   {
    "duration": 17,
    "start_time": "2022-04-02T12:03:20.898Z"
   },
   {
    "duration": 16,
    "start_time": "2022-04-02T12:03:22.101Z"
   },
   {
    "duration": 38,
    "start_time": "2022-04-02T12:03:22.748Z"
   },
   {
    "duration": 6,
    "start_time": "2022-04-02T12:03:50.592Z"
   },
   {
    "duration": 16,
    "start_time": "2022-04-02T12:03:50.604Z"
   },
   {
    "duration": 23,
    "start_time": "2022-04-02T12:03:50.624Z"
   },
   {
    "duration": 12,
    "start_time": "2022-04-02T12:03:50.649Z"
   },
   {
    "duration": 6,
    "start_time": "2022-04-02T12:03:50.665Z"
   },
   {
    "duration": 16,
    "start_time": "2022-04-02T12:03:50.673Z"
   },
   {
    "duration": 5,
    "start_time": "2022-04-02T12:03:50.692Z"
   },
   {
    "duration": 30,
    "start_time": "2022-04-02T12:03:50.700Z"
   },
   {
    "duration": 19,
    "start_time": "2022-04-02T12:03:50.768Z"
   },
   {
    "duration": 6,
    "start_time": "2022-04-02T12:03:50.790Z"
   },
   {
    "duration": 7,
    "start_time": "2022-04-02T12:03:50.801Z"
   },
   {
    "duration": 172,
    "start_time": "2022-04-02T12:03:50.810Z"
   },
   {
    "duration": 161,
    "start_time": "2022-04-02T12:03:50.984Z"
   },
   {
    "duration": 34,
    "start_time": "2022-04-02T12:03:51.147Z"
   },
   {
    "duration": 6,
    "start_time": "2022-04-02T12:03:51.183Z"
   },
   {
    "duration": 15,
    "start_time": "2022-04-02T12:03:51.191Z"
   },
   {
    "duration": 16,
    "start_time": "2022-04-02T12:03:53.360Z"
   },
   {
    "duration": 36,
    "start_time": "2022-04-02T12:03:54.309Z"
   },
   {
    "duration": 1561,
    "start_time": "2022-04-02T12:07:34.614Z"
   },
   {
    "duration": 13,
    "start_time": "2022-04-02T12:07:36.765Z"
   },
   {
    "duration": 23,
    "start_time": "2022-04-02T12:07:37.216Z"
   },
   {
    "duration": 12,
    "start_time": "2022-04-02T12:07:37.656Z"
   },
   {
    "duration": 4,
    "start_time": "2022-04-02T12:07:38.456Z"
   },
   {
    "duration": 16,
    "start_time": "2022-04-02T12:07:39.586Z"
   },
   {
    "duration": 4,
    "start_time": "2022-04-02T12:07:40.384Z"
   },
   {
    "duration": 28,
    "start_time": "2022-04-02T12:07:41.922Z"
   },
   {
    "duration": 18,
    "start_time": "2022-04-02T12:07:44.091Z"
   },
   {
    "duration": 4,
    "start_time": "2022-04-02T12:07:44.679Z"
   },
   {
    "duration": 5,
    "start_time": "2022-04-02T12:07:45.088Z"
   },
   {
    "duration": 150,
    "start_time": "2022-04-02T12:07:46.000Z"
   },
   {
    "duration": 146,
    "start_time": "2022-04-02T12:07:47.896Z"
   },
   {
    "duration": 26,
    "start_time": "2022-04-02T12:07:50.483Z"
   },
   {
    "duration": 6,
    "start_time": "2022-04-02T12:07:52.062Z"
   },
   {
    "duration": 15,
    "start_time": "2022-04-02T12:08:02.292Z"
   },
   {
    "duration": 37,
    "start_time": "2022-04-02T12:08:04.413Z"
   },
   {
    "duration": 1418,
    "start_time": "2022-04-02T12:09:49.909Z"
   },
   {
    "duration": 21,
    "start_time": "2022-04-02T12:09:51.868Z"
   },
   {
    "duration": 22,
    "start_time": "2022-04-02T12:09:52.210Z"
   },
   {
    "duration": 11,
    "start_time": "2022-04-02T12:09:52.548Z"
   },
   {
    "duration": 5,
    "start_time": "2022-04-02T12:09:53.198Z"
   },
   {
    "duration": 16,
    "start_time": "2022-04-02T12:09:54.005Z"
   },
   {
    "duration": 4,
    "start_time": "2022-04-02T12:09:54.573Z"
   },
   {
    "duration": 30,
    "start_time": "2022-04-02T12:09:55.376Z"
   },
   {
    "duration": 19,
    "start_time": "2022-04-02T12:09:56.362Z"
   },
   {
    "duration": 5,
    "start_time": "2022-04-02T12:09:56.630Z"
   },
   {
    "duration": 6,
    "start_time": "2022-04-02T12:09:56.911Z"
   },
   {
    "duration": 148,
    "start_time": "2022-04-02T12:09:57.874Z"
   },
   {
    "duration": 140,
    "start_time": "2022-04-02T12:09:59.379Z"
   },
   {
    "duration": 25,
    "start_time": "2022-04-02T12:10:01.031Z"
   },
   {
    "duration": 6,
    "start_time": "2022-04-02T12:10:02.662Z"
   },
   {
    "duration": 14,
    "start_time": "2022-04-02T12:10:05.533Z"
   },
   {
    "duration": 26,
    "start_time": "2022-04-02T12:10:06.712Z"
   },
   {
    "duration": 28,
    "start_time": "2022-04-02T12:10:09.564Z"
   },
   {
    "duration": 15,
    "start_time": "2022-04-02T12:10:12.164Z"
   },
   {
    "duration": 257,
    "start_time": "2022-04-02T12:10:55.496Z"
   },
   {
    "duration": 271,
    "start_time": "2022-04-02T12:11:13.207Z"
   },
   {
    "duration": 251,
    "start_time": "2022-04-02T12:11:40.284Z"
   },
   {
    "duration": 245,
    "start_time": "2022-04-02T12:11:55.539Z"
   },
   {
    "duration": 275,
    "start_time": "2022-04-02T12:15:30.464Z"
   },
   {
    "duration": 528,
    "start_time": "2022-04-02T13:09:56.196Z"
   },
   {
    "duration": 205,
    "start_time": "2022-04-02T13:10:18.017Z"
   },
   {
    "duration": 682,
    "start_time": "2022-04-02T13:10:27.125Z"
   },
   {
    "duration": 471,
    "start_time": "2022-04-02T13:10:35.090Z"
   },
   {
    "duration": 512,
    "start_time": "2022-04-02T13:12:25.844Z"
   },
   {
    "duration": 254,
    "start_time": "2022-04-02T13:17:39.238Z"
   },
   {
    "duration": 523,
    "start_time": "2022-04-02T13:18:07.626Z"
   },
   {
    "duration": 589,
    "start_time": "2022-04-02T13:19:23.642Z"
   },
   {
    "duration": 595,
    "start_time": "2022-04-02T13:19:39.303Z"
   },
   {
    "duration": 528,
    "start_time": "2022-04-02T13:19:47.520Z"
   },
   {
    "duration": 541,
    "start_time": "2022-04-02T13:20:01.438Z"
   },
   {
    "duration": 632,
    "start_time": "2022-04-02T13:22:00.701Z"
   },
   {
    "duration": 9,
    "start_time": "2022-04-02T13:23:32.627Z"
   },
   {
    "duration": 267,
    "start_time": "2022-04-02T13:23:33.153Z"
   },
   {
    "duration": 201,
    "start_time": "2022-04-02T13:23:33.584Z"
   },
   {
    "duration": 10,
    "start_time": "2022-04-02T13:23:34.404Z"
   },
   {
    "duration": 12,
    "start_time": "2022-04-02T13:23:34.951Z"
   },
   {
    "duration": 8,
    "start_time": "2022-04-02T13:23:36.393Z"
   },
   {
    "duration": 6,
    "start_time": "2022-04-02T13:23:37.008Z"
   },
   {
    "duration": 446,
    "start_time": "2022-04-02T13:23:37.716Z"
   },
   {
    "duration": 333,
    "start_time": "2022-04-02T13:23:40.412Z"
   },
   {
    "duration": 8,
    "start_time": "2022-04-02T13:23:42.110Z"
   },
   {
    "duration": 417,
    "start_time": "2022-04-02T13:23:42.508Z"
   },
   {
    "duration": 9,
    "start_time": "2022-04-02T13:23:44.017Z"
   },
   {
    "duration": 434,
    "start_time": "2022-04-02T13:23:44.587Z"
   },
   {
    "duration": 12,
    "start_time": "2022-04-02T13:23:45.991Z"
   },
   {
    "duration": 463,
    "start_time": "2022-04-02T13:23:46.426Z"
   },
   {
    "duration": 15,
    "start_time": "2022-04-02T13:23:49.466Z"
   },
   {
    "duration": 390,
    "start_time": "2022-04-02T13:23:50.208Z"
   },
   {
    "duration": 5,
    "start_time": "2022-04-02T13:23:53.682Z"
   },
   {
    "duration": 8,
    "start_time": "2022-04-02T13:23:55.666Z"
   },
   {
    "duration": 425,
    "start_time": "2022-04-02T13:23:56.246Z"
   },
   {
    "duration": 6,
    "start_time": "2022-04-02T13:23:58.963Z"
   },
   {
    "duration": 81,
    "start_time": "2022-04-02T13:29:32.015Z"
   },
   {
    "duration": 79,
    "start_time": "2022-04-02T13:29:32.634Z"
   },
   {
    "duration": 100,
    "start_time": "2022-04-02T13:29:33.415Z"
   },
   {
    "duration": 99,
    "start_time": "2022-04-02T13:29:33.918Z"
   },
   {
    "duration": 45,
    "start_time": "2022-04-02T13:29:34.547Z"
   },
   {
    "duration": 296,
    "start_time": "2022-04-02T13:29:41.521Z"
   },
   {
    "duration": 9,
    "start_time": "2022-04-02T13:29:42.911Z"
   },
   {
    "duration": 31,
    "start_time": "2022-04-02T13:29:52.772Z"
   },
   {
    "duration": 15,
    "start_time": "2022-04-02T13:29:55.256Z"
   },
   {
    "duration": 9,
    "start_time": "2022-04-02T13:29:56.610Z"
   },
   {
    "duration": 6,
    "start_time": "2022-04-02T13:29:56.846Z"
   },
   {
    "duration": 6,
    "start_time": "2022-04-02T13:29:57.068Z"
   },
   {
    "duration": 13,
    "start_time": "2022-04-02T13:29:57.610Z"
   },
   {
    "duration": 31,
    "start_time": "2022-04-02T13:29:58.249Z"
   },
   {
    "duration": 1318,
    "start_time": "2022-04-02T13:52:23.790Z"
   },
   {
    "duration": 14,
    "start_time": "2022-04-02T13:52:25.625Z"
   },
   {
    "duration": 22,
    "start_time": "2022-04-02T13:52:26.072Z"
   },
   {
    "duration": 12,
    "start_time": "2022-04-02T13:52:26.504Z"
   },
   {
    "duration": 4,
    "start_time": "2022-04-02T13:52:27.329Z"
   },
   {
    "duration": 17,
    "start_time": "2022-04-02T13:52:28.708Z"
   },
   {
    "duration": 4,
    "start_time": "2022-04-02T13:52:30.112Z"
   },
   {
    "duration": 30,
    "start_time": "2022-04-02T13:52:31.295Z"
   },
   {
    "duration": 18,
    "start_time": "2022-04-02T13:52:32.614Z"
   },
   {
    "duration": 5,
    "start_time": "2022-04-02T13:52:33.059Z"
   },
   {
    "duration": 6,
    "start_time": "2022-04-02T13:52:33.432Z"
   },
   {
    "duration": 145,
    "start_time": "2022-04-02T13:52:34.825Z"
   },
   {
    "duration": 140,
    "start_time": "2022-04-02T13:52:36.994Z"
   },
   {
    "duration": 24,
    "start_time": "2022-04-02T13:52:39.358Z"
   },
   {
    "duration": 6,
    "start_time": "2022-04-02T13:52:40.751Z"
   },
   {
    "duration": 16,
    "start_time": "2022-04-02T13:52:44.544Z"
   },
   {
    "duration": 24,
    "start_time": "2022-04-02T13:52:45.119Z"
   },
   {
    "duration": 27,
    "start_time": "2022-04-02T13:52:48.223Z"
   },
   {
    "duration": 14,
    "start_time": "2022-04-02T13:52:49.669Z"
   },
   {
    "duration": 625,
    "start_time": "2022-04-02T13:52:55.477Z"
   },
   {
    "duration": 14,
    "start_time": "2022-04-02T13:53:40.699Z"
   },
   {
    "duration": 620,
    "start_time": "2022-04-02T13:53:41.311Z"
   },
   {
    "duration": 8,
    "start_time": "2022-04-02T13:53:48.852Z"
   },
   {
    "duration": 267,
    "start_time": "2022-04-02T13:53:49.329Z"
   },
   {
    "duration": 207,
    "start_time": "2022-04-02T13:53:49.818Z"
   },
   {
    "duration": 10,
    "start_time": "2022-04-02T13:53:50.197Z"
   },
   {
    "duration": 12,
    "start_time": "2022-04-02T13:53:50.489Z"
   },
   {
    "duration": 8,
    "start_time": "2022-04-02T13:53:51.407Z"
   },
   {
    "duration": 7,
    "start_time": "2022-04-02T13:53:51.723Z"
   },
   {
    "duration": 585,
    "start_time": "2022-04-02T13:53:52.174Z"
   },
   {
    "duration": 519,
    "start_time": "2022-04-02T13:53:54.491Z"
   },
   {
    "duration": 12,
    "start_time": "2022-04-02T13:53:56.416Z"
   },
   {
    "duration": 647,
    "start_time": "2022-04-02T13:53:56.909Z"
   },
   {
    "duration": 9,
    "start_time": "2022-04-02T13:53:58.337Z"
   },
   {
    "duration": 413,
    "start_time": "2022-04-02T13:53:58.790Z"
   },
   {
    "duration": 12,
    "start_time": "2022-04-02T13:54:00.164Z"
   },
   {
    "duration": 472,
    "start_time": "2022-04-02T13:54:00.598Z"
   },
   {
    "duration": 18,
    "start_time": "2022-04-02T13:54:02.142Z"
   },
   {
    "duration": 393,
    "start_time": "2022-04-02T13:54:02.466Z"
   },
   {
    "duration": 7,
    "start_time": "2022-04-02T13:54:04.084Z"
   },
   {
    "duration": 7,
    "start_time": "2022-04-02T13:54:05.477Z"
   },
   {
    "duration": 443,
    "start_time": "2022-04-02T13:54:05.788Z"
   },
   {
    "duration": 6,
    "start_time": "2022-04-02T13:54:07.377Z"
   },
   {
    "duration": 85,
    "start_time": "2022-04-02T13:54:11.457Z"
   },
   {
    "duration": 84,
    "start_time": "2022-04-02T13:54:11.894Z"
   },
   {
    "duration": 95,
    "start_time": "2022-04-02T13:54:12.251Z"
   },
   {
    "duration": 101,
    "start_time": "2022-04-02T13:54:12.707Z"
   },
   {
    "duration": 75,
    "start_time": "2022-04-02T13:54:13.052Z"
   },
   {
    "duration": 281,
    "start_time": "2022-04-02T13:54:14.190Z"
   },
   {
    "duration": 10,
    "start_time": "2022-04-02T13:54:14.884Z"
   },
   {
    "duration": 31,
    "start_time": "2022-04-02T13:54:16.473Z"
   },
   {
    "duration": 16,
    "start_time": "2022-04-02T13:54:18.257Z"
   },
   {
    "duration": 7,
    "start_time": "2022-04-02T13:54:19.435Z"
   },
   {
    "duration": 5,
    "start_time": "2022-04-02T13:54:19.731Z"
   },
   {
    "duration": 7,
    "start_time": "2022-04-02T13:54:20.057Z"
   },
   {
    "duration": 12,
    "start_time": "2022-04-02T13:54:20.636Z"
   },
   {
    "duration": 32,
    "start_time": "2022-04-02T13:54:21.376Z"
   },
   {
    "duration": 19,
    "start_time": "2022-04-02T13:54:24.517Z"
   },
   {
    "duration": 1133,
    "start_time": "2022-04-03T03:43:12.161Z"
   },
   {
    "duration": 17,
    "start_time": "2022-04-03T03:43:13.296Z"
   },
   {
    "duration": 36,
    "start_time": "2022-04-03T03:43:13.315Z"
   },
   {
    "duration": 16,
    "start_time": "2022-04-03T03:43:13.353Z"
   },
   {
    "duration": 4,
    "start_time": "2022-04-03T03:43:13.371Z"
   },
   {
    "duration": 16,
    "start_time": "2022-04-03T03:43:13.376Z"
   },
   {
    "duration": 3,
    "start_time": "2022-04-03T03:43:13.393Z"
   },
   {
    "duration": 24,
    "start_time": "2022-04-03T03:43:13.398Z"
   },
   {
    "duration": 12,
    "start_time": "2022-04-03T03:43:13.424Z"
   },
   {
    "duration": 9,
    "start_time": "2022-04-03T03:43:13.439Z"
   },
   {
    "duration": 7,
    "start_time": "2022-04-03T03:43:13.450Z"
   },
   {
    "duration": 111,
    "start_time": "2022-04-03T03:43:13.459Z"
   },
   {
    "duration": 113,
    "start_time": "2022-04-03T03:43:13.572Z"
   },
   {
    "duration": 18,
    "start_time": "2022-04-03T03:43:13.687Z"
   },
   {
    "duration": 4,
    "start_time": "2022-04-03T03:43:13.707Z"
   },
   {
    "duration": 11,
    "start_time": "2022-04-03T03:43:13.731Z"
   },
   {
    "duration": 18,
    "start_time": "2022-04-03T03:43:13.743Z"
   },
   {
    "duration": 18,
    "start_time": "2022-04-03T03:43:13.763Z"
   },
   {
    "duration": 10,
    "start_time": "2022-04-03T03:43:13.783Z"
   },
   {
    "duration": 478,
    "start_time": "2022-04-03T03:43:13.794Z"
   },
   {
    "duration": 6,
    "start_time": "2022-04-03T03:43:14.274Z"
   },
   {
    "duration": 169,
    "start_time": "2022-04-03T03:43:14.282Z"
   },
   {
    "duration": 136,
    "start_time": "2022-04-03T03:43:14.453Z"
   },
   {
    "duration": 7,
    "start_time": "2022-04-03T03:43:14.591Z"
   },
   {
    "duration": 12,
    "start_time": "2022-04-03T03:43:14.599Z"
   },
   {
    "duration": 6,
    "start_time": "2022-04-03T03:43:14.632Z"
   },
   {
    "duration": 6,
    "start_time": "2022-04-03T03:43:14.640Z"
   },
   {
    "duration": 309,
    "start_time": "2022-04-03T03:43:14.651Z"
   },
   {
    "duration": 247,
    "start_time": "2022-04-03T03:43:14.962Z"
   },
   {
    "duration": 7,
    "start_time": "2022-04-03T03:43:15.211Z"
   },
   {
    "duration": 345,
    "start_time": "2022-04-03T03:43:15.233Z"
   },
   {
    "duration": 6,
    "start_time": "2022-04-03T03:43:15.580Z"
   },
   {
    "duration": 248,
    "start_time": "2022-04-03T03:43:15.588Z"
   },
   {
    "duration": 8,
    "start_time": "2022-04-03T03:43:15.838Z"
   },
   {
    "duration": 329,
    "start_time": "2022-04-03T03:43:15.848Z"
   },
   {
    "duration": 12,
    "start_time": "2022-04-03T03:43:16.179Z"
   },
   {
    "duration": 361,
    "start_time": "2022-04-03T03:43:16.193Z"
   },
   {
    "duration": 4,
    "start_time": "2022-04-03T03:43:16.556Z"
   },
   {
    "duration": 8,
    "start_time": "2022-04-03T03:43:16.562Z"
   },
   {
    "duration": 307,
    "start_time": "2022-04-03T03:43:16.572Z"
   },
   {
    "duration": 5,
    "start_time": "2022-04-03T03:43:16.881Z"
   },
   {
    "duration": 70,
    "start_time": "2022-04-03T03:43:16.887Z"
   },
   {
    "duration": 54,
    "start_time": "2022-04-03T03:43:16.958Z"
   },
   {
    "duration": 78,
    "start_time": "2022-04-03T03:43:17.014Z"
   },
   {
    "duration": 76,
    "start_time": "2022-04-03T03:43:17.094Z"
   },
   {
    "duration": 30,
    "start_time": "2022-04-03T03:43:17.172Z"
   },
   {
    "duration": 135,
    "start_time": "2022-04-03T03:43:17.204Z"
   },
   {
    "duration": 7,
    "start_time": "2022-04-03T03:43:17.341Z"
   },
   {
    "duration": 28,
    "start_time": "2022-04-03T03:43:17.350Z"
   },
   {
    "duration": 11,
    "start_time": "2022-04-03T03:43:17.380Z"
   },
   {
    "duration": 6,
    "start_time": "2022-04-03T03:43:17.393Z"
   },
   {
    "duration": 32,
    "start_time": "2022-04-03T03:43:17.400Z"
   },
   {
    "duration": 7,
    "start_time": "2022-04-03T03:43:17.434Z"
   },
   {
    "duration": 8,
    "start_time": "2022-04-03T03:43:17.443Z"
   },
   {
    "duration": 26,
    "start_time": "2022-04-03T03:43:17.453Z"
   },
   {
    "duration": 14,
    "start_time": "2022-04-03T03:43:17.481Z"
   },
   {
    "duration": 12,
    "start_time": "2022-04-03T04:04:26.043Z"
   },
   {
    "duration": 9,
    "start_time": "2022-04-03T04:04:44.192Z"
   },
   {
    "duration": 11,
    "start_time": "2022-04-03T04:04:53.234Z"
   },
   {
    "duration": 3188,
    "start_time": "2022-04-03T04:05:04.949Z"
   },
   {
    "duration": 11,
    "start_time": "2022-04-03T04:05:13.013Z"
   },
   {
    "duration": 9,
    "start_time": "2022-04-03T04:05:22.849Z"
   },
   {
    "duration": 1806,
    "start_time": "2022-04-27T15:36:33.618Z"
   },
   {
    "duration": 75,
    "start_time": "2022-07-10T12:43:03.467Z"
   },
   {
    "duration": 62,
    "start_time": "2022-07-10T12:43:33.352Z"
   },
   {
    "duration": 90,
    "start_time": "2022-07-10T12:43:54.318Z"
   },
   {
    "duration": 16,
    "start_time": "2022-07-10T12:44:01.152Z"
   },
   {
    "duration": 9,
    "start_time": "2022-07-10T12:44:18.157Z"
   },
   {
    "duration": 1699,
    "start_time": "2022-07-10T12:45:06.376Z"
   },
   {
    "duration": 36,
    "start_time": "2022-07-10T12:45:08.078Z"
   },
   {
    "duration": 56,
    "start_time": "2022-07-10T12:45:08.116Z"
   },
   {
    "duration": 34,
    "start_time": "2022-07-10T12:45:08.174Z"
   },
   {
    "duration": 5,
    "start_time": "2022-07-10T12:45:08.210Z"
   },
   {
    "duration": 36,
    "start_time": "2022-07-10T12:45:08.216Z"
   },
   {
    "duration": 24,
    "start_time": "2022-07-10T12:45:08.254Z"
   },
   {
    "duration": 40,
    "start_time": "2022-07-10T12:45:08.280Z"
   },
   {
    "duration": 26,
    "start_time": "2022-07-10T12:45:08.322Z"
   },
   {
    "duration": 11,
    "start_time": "2022-07-10T12:45:08.353Z"
   },
   {
    "duration": 8,
    "start_time": "2022-07-10T12:45:08.367Z"
   },
   {
    "duration": 157,
    "start_time": "2022-07-10T12:45:08.378Z"
   },
   {
    "duration": 15,
    "start_time": "2022-07-10T12:45:08.539Z"
   },
   {
    "duration": 162,
    "start_time": "2022-07-10T12:45:08.557Z"
   },
   {
    "duration": 26,
    "start_time": "2022-07-10T12:45:08.720Z"
   },
   {
    "duration": 17,
    "start_time": "2022-07-10T12:45:08.747Z"
   },
   {
    "duration": 15,
    "start_time": "2022-07-10T12:45:08.767Z"
   },
   {
    "duration": 21,
    "start_time": "2022-07-10T12:45:08.784Z"
   },
   {
    "duration": 33,
    "start_time": "2022-07-10T12:45:08.807Z"
   },
   {
    "duration": 51,
    "start_time": "2022-07-10T12:45:08.843Z"
   },
   {
    "duration": 578,
    "start_time": "2022-07-10T12:45:08.896Z"
   },
   {
    "duration": 6,
    "start_time": "2022-07-10T12:45:09.476Z"
   },
   {
    "duration": 363,
    "start_time": "2022-07-10T12:45:09.484Z"
   },
   {
    "duration": 155,
    "start_time": "2022-07-10T12:45:09.849Z"
   },
   {
    "duration": 8,
    "start_time": "2022-07-10T12:45:10.007Z"
   },
   {
    "duration": 30,
    "start_time": "2022-07-10T12:45:10.026Z"
   },
   {
    "duration": 11,
    "start_time": "2022-07-10T12:45:10.058Z"
   },
   {
    "duration": 8,
    "start_time": "2022-07-10T12:45:10.074Z"
   },
   {
    "duration": 371,
    "start_time": "2022-07-10T12:45:10.084Z"
   },
   {
    "duration": 374,
    "start_time": "2022-07-10T12:45:10.457Z"
   },
   {
    "duration": 12,
    "start_time": "2022-07-10T12:45:10.833Z"
   },
   {
    "duration": 596,
    "start_time": "2022-07-10T12:45:10.852Z"
   },
   {
    "duration": 6,
    "start_time": "2022-07-10T12:45:11.450Z"
   },
   {
    "duration": 569,
    "start_time": "2022-07-10T12:45:11.457Z"
   },
   {
    "duration": 13,
    "start_time": "2022-07-10T12:45:12.027Z"
   },
   {
    "duration": 508,
    "start_time": "2022-07-10T12:45:12.042Z"
   },
   {
    "duration": 13,
    "start_time": "2022-07-10T12:45:12.552Z"
   },
   {
    "duration": 792,
    "start_time": "2022-07-10T12:45:12.566Z"
   },
   {
    "duration": 5,
    "start_time": "2022-07-10T12:45:13.360Z"
   },
   {
    "duration": 64,
    "start_time": "2022-07-10T12:45:13.367Z"
   },
   {
    "duration": 422,
    "start_time": "2022-07-10T12:45:13.433Z"
   },
   {
    "duration": 5,
    "start_time": "2022-07-10T12:45:13.857Z"
   },
   {
    "duration": 83,
    "start_time": "2022-07-10T12:45:13.864Z"
   },
   {
    "duration": 60,
    "start_time": "2022-07-10T12:45:13.949Z"
   },
   {
    "duration": 147,
    "start_time": "2022-07-10T12:45:14.011Z"
   },
   {
    "duration": 95,
    "start_time": "2022-07-10T12:45:14.169Z"
   },
   {
    "duration": 39,
    "start_time": "2022-07-10T12:45:14.267Z"
   },
   {
    "duration": 219,
    "start_time": "2022-07-10T12:45:14.308Z"
   },
   {
    "duration": 12,
    "start_time": "2022-07-10T12:45:14.533Z"
   },
   {
    "duration": 48,
    "start_time": "2022-07-10T12:45:14.547Z"
   },
   {
    "duration": 12,
    "start_time": "2022-07-10T12:45:14.597Z"
   },
   {
    "duration": 73,
    "start_time": "2022-07-10T12:45:14.614Z"
   },
   {
    "duration": 11,
    "start_time": "2022-07-10T12:45:14.689Z"
   },
   {
    "duration": 10,
    "start_time": "2022-07-10T12:45:14.702Z"
   },
   {
    "duration": 14,
    "start_time": "2022-07-10T12:45:14.714Z"
   },
   {
    "duration": 76,
    "start_time": "2022-07-10T12:45:14.730Z"
   },
   {
    "duration": 23,
    "start_time": "2022-07-10T12:45:14.808Z"
   },
   {
    "duration": 13,
    "start_time": "2022-07-10T12:45:41.651Z"
   },
   {
    "duration": 1199,
    "start_time": "2022-07-10T12:51:51.846Z"
   },
   {
    "duration": 17,
    "start_time": "2022-07-10T12:51:53.047Z"
   },
   {
    "duration": 19,
    "start_time": "2022-07-10T12:51:53.066Z"
   },
   {
    "duration": 8,
    "start_time": "2022-07-10T12:51:53.087Z"
   },
   {
    "duration": 2,
    "start_time": "2022-07-10T12:51:53.098Z"
   },
   {
    "duration": 14,
    "start_time": "2022-07-10T12:51:53.102Z"
   },
   {
    "duration": 4,
    "start_time": "2022-07-10T12:51:53.118Z"
   },
   {
    "duration": 45,
    "start_time": "2022-07-10T12:51:53.125Z"
   },
   {
    "duration": 15,
    "start_time": "2022-07-10T12:51:53.172Z"
   },
   {
    "duration": 8,
    "start_time": "2022-07-10T12:51:53.189Z"
   },
   {
    "duration": 7,
    "start_time": "2022-07-10T12:51:53.199Z"
   },
   {
    "duration": 138,
    "start_time": "2022-07-10T12:51:53.208Z"
   },
   {
    "duration": 19,
    "start_time": "2022-07-10T12:51:53.349Z"
   },
   {
    "duration": 117,
    "start_time": "2022-07-10T12:51:53.372Z"
   },
   {
    "duration": 17,
    "start_time": "2022-07-10T12:51:53.490Z"
   },
   {
    "duration": 23,
    "start_time": "2022-07-10T12:51:53.508Z"
   },
   {
    "duration": 23,
    "start_time": "2022-07-10T12:51:53.533Z"
   },
   {
    "duration": 24,
    "start_time": "2022-07-10T12:51:53.558Z"
   },
   {
    "duration": 21,
    "start_time": "2022-07-10T12:51:53.584Z"
   },
   {
    "duration": 35,
    "start_time": "2022-07-10T12:51:53.607Z"
   },
   {
    "duration": 440,
    "start_time": "2022-07-10T12:51:53.644Z"
   },
   {
    "duration": 6,
    "start_time": "2022-07-10T12:51:54.086Z"
   },
   {
    "duration": 190,
    "start_time": "2022-07-10T12:51:54.094Z"
   },
   {
    "duration": 133,
    "start_time": "2022-07-10T12:51:54.287Z"
   },
   {
    "duration": 9,
    "start_time": "2022-07-10T12:51:54.422Z"
   },
   {
    "duration": 27,
    "start_time": "2022-07-10T12:51:54.435Z"
   },
   {
    "duration": 6,
    "start_time": "2022-07-10T12:51:54.464Z"
   },
   {
    "duration": 8,
    "start_time": "2022-07-10T12:51:54.472Z"
   },
   {
    "duration": 364,
    "start_time": "2022-07-10T12:51:54.482Z"
   },
   {
    "duration": 234,
    "start_time": "2022-07-10T12:51:54.848Z"
   },
   {
    "duration": 6,
    "start_time": "2022-07-10T12:51:55.084Z"
   },
   {
    "duration": 375,
    "start_time": "2022-07-10T12:51:55.092Z"
   },
   {
    "duration": 6,
    "start_time": "2022-07-10T12:51:55.469Z"
   },
   {
    "duration": 280,
    "start_time": "2022-07-10T12:51:55.478Z"
   },
   {
    "duration": 9,
    "start_time": "2022-07-10T12:51:55.760Z"
   },
   {
    "duration": 337,
    "start_time": "2022-07-10T12:51:55.770Z"
   },
   {
    "duration": 24,
    "start_time": "2022-07-10T12:51:56.109Z"
   },
   {
    "duration": 410,
    "start_time": "2022-07-10T12:51:56.134Z"
   },
   {
    "duration": 6,
    "start_time": "2022-07-10T12:51:56.545Z"
   },
   {
    "duration": 14,
    "start_time": "2022-07-10T12:51:56.553Z"
   },
   {
    "duration": 309,
    "start_time": "2022-07-10T12:51:56.571Z"
   },
   {
    "duration": 5,
    "start_time": "2022-07-10T12:51:56.881Z"
   },
   {
    "duration": 77,
    "start_time": "2022-07-10T12:51:56.888Z"
   },
   {
    "duration": 51,
    "start_time": "2022-07-10T12:51:56.967Z"
   },
   {
    "duration": 65,
    "start_time": "2022-07-10T12:51:57.030Z"
   },
   {
    "duration": 96,
    "start_time": "2022-07-10T12:51:57.097Z"
   },
   {
    "duration": 47,
    "start_time": "2022-07-10T12:51:57.195Z"
   },
   {
    "duration": 191,
    "start_time": "2022-07-10T12:51:57.247Z"
   },
   {
    "duration": 13,
    "start_time": "2022-07-10T12:51:57.440Z"
   },
   {
    "duration": 53,
    "start_time": "2022-07-10T12:51:57.455Z"
   },
   {
    "duration": 19,
    "start_time": "2022-07-10T12:51:57.510Z"
   },
   {
    "duration": 34,
    "start_time": "2022-07-10T12:51:57.534Z"
   },
   {
    "duration": 14,
    "start_time": "2022-07-10T12:51:57.570Z"
   },
   {
    "duration": 9,
    "start_time": "2022-07-10T12:51:57.587Z"
   },
   {
    "duration": 39,
    "start_time": "2022-07-10T12:51:57.598Z"
   },
   {
    "duration": 55,
    "start_time": "2022-07-10T12:51:57.642Z"
   },
   {
    "duration": 17,
    "start_time": "2022-07-10T12:51:57.699Z"
   }
  ],
  "kernelspec": {
   "display_name": "Python 3 (ipykernel)",
   "language": "python",
   "name": "python3"
  },
  "language_info": {
   "codemirror_mode": {
    "name": "ipython",
    "version": 3
   },
   "file_extension": ".py",
   "mimetype": "text/x-python",
   "name": "python",
   "nbconvert_exporter": "python",
   "pygments_lexer": "ipython3",
   "version": "3.9.5"
  },
  "toc": {
   "base_numbering": 1,
   "nav_menu": {},
   "number_sections": true,
   "sideBar": true,
   "skip_h1_title": true,
   "title_cell": "Table of Contents",
   "title_sidebar": "Contents",
   "toc_cell": false,
   "toc_position": {},
   "toc_section_display": true,
   "toc_window_display": true
  }
 },
 "nbformat": 4,
 "nbformat_minor": 2
}
