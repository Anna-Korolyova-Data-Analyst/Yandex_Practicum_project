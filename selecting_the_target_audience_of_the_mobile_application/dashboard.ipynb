{
 "cells": [
  {
   "cell_type": "markdown",
   "metadata": {},
   "source": [
    "# Dashbord for project selecting_the_target_audience_of_the_mobile_application"
   ]
  },
  {
   "cell_type": "markdown",
   "metadata": {},
   "source": [
    "## Введение  в проект\n",
    "Цель Дашборда - автоматизировать процесса анализа данных.\n",
    "Для этого я собрала 2 дашборда:\n",
    "1. Набор 1 - для аналиаз событий (как распределены, как рапределены пользователи по событиям с фильтром по времени).\n",
    "2. Набор 2 - для анализа динамики событий и распределения пользователй по источникам с фильтром по типу события."
   ]
  },
  {
   "cell_type": "markdown",
   "metadata": {},
   "source": [
    "## Источник данных\n",
    "В данном учебном проекте использованы внутренние данные Яндекс.Практикум, совершенные в мобильном приложении \"Ненужные вещи\"."
   ]
  },
  {
   "cell_type": "markdown",
   "metadata": {},
   "source": [
    "## Ссылка на дашборд"
   ]
  },
  {
   "cell_type": "markdown",
   "metadata": {},
   "source": [
    "https://public.tableau.com/app/profile/.74267011/viz/final_16558051889380/2?publish=yes"
   ]
  }
 ],
 "metadata": {
  "kernelspec": {
   "display_name": "Python 3 (ipykernel)",
   "language": "python",
   "name": "python3"
  },
  "language_info": {
   "codemirror_mode": {
    "name": "ipython",
    "version": 3
   },
   "file_extension": ".py",
   "mimetype": "text/x-python",
   "name": "python",
   "nbconvert_exporter": "python",
   "pygments_lexer": "ipython3",
   "version": "3.9.5"
  },
  "toc": {
   "base_numbering": 1,
   "nav_menu": {},
   "number_sections": true,
   "sideBar": true,
   "skip_h1_title": true,
   "title_cell": "Table of Contents",
   "title_sidebar": "Contents",
   "toc_cell": false,
   "toc_position": {},
   "toc_section_display": true,
   "toc_window_display": false
  }
 },
 "nbformat": 4,
 "nbformat_minor": 2
}
