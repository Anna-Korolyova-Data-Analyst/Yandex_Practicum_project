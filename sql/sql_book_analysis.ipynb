{
 "cells": [
  {
   "cell_type": "markdown",
   "id": "c85f7bad",
   "metadata": {},
   "source": [
    "# SQL"
   ]
  },
  {
   "cell_type": "markdown",
   "id": "151192e1",
   "metadata": {},
   "source": [
    "Цель исследования - проанализировать базу данных о книгах, чтобы понять, что учесть в новом продукте.\n",
    "<br>Для этого определить:\n",
    "1. Какое количество книг в базе\n",
    "2. Какие книги самые популярные\n",
    "3. Какие издательства самые крупные\n",
    "4. Какие авторы самые популярные\n",
    "5. Как много книг читают самые активные пользователи"
   ]
  },
  {
   "cell_type": "markdown",
   "id": "75d92a33",
   "metadata": {},
   "source": [
    "## Импорт библиотек"
   ]
  },
  {
   "cell_type": "code",
   "execution_count": 1,
   "id": "e9119e5f",
   "metadata": {},
   "outputs": [],
   "source": [
    "# импортируем библиотеки\n",
    "import pandas as pd\n",
    "from sqlalchemy import create_engine \n",
    "import datetime as dt"
   ]
  },
  {
   "cell_type": "markdown",
   "id": "881f54cc",
   "metadata": {},
   "source": [
    "## Функции"
   ]
  },
  {
   "cell_type": "code",
   "execution_count": 2,
   "id": "35cc1276",
   "metadata": {},
   "outputs": [],
   "source": [
    "# функция для вывода запроса\n",
    "def request(query):\n",
    "    return pd.io.sql.read_sql(query, con = engine)"
   ]
  },
  {
   "cell_type": "markdown",
   "id": "19fb9714",
   "metadata": {},
   "source": [
    "## Установка параметров"
   ]
  },
  {
   "cell_type": "code",
   "execution_count": 3,
   "id": "e7c095de",
   "metadata": {},
   "outputs": [],
   "source": [
    "# устанавливаем параметры\n",
    "db_config = {'user': 'praktikum_student', # имя пользователя\n",
    "             'pwd': 'Sdf4$2;d-d30pp', # пароль\n",
    "             'host': 'rc1b-wcoijxj3yxfsf3fs.mdb.yandexcloud.net',\n",
    "             'port': 6432, # порт подключения\n",
    "             'db': 'data-analyst-final-project-db'} # название базы данных"
   ]
  },
  {
   "cell_type": "code",
   "execution_count": 4,
   "id": "e092d0fa",
   "metadata": {},
   "outputs": [],
   "source": [
    "connection_string = 'postgresql://{}:{}@{}:{}/{}'.format(db_config['user'],\n",
    "                                                         db_config['pwd'],\n",
    "                                                         db_config['host'],\n",
    "                                                         db_config['port'],\n",
    "                                                         db_config['db']) "
   ]
  },
  {
   "cell_type": "code",
   "execution_count": 5,
   "id": "0fcfc3ff",
   "metadata": {},
   "outputs": [],
   "source": [
    "# сохраняем коннектор\n",
    "engine = create_engine(connection_string, connect_args={'sslmode':'require'}) "
   ]
  },
  {
   "cell_type": "markdown",
   "id": "3d245709",
   "metadata": {},
   "source": [
    "## Обзор таблиц"
   ]
  },
  {
   "cell_type": "code",
   "execution_count": 6,
   "id": "25f2e433",
   "metadata": {},
   "outputs": [],
   "source": [
    "query = '''SELECT *\n",
    "           FROM \n",
    "        '''"
   ]
  },
  {
   "cell_type": "markdown",
   "id": "d1e41358",
   "metadata": {},
   "source": [
    "### Таблица books"
   ]
  },
  {
   "cell_type": "code",
   "execution_count": 7,
   "id": "cfed99c6",
   "metadata": {},
   "outputs": [
    {
     "data": {
      "text/html": [
       "<div>\n",
       "<style scoped>\n",
       "    .dataframe tbody tr th:only-of-type {\n",
       "        vertical-align: middle;\n",
       "    }\n",
       "\n",
       "    .dataframe tbody tr th {\n",
       "        vertical-align: top;\n",
       "    }\n",
       "\n",
       "    .dataframe thead th {\n",
       "        text-align: right;\n",
       "    }\n",
       "</style>\n",
       "<table border=\"1\" class=\"dataframe\">\n",
       "  <thead>\n",
       "    <tr style=\"text-align: right;\">\n",
       "      <th></th>\n",
       "      <th>book_id</th>\n",
       "      <th>author_id</th>\n",
       "      <th>title</th>\n",
       "      <th>num_pages</th>\n",
       "      <th>publication_date</th>\n",
       "      <th>publisher_id</th>\n",
       "    </tr>\n",
       "  </thead>\n",
       "  <tbody>\n",
       "    <tr>\n",
       "      <th>0</th>\n",
       "      <td>1</td>\n",
       "      <td>546</td>\n",
       "      <td>'Salem's Lot</td>\n",
       "      <td>594</td>\n",
       "      <td>2005-11-01</td>\n",
       "      <td>93</td>\n",
       "    </tr>\n",
       "    <tr>\n",
       "      <th>1</th>\n",
       "      <td>2</td>\n",
       "      <td>465</td>\n",
       "      <td>1 000 Places to See Before You Die</td>\n",
       "      <td>992</td>\n",
       "      <td>2003-05-22</td>\n",
       "      <td>336</td>\n",
       "    </tr>\n",
       "    <tr>\n",
       "      <th>2</th>\n",
       "      <td>3</td>\n",
       "      <td>407</td>\n",
       "      <td>13 Little Blue Envelopes (Little Blue Envelope...</td>\n",
       "      <td>322</td>\n",
       "      <td>2010-12-21</td>\n",
       "      <td>135</td>\n",
       "    </tr>\n",
       "    <tr>\n",
       "      <th>3</th>\n",
       "      <td>4</td>\n",
       "      <td>82</td>\n",
       "      <td>1491: New Revelations of the Americas Before C...</td>\n",
       "      <td>541</td>\n",
       "      <td>2006-10-10</td>\n",
       "      <td>309</td>\n",
       "    </tr>\n",
       "    <tr>\n",
       "      <th>4</th>\n",
       "      <td>5</td>\n",
       "      <td>125</td>\n",
       "      <td>1776</td>\n",
       "      <td>386</td>\n",
       "      <td>2006-07-04</td>\n",
       "      <td>268</td>\n",
       "    </tr>\n",
       "  </tbody>\n",
       "</table>\n",
       "</div>"
      ],
      "text/plain": [
       "   book_id  author_id                                              title  \\\n",
       "0        1        546                                       'Salem's Lot   \n",
       "1        2        465                 1 000 Places to See Before You Die   \n",
       "2        3        407  13 Little Blue Envelopes (Little Blue Envelope...   \n",
       "3        4         82  1491: New Revelations of the Americas Before C...   \n",
       "4        5        125                                               1776   \n",
       "\n",
       "   num_pages publication_date  publisher_id  \n",
       "0        594       2005-11-01            93  \n",
       "1        992       2003-05-22           336  \n",
       "2        322       2010-12-21           135  \n",
       "3        541       2006-10-10           309  \n",
       "4        386       2006-07-04           268  "
      ]
     },
     "execution_count": 7,
     "metadata": {},
     "output_type": "execute_result"
    }
   ],
   "source": [
    "request(query+'books').head()"
   ]
  },
  {
   "cell_type": "markdown",
   "id": "51be3200",
   "metadata": {},
   "source": [
    "Содержит данные о книгах:\n",
    "- book_id — идентификатор книги;\n",
    "- author_id — идентификатор автора;\n",
    "- title — название книги;\n",
    "- num_pages — количество страниц;\n",
    "- publication_date — дата публикации книги;\n",
    "- publisher_id — идентификатор издателя."
   ]
  },
  {
   "cell_type": "markdown",
   "id": "d64bacb5",
   "metadata": {},
   "source": [
    "### Таблица authors"
   ]
  },
  {
   "cell_type": "code",
   "execution_count": 8,
   "id": "4bedb2d8",
   "metadata": {},
   "outputs": [
    {
     "data": {
      "text/html": [
       "<div>\n",
       "<style scoped>\n",
       "    .dataframe tbody tr th:only-of-type {\n",
       "        vertical-align: middle;\n",
       "    }\n",
       "\n",
       "    .dataframe tbody tr th {\n",
       "        vertical-align: top;\n",
       "    }\n",
       "\n",
       "    .dataframe thead th {\n",
       "        text-align: right;\n",
       "    }\n",
       "</style>\n",
       "<table border=\"1\" class=\"dataframe\">\n",
       "  <thead>\n",
       "    <tr style=\"text-align: right;\">\n",
       "      <th></th>\n",
       "      <th>author_id</th>\n",
       "      <th>author</th>\n",
       "    </tr>\n",
       "  </thead>\n",
       "  <tbody>\n",
       "    <tr>\n",
       "      <th>0</th>\n",
       "      <td>1</td>\n",
       "      <td>A.S. Byatt</td>\n",
       "    </tr>\n",
       "    <tr>\n",
       "      <th>1</th>\n",
       "      <td>2</td>\n",
       "      <td>Aesop/Laura Harris/Laura Gibbs</td>\n",
       "    </tr>\n",
       "    <tr>\n",
       "      <th>2</th>\n",
       "      <td>3</td>\n",
       "      <td>Agatha Christie</td>\n",
       "    </tr>\n",
       "    <tr>\n",
       "      <th>3</th>\n",
       "      <td>4</td>\n",
       "      <td>Alan Brennert</td>\n",
       "    </tr>\n",
       "    <tr>\n",
       "      <th>4</th>\n",
       "      <td>5</td>\n",
       "      <td>Alan Moore/David   Lloyd</td>\n",
       "    </tr>\n",
       "  </tbody>\n",
       "</table>\n",
       "</div>"
      ],
      "text/plain": [
       "   author_id                          author\n",
       "0          1                      A.S. Byatt\n",
       "1          2  Aesop/Laura Harris/Laura Gibbs\n",
       "2          3                 Agatha Christie\n",
       "3          4                   Alan Brennert\n",
       "4          5        Alan Moore/David   Lloyd"
      ]
     },
     "execution_count": 8,
     "metadata": {},
     "output_type": "execute_result"
    }
   ],
   "source": [
    "request(query+'authors').head()"
   ]
  },
  {
   "cell_type": "markdown",
   "id": "5467e67c",
   "metadata": {},
   "source": [
    "Содержит данные об авторах:\n",
    "- author_id — идентификатор автора;\n",
    "- author — имя автора."
   ]
  },
  {
   "cell_type": "markdown",
   "id": "d0c58232",
   "metadata": {},
   "source": [
    "### Таблица publishers"
   ]
  },
  {
   "cell_type": "code",
   "execution_count": 9,
   "id": "75656b87",
   "metadata": {},
   "outputs": [
    {
     "data": {
      "text/html": [
       "<div>\n",
       "<style scoped>\n",
       "    .dataframe tbody tr th:only-of-type {\n",
       "        vertical-align: middle;\n",
       "    }\n",
       "\n",
       "    .dataframe tbody tr th {\n",
       "        vertical-align: top;\n",
       "    }\n",
       "\n",
       "    .dataframe thead th {\n",
       "        text-align: right;\n",
       "    }\n",
       "</style>\n",
       "<table border=\"1\" class=\"dataframe\">\n",
       "  <thead>\n",
       "    <tr style=\"text-align: right;\">\n",
       "      <th></th>\n",
       "      <th>publisher_id</th>\n",
       "      <th>publisher</th>\n",
       "    </tr>\n",
       "  </thead>\n",
       "  <tbody>\n",
       "    <tr>\n",
       "      <th>0</th>\n",
       "      <td>1</td>\n",
       "      <td>Ace</td>\n",
       "    </tr>\n",
       "    <tr>\n",
       "      <th>1</th>\n",
       "      <td>2</td>\n",
       "      <td>Ace Book</td>\n",
       "    </tr>\n",
       "    <tr>\n",
       "      <th>2</th>\n",
       "      <td>3</td>\n",
       "      <td>Ace Books</td>\n",
       "    </tr>\n",
       "    <tr>\n",
       "      <th>3</th>\n",
       "      <td>4</td>\n",
       "      <td>Ace Hardcover</td>\n",
       "    </tr>\n",
       "    <tr>\n",
       "      <th>4</th>\n",
       "      <td>5</td>\n",
       "      <td>Addison Wesley Publishing Company</td>\n",
       "    </tr>\n",
       "  </tbody>\n",
       "</table>\n",
       "</div>"
      ],
      "text/plain": [
       "   publisher_id                          publisher\n",
       "0             1                                Ace\n",
       "1             2                           Ace Book\n",
       "2             3                          Ace Books\n",
       "3             4                      Ace Hardcover\n",
       "4             5  Addison Wesley Publishing Company"
      ]
     },
     "execution_count": 9,
     "metadata": {},
     "output_type": "execute_result"
    }
   ],
   "source": [
    "request(query+'publishers').head()"
   ]
  },
  {
   "cell_type": "markdown",
   "id": "6b35289b",
   "metadata": {},
   "source": [
    "Содержит данные об издательствах:\n",
    "- publisher_id — идентификатор издательства;\n",
    "- publisher — название издательства."
   ]
  },
  {
   "cell_type": "markdown",
   "id": "3d245709",
   "metadata": {},
   "source": [
    "### Таблица ratings"
   ]
  },
  {
   "cell_type": "code",
   "execution_count": 10,
   "id": "cbdbef37",
   "metadata": {},
   "outputs": [
    {
     "data": {
      "text/html": [
       "<div>\n",
       "<style scoped>\n",
       "    .dataframe tbody tr th:only-of-type {\n",
       "        vertical-align: middle;\n",
       "    }\n",
       "\n",
       "    .dataframe tbody tr th {\n",
       "        vertical-align: top;\n",
       "    }\n",
       "\n",
       "    .dataframe thead th {\n",
       "        text-align: right;\n",
       "    }\n",
       "</style>\n",
       "<table border=\"1\" class=\"dataframe\">\n",
       "  <thead>\n",
       "    <tr style=\"text-align: right;\">\n",
       "      <th></th>\n",
       "      <th>rating_id</th>\n",
       "      <th>book_id</th>\n",
       "      <th>username</th>\n",
       "      <th>rating</th>\n",
       "    </tr>\n",
       "  </thead>\n",
       "  <tbody>\n",
       "    <tr>\n",
       "      <th>0</th>\n",
       "      <td>1</td>\n",
       "      <td>1</td>\n",
       "      <td>ryanfranco</td>\n",
       "      <td>4</td>\n",
       "    </tr>\n",
       "    <tr>\n",
       "      <th>1</th>\n",
       "      <td>2</td>\n",
       "      <td>1</td>\n",
       "      <td>grantpatricia</td>\n",
       "      <td>2</td>\n",
       "    </tr>\n",
       "    <tr>\n",
       "      <th>2</th>\n",
       "      <td>3</td>\n",
       "      <td>1</td>\n",
       "      <td>brandtandrea</td>\n",
       "      <td>5</td>\n",
       "    </tr>\n",
       "    <tr>\n",
       "      <th>3</th>\n",
       "      <td>4</td>\n",
       "      <td>2</td>\n",
       "      <td>lorichen</td>\n",
       "      <td>3</td>\n",
       "    </tr>\n",
       "    <tr>\n",
       "      <th>4</th>\n",
       "      <td>5</td>\n",
       "      <td>2</td>\n",
       "      <td>mariokeller</td>\n",
       "      <td>2</td>\n",
       "    </tr>\n",
       "  </tbody>\n",
       "</table>\n",
       "</div>"
      ],
      "text/plain": [
       "   rating_id  book_id       username  rating\n",
       "0          1        1     ryanfranco       4\n",
       "1          2        1  grantpatricia       2\n",
       "2          3        1   brandtandrea       5\n",
       "3          4        2       lorichen       3\n",
       "4          5        2    mariokeller       2"
      ]
     },
     "execution_count": 10,
     "metadata": {},
     "output_type": "execute_result"
    }
   ],
   "source": [
    "request(query+'ratings').head()"
   ]
  },
  {
   "cell_type": "markdown",
   "id": "c2fef95b",
   "metadata": {},
   "source": [
    "Содержит данные о пользовательских оценках книг:\n",
    "- rating_id — идентификатор оценки;\n",
    "- book_id — идентификатор книги;\n",
    "- username — имя пользователя, оставившего оценку;\n",
    "- rating — оценка книги."
   ]
  },
  {
   "cell_type": "markdown",
   "id": "3d245709",
   "metadata": {},
   "source": [
    "### Таблица reviews"
   ]
  },
  {
   "cell_type": "code",
   "execution_count": 11,
   "id": "aa140d69",
   "metadata": {},
   "outputs": [
    {
     "data": {
      "text/html": [
       "<div>\n",
       "<style scoped>\n",
       "    .dataframe tbody tr th:only-of-type {\n",
       "        vertical-align: middle;\n",
       "    }\n",
       "\n",
       "    .dataframe tbody tr th {\n",
       "        vertical-align: top;\n",
       "    }\n",
       "\n",
       "    .dataframe thead th {\n",
       "        text-align: right;\n",
       "    }\n",
       "</style>\n",
       "<table border=\"1\" class=\"dataframe\">\n",
       "  <thead>\n",
       "    <tr style=\"text-align: right;\">\n",
       "      <th></th>\n",
       "      <th>review_id</th>\n",
       "      <th>book_id</th>\n",
       "      <th>username</th>\n",
       "      <th>text</th>\n",
       "    </tr>\n",
       "  </thead>\n",
       "  <tbody>\n",
       "    <tr>\n",
       "      <th>0</th>\n",
       "      <td>1</td>\n",
       "      <td>1</td>\n",
       "      <td>brandtandrea</td>\n",
       "      <td>Mention society tell send professor analysis. ...</td>\n",
       "    </tr>\n",
       "    <tr>\n",
       "      <th>1</th>\n",
       "      <td>2</td>\n",
       "      <td>1</td>\n",
       "      <td>ryanfranco</td>\n",
       "      <td>Foot glass pretty audience hit themselves. Amo...</td>\n",
       "    </tr>\n",
       "    <tr>\n",
       "      <th>2</th>\n",
       "      <td>3</td>\n",
       "      <td>2</td>\n",
       "      <td>lorichen</td>\n",
       "      <td>Listen treat keep worry. Miss husband tax but ...</td>\n",
       "    </tr>\n",
       "    <tr>\n",
       "      <th>3</th>\n",
       "      <td>4</td>\n",
       "      <td>3</td>\n",
       "      <td>johnsonamanda</td>\n",
       "      <td>Finally month interesting blue could nature cu...</td>\n",
       "    </tr>\n",
       "    <tr>\n",
       "      <th>4</th>\n",
       "      <td>5</td>\n",
       "      <td>3</td>\n",
       "      <td>scotttamara</td>\n",
       "      <td>Nation purpose heavy give wait song will. List...</td>\n",
       "    </tr>\n",
       "  </tbody>\n",
       "</table>\n",
       "</div>"
      ],
      "text/plain": [
       "   review_id  book_id       username  \\\n",
       "0          1        1   brandtandrea   \n",
       "1          2        1     ryanfranco   \n",
       "2          3        2       lorichen   \n",
       "3          4        3  johnsonamanda   \n",
       "4          5        3    scotttamara   \n",
       "\n",
       "                                                text  \n",
       "0  Mention society tell send professor analysis. ...  \n",
       "1  Foot glass pretty audience hit themselves. Amo...  \n",
       "2  Listen treat keep worry. Miss husband tax but ...  \n",
       "3  Finally month interesting blue could nature cu...  \n",
       "4  Nation purpose heavy give wait song will. List...  "
      ]
     },
     "execution_count": 11,
     "metadata": {},
     "output_type": "execute_result"
    }
   ],
   "source": [
    "request(query+'reviews').head()"
   ]
  },
  {
   "cell_type": "markdown",
   "id": "36ded0b9",
   "metadata": {},
   "source": [
    "Содержит данные о пользовательских обзорах на книги:\n",
    "- review_id — идентификатор обзора;\n",
    "- book_id — идентификатор книги;\n",
    "- username — имя пользователя, написавшего обзор;\n",
    "- text — текст обзора."
   ]
  },
  {
   "cell_type": "markdown",
   "id": "3d245709",
   "metadata": {},
   "source": [
    "## Задание №1:\n",
    "Сколько книг вышло после 1 января 2000"
   ]
  },
  {
   "cell_type": "code",
   "execution_count": 12,
   "id": "71d7cf1c",
   "metadata": {},
   "outputs": [],
   "source": [
    "query = '''SELECT COUNT(DISTINCT title)\n",
    "           FROM books\n",
    "           WHERE publication_date > '2000-01-01'\n",
    "        '''"
   ]
  },
  {
   "cell_type": "code",
   "execution_count": 13,
   "id": "5d7c6e49",
   "metadata": {
    "scrolled": true
   },
   "outputs": [
    {
     "data": {
      "text/html": [
       "<div>\n",
       "<style scoped>\n",
       "    .dataframe tbody tr th:only-of-type {\n",
       "        vertical-align: middle;\n",
       "    }\n",
       "\n",
       "    .dataframe tbody tr th {\n",
       "        vertical-align: top;\n",
       "    }\n",
       "\n",
       "    .dataframe thead th {\n",
       "        text-align: right;\n",
       "    }\n",
       "</style>\n",
       "<table border=\"1\" class=\"dataframe\">\n",
       "  <thead>\n",
       "    <tr style=\"text-align: right;\">\n",
       "      <th></th>\n",
       "      <th>count</th>\n",
       "    </tr>\n",
       "  </thead>\n",
       "  <tbody>\n",
       "    <tr>\n",
       "      <th>0</th>\n",
       "      <td>818</td>\n",
       "    </tr>\n",
       "  </tbody>\n",
       "</table>\n",
       "</div>"
      ],
      "text/plain": [
       "   count\n",
       "0    818"
      ]
     },
     "execution_count": 13,
     "metadata": {},
     "output_type": "execute_result"
    }
   ],
   "source": [
    "request(query)"
   ]
  },
  {
   "cell_type": "markdown",
   "id": "3d245709",
   "metadata": {},
   "source": [
    "### Вывод:\n",
    "В купленном сервисе **820 книг (вместо 782 книг без равно)**, эта информация позволяет понять какое количество книг должно быть в ьазе, чтобы заинтересовать новых пользователей."
   ]
  },
  {
   "cell_type": "markdown",
   "id": "3d245709",
   "metadata": {},
   "source": [
    "## Задание №2:\n",
    "Для каждой книги посчитайте количество обзоров и среднюю оценку"
   ]
  },
  {
   "cell_type": "markdown",
   "id": "89969032",
   "metadata": {},
   "source": [
    "Добавила сортировку по средней оценке и количеству обзоров для себя"
   ]
  },
  {
   "cell_type": "code",
   "execution_count": 14,
   "id": "71d7cf1c",
   "metadata": {},
   "outputs": [],
   "source": [
    "query = '''\n",
    "           WITH\n",
    "           book_rev AS (\n",
    "                        SELECT book_id,\n",
    "                               COUNT(reviews) AS count_rev\n",
    "                        FROM reviews\n",
    "                        GROUP BY book_id\n",
    "                        )\n",
    "                        \n",
    "           SELECT DISTINCT b.title AS t,\n",
    "                  MAX(brv.count_rev),\n",
    "                  AVG(r.rating)\n",
    "           FROM books AS b\n",
    "           LEFT JOIN ratings AS r ON b.book_id = r.book_id\n",
    "           LEFT JOIN book_rev AS brv ON b.book_id = brv.book_id\n",
    "           GROUP BY t\n",
    "           ORDER BY AVG(r.rating) DESC,\n",
    "                    MAX(brv.count_rev) DESC\n",
    "        '''"
   ]
  },
  {
   "cell_type": "code",
   "execution_count": 15,
   "id": "5d7c6e49",
   "metadata": {},
   "outputs": [
    {
     "data": {
      "text/html": [
       "<div>\n",
       "<style scoped>\n",
       "    .dataframe tbody tr th:only-of-type {\n",
       "        vertical-align: middle;\n",
       "    }\n",
       "\n",
       "    .dataframe tbody tr th {\n",
       "        vertical-align: top;\n",
       "    }\n",
       "\n",
       "    .dataframe thead th {\n",
       "        text-align: right;\n",
       "    }\n",
       "</style>\n",
       "<table border=\"1\" class=\"dataframe\">\n",
       "  <thead>\n",
       "    <tr style=\"text-align: right;\">\n",
       "      <th></th>\n",
       "      <th>t</th>\n",
       "      <th>max</th>\n",
       "      <th>avg</th>\n",
       "    </tr>\n",
       "  </thead>\n",
       "  <tbody>\n",
       "    <tr>\n",
       "      <th>0</th>\n",
       "      <td>The Cat in the Hat and Other Dr. Seuss Favorites</td>\n",
       "      <td>NaN</td>\n",
       "      <td>5.0</td>\n",
       "    </tr>\n",
       "    <tr>\n",
       "      <th>1</th>\n",
       "      <td>A Dirty Job (Grim Reaper  #1)</td>\n",
       "      <td>4.0</td>\n",
       "      <td>5.0</td>\n",
       "    </tr>\n",
       "    <tr>\n",
       "      <th>2</th>\n",
       "      <td>Moneyball: The Art of Winning an Unfair Game</td>\n",
       "      <td>3.0</td>\n",
       "      <td>5.0</td>\n",
       "    </tr>\n",
       "    <tr>\n",
       "      <th>3</th>\n",
       "      <td>School's Out—Forever (Maximum Ride  #2)</td>\n",
       "      <td>3.0</td>\n",
       "      <td>5.0</td>\n",
       "    </tr>\n",
       "    <tr>\n",
       "      <th>4</th>\n",
       "      <td>A Fistful of Charms (The Hollows  #4)</td>\n",
       "      <td>2.0</td>\n",
       "      <td>5.0</td>\n",
       "    </tr>\n",
       "    <tr>\n",
       "      <th>5</th>\n",
       "      <td>A Woman of Substance (Emma Harte Saga #1)</td>\n",
       "      <td>2.0</td>\n",
       "      <td>5.0</td>\n",
       "    </tr>\n",
       "    <tr>\n",
       "      <th>6</th>\n",
       "      <td>Act of Treason (Mitch Rapp  #9)</td>\n",
       "      <td>2.0</td>\n",
       "      <td>5.0</td>\n",
       "    </tr>\n",
       "    <tr>\n",
       "      <th>7</th>\n",
       "      <td>Alas  Babylon</td>\n",
       "      <td>2.0</td>\n",
       "      <td>5.0</td>\n",
       "    </tr>\n",
       "    <tr>\n",
       "      <th>8</th>\n",
       "      <td>Angels Fall</td>\n",
       "      <td>2.0</td>\n",
       "      <td>5.0</td>\n",
       "    </tr>\n",
       "    <tr>\n",
       "      <th>9</th>\n",
       "      <td>Arrows of the Queen (Heralds of Valdemar  #1)</td>\n",
       "      <td>2.0</td>\n",
       "      <td>5.0</td>\n",
       "    </tr>\n",
       "  </tbody>\n",
       "</table>\n",
       "</div>"
      ],
      "text/plain": [
       "                                                  t  max  avg\n",
       "0  The Cat in the Hat and Other Dr. Seuss Favorites  NaN  5.0\n",
       "1                     A Dirty Job (Grim Reaper  #1)  4.0  5.0\n",
       "2      Moneyball: The Art of Winning an Unfair Game  3.0  5.0\n",
       "3           School's Out—Forever (Maximum Ride  #2)  3.0  5.0\n",
       "4             A Fistful of Charms (The Hollows  #4)  2.0  5.0\n",
       "5         A Woman of Substance (Emma Harte Saga #1)  2.0  5.0\n",
       "6                   Act of Treason (Mitch Rapp  #9)  2.0  5.0\n",
       "7                                     Alas  Babylon  2.0  5.0\n",
       "8                                       Angels Fall  2.0  5.0\n",
       "9     Arrows of the Queen (Heralds of Valdemar  #1)  2.0  5.0"
      ]
     },
     "execution_count": 15,
     "metadata": {},
     "output_type": "execute_result"
    }
   ],
   "source": [
    "request(query).head(10)"
   ]
  },
  {
   "cell_type": "markdown",
   "id": "3d245709",
   "metadata": {},
   "source": [
    "### Вывод:\n",
    "1. Самая высокая средняя оценка - 5, скорее всего в сервисе использовалась 5-ти бальная шкала.\n",
    "2. Самое высокое число обзоров среди популярных книг - 4.\n",
    "3. Этот запрос позволяет найти самые топовые книги, которые обязательно должны присутствовать в базе книг."
   ]
  },
  {
   "cell_type": "markdown",
   "id": "3d245709",
   "metadata": {},
   "source": [
    "## Задание №3:\n",
    "Определите издательство, которое выпустило наибольшее число книг толще 50 страниц — так вы исключите из анализа брошюры"
   ]
  },
  {
   "cell_type": "code",
   "execution_count": 16,
   "id": "71d7cf1c",
   "metadata": {},
   "outputs": [],
   "source": [
    "query = '''SELECT p.publisher\n",
    "           FROM publishers AS p\n",
    "           LEFT JOIN books AS b ON p.publisher_id = b.publisher_id\n",
    "           WHERE b.num_pages > 50\n",
    "           GROUP BY p.publisher\n",
    "           ORDER BY COUNT(DISTINCT b.book_id) DESC\n",
    "           LIMIT 1           \n",
    "        '''"
   ]
  },
  {
   "cell_type": "code",
   "execution_count": 17,
   "id": "5d7c6e49",
   "metadata": {},
   "outputs": [
    {
     "data": {
      "text/html": [
       "<div>\n",
       "<style scoped>\n",
       "    .dataframe tbody tr th:only-of-type {\n",
       "        vertical-align: middle;\n",
       "    }\n",
       "\n",
       "    .dataframe tbody tr th {\n",
       "        vertical-align: top;\n",
       "    }\n",
       "\n",
       "    .dataframe thead th {\n",
       "        text-align: right;\n",
       "    }\n",
       "</style>\n",
       "<table border=\"1\" class=\"dataframe\">\n",
       "  <thead>\n",
       "    <tr style=\"text-align: right;\">\n",
       "      <th></th>\n",
       "      <th>publisher</th>\n",
       "    </tr>\n",
       "  </thead>\n",
       "  <tbody>\n",
       "    <tr>\n",
       "      <th>0</th>\n",
       "      <td>Penguin Books</td>\n",
       "    </tr>\n",
       "  </tbody>\n",
       "</table>\n",
       "</div>"
      ],
      "text/plain": [
       "       publisher\n",
       "0  Penguin Books"
      ]
     },
     "execution_count": 17,
     "metadata": {},
     "output_type": "execute_result"
    }
   ],
   "source": [
    "request(query)"
   ]
  },
  {
   "cell_type": "markdown",
   "id": "3d245709",
   "metadata": {},
   "source": [
    "### Вывод:\n",
    "Этот запрос позволяет найти самые крупные издательства, к которым стоит присмотреться при формировании базы книг."
   ]
  },
  {
   "cell_type": "markdown",
   "id": "3d245709",
   "metadata": {},
   "source": [
    "## Задание №4:\n",
    "Определите автора с самой высокой средней оценкой книг — учитывайте только книги с 50 и более оценками"
   ]
  },
  {
   "cell_type": "code",
   "execution_count": 18,
   "id": "71d7cf1c",
   "metadata": {},
   "outputs": [],
   "source": [
    "query = '''\n",
    "           SELECT a.author,\n",
    "                  AVG(r.rating)\n",
    "           FROM authors AS a\n",
    "           LEFT JOIN books AS b ON a.author_id = b.author_id\n",
    "           LEFT JOIN ratings AS r ON b.book_id = r.book_id\n",
    "           WHERE b.book_id IN (\n",
    "                               SELECT book_id\n",
    "                               FROM ratings\n",
    "                               GROUP BY book_id\n",
    "                               HAVING COUNT(rating_id) > 49\n",
    "                               \n",
    "                               )\n",
    "           GROUP BY a.author\n",
    "           ORDER BY AVG(r.rating) DESC\n",
    "           LIMIT 1           \n",
    "        '''"
   ]
  },
  {
   "cell_type": "code",
   "execution_count": 19,
   "id": "5d7c6e49",
   "metadata": {},
   "outputs": [
    {
     "data": {
      "text/html": [
       "<div>\n",
       "<style scoped>\n",
       "    .dataframe tbody tr th:only-of-type {\n",
       "        vertical-align: middle;\n",
       "    }\n",
       "\n",
       "    .dataframe tbody tr th {\n",
       "        vertical-align: top;\n",
       "    }\n",
       "\n",
       "    .dataframe thead th {\n",
       "        text-align: right;\n",
       "    }\n",
       "</style>\n",
       "<table border=\"1\" class=\"dataframe\">\n",
       "  <thead>\n",
       "    <tr style=\"text-align: right;\">\n",
       "      <th></th>\n",
       "      <th>author</th>\n",
       "      <th>avg</th>\n",
       "    </tr>\n",
       "  </thead>\n",
       "  <tbody>\n",
       "    <tr>\n",
       "      <th>0</th>\n",
       "      <td>J.K. Rowling/Mary GrandPré</td>\n",
       "      <td>4.287097</td>\n",
       "    </tr>\n",
       "  </tbody>\n",
       "</table>\n",
       "</div>"
      ],
      "text/plain": [
       "                       author       avg\n",
       "0  J.K. Rowling/Mary GrandPré  4.287097"
      ]
     },
     "execution_count": 19,
     "metadata": {},
     "output_type": "execute_result"
    }
   ],
   "source": [
    "request(query)"
   ]
  },
  {
   "cell_type": "markdown",
   "id": "3d245709",
   "metadata": {},
   "source": [
    "### Вывод:\n",
    "Этот запрос позволяет найти самых популярных авторов, к которым стоит присмотреться при формировании базы книг."
   ]
  },
  {
   "cell_type": "markdown",
   "id": "3d245709",
   "metadata": {},
   "source": [
    "## Задание №5:\n",
    "Посчитайте среднее количество обзоров от пользователей, которые поставили больше 50 оценок"
   ]
  },
  {
   "cell_type": "code",
   "execution_count": 20,
   "id": "71d7cf1c",
   "metadata": {},
   "outputs": [],
   "source": [
    "query = '''WITH\n",
    "           count_review AS (\n",
    "                            SELECT username,\n",
    "                                   COUNT(review_id) AS count_rv\n",
    "                            FROM reviews\n",
    "                            WHERE username IN (\n",
    "                                                SELECT username\n",
    "                                                FROM ratings\n",
    "                                                GROUP BY username\n",
    "                                                HAVING COUNT(rating_id) > 50\n",
    "                                               )\n",
    "                            GROUP BY username\n",
    "                            )\n",
    "           SELECT ROUND(AVG(count_rv))\n",
    "           FROM count_review    \n",
    "        '''"
   ]
  },
  {
   "cell_type": "code",
   "execution_count": 21,
   "id": "5d7c6e49",
   "metadata": {},
   "outputs": [
    {
     "data": {
      "text/html": [
       "<div>\n",
       "<style scoped>\n",
       "    .dataframe tbody tr th:only-of-type {\n",
       "        vertical-align: middle;\n",
       "    }\n",
       "\n",
       "    .dataframe tbody tr th {\n",
       "        vertical-align: top;\n",
       "    }\n",
       "\n",
       "    .dataframe thead th {\n",
       "        text-align: right;\n",
       "    }\n",
       "</style>\n",
       "<table border=\"1\" class=\"dataframe\">\n",
       "  <thead>\n",
       "    <tr style=\"text-align: right;\">\n",
       "      <th></th>\n",
       "      <th>round</th>\n",
       "    </tr>\n",
       "  </thead>\n",
       "  <tbody>\n",
       "    <tr>\n",
       "      <th>0</th>\n",
       "      <td>24.0</td>\n",
       "    </tr>\n",
       "  </tbody>\n",
       "</table>\n",
       "</div>"
      ],
      "text/plain": [
       "   round\n",
       "0   24.0"
      ]
     },
     "execution_count": 21,
     "metadata": {},
     "output_type": "execute_result"
    }
   ],
   "source": [
    "request(query)"
   ]
  },
  {
   "cell_type": "markdown",
   "id": "3d245709",
   "metadata": {},
   "source": [
    "### Вывод:\n",
    "1. В среднем активные пользователи оставляют 24 оценки.\n",
    "2. Срез пользователей в подзапросе WHERE - это целевая аудитория сервиса, его можно использовать для более детального изучения предпочтений, изучив оценки каждого пользователя."
   ]
  }
 ],
 "metadata": {
  "ExecuteTimeLog": [
   {
    "duration": 439,
    "start_time": "2022-06-27T03:12:22.508Z"
   },
   {
    "duration": 3,
    "start_time": "2022-06-27T03:12:22.948Z"
   },
   {
    "duration": 7,
    "start_time": "2022-06-27T03:12:22.952Z"
   },
   {
    "duration": 5,
    "start_time": "2022-06-27T03:12:22.961Z"
   },
   {
    "duration": 5539,
    "start_time": "2022-06-27T03:12:22.967Z"
   },
   {
    "duration": 2,
    "start_time": "2022-06-27T03:12:28.508Z"
   },
   {
    "duration": 284,
    "start_time": "2022-06-27T03:12:28.512Z"
   },
   {
    "duration": 75,
    "start_time": "2022-06-27T03:12:28.797Z"
   },
   {
    "duration": 73,
    "start_time": "2022-06-27T03:12:28.873Z"
   },
   {
    "duration": 103,
    "start_time": "2022-06-27T03:12:28.948Z"
   },
   {
    "duration": 94,
    "start_time": "2022-06-27T03:12:29.053Z"
   },
   {
    "duration": 2,
    "start_time": "2022-06-27T03:12:29.149Z"
   },
   {
    "duration": 82,
    "start_time": "2022-06-27T03:12:29.153Z"
   },
   {
    "duration": 3,
    "start_time": "2022-06-27T03:12:29.236Z"
   },
   {
    "duration": 91,
    "start_time": "2022-06-27T03:12:29.241Z"
   },
   {
    "duration": 2,
    "start_time": "2022-06-27T03:12:29.333Z"
   },
   {
    "duration": 79,
    "start_time": "2022-06-27T03:12:29.337Z"
   },
   {
    "duration": 3,
    "start_time": "2022-06-27T03:12:29.418Z"
   },
   {
    "duration": 79,
    "start_time": "2022-06-27T03:12:29.422Z"
   },
   {
    "duration": 2,
    "start_time": "2022-06-27T03:12:29.503Z"
   },
   {
    "duration": 76,
    "start_time": "2022-06-27T03:12:29.507Z"
   },
   {
    "duration": 597,
    "start_time": "2022-06-27T17:20:37.560Z"
   },
   {
    "duration": 4,
    "start_time": "2022-06-27T17:20:38.159Z"
   },
   {
    "duration": 7,
    "start_time": "2022-06-27T17:20:38.165Z"
   },
   {
    "duration": 6,
    "start_time": "2022-06-27T17:20:38.174Z"
   },
   {
    "duration": 11630,
    "start_time": "2022-06-27T17:20:38.181Z"
   },
   {
    "duration": 2,
    "start_time": "2022-06-27T17:20:49.813Z"
   },
   {
    "duration": 82,
    "start_time": "2022-06-27T17:20:49.817Z"
   },
   {
    "duration": 13,
    "start_time": "2022-06-27T17:20:49.900Z"
   },
   {
    "duration": 12,
    "start_time": "2022-06-27T17:20:49.914Z"
   },
   {
    "duration": 25,
    "start_time": "2022-06-27T17:20:49.928Z"
   },
   {
    "duration": 25,
    "start_time": "2022-06-27T17:20:49.954Z"
   },
   {
    "duration": 3,
    "start_time": "2022-06-27T17:20:49.981Z"
   },
   {
    "duration": 16,
    "start_time": "2022-06-27T17:20:49.985Z"
   },
   {
    "duration": 3,
    "start_time": "2022-06-27T17:20:50.002Z"
   },
   {
    "duration": 39,
    "start_time": "2022-06-27T17:20:50.007Z"
   },
   {
    "duration": 3,
    "start_time": "2022-06-27T17:20:50.048Z"
   },
   {
    "duration": 26,
    "start_time": "2022-06-27T17:20:50.053Z"
   },
   {
    "duration": 2,
    "start_time": "2022-06-27T17:20:50.081Z"
   },
   {
    "duration": 18,
    "start_time": "2022-06-27T17:20:50.085Z"
   },
   {
    "duration": 3,
    "start_time": "2022-06-27T17:20:50.105Z"
   },
   {
    "duration": 23,
    "start_time": "2022-06-27T17:20:50.111Z"
   },
   {
    "duration": 3,
    "start_time": "2022-06-27T17:21:02.817Z"
   },
   {
    "duration": 13,
    "start_time": "2022-06-27T17:21:04.038Z"
   },
   {
    "duration": 3,
    "start_time": "2022-06-27T17:21:36.155Z"
   },
   {
    "duration": 12,
    "start_time": "2022-06-27T17:21:36.417Z"
   },
   {
    "duration": 3,
    "start_time": "2022-06-27T17:24:06.166Z"
   },
   {
    "duration": 27,
    "start_time": "2022-06-27T17:24:07.359Z"
   },
   {
    "duration": 3,
    "start_time": "2022-06-27T17:24:15.623Z"
   },
   {
    "duration": 3,
    "start_time": "2022-06-27T17:24:19.012Z"
   },
   {
    "duration": 27,
    "start_time": "2022-06-27T17:24:19.526Z"
   },
   {
    "duration": 29,
    "start_time": "2022-06-27T17:24:42.006Z"
   },
   {
    "duration": 2,
    "start_time": "2022-06-27T17:24:51.601Z"
   },
   {
    "duration": 31,
    "start_time": "2022-06-27T17:24:51.605Z"
   },
   {
    "duration": 28,
    "start_time": "2022-06-27T17:26:01.114Z"
   },
   {
    "duration": 29,
    "start_time": "2022-06-27T17:28:57.335Z"
   },
   {
    "duration": 9,
    "start_time": "2022-06-27T18:10:38.256Z"
   },
   {
    "duration": 39,
    "start_time": "2022-06-27T18:10:40.565Z"
   },
   {
    "duration": 520,
    "start_time": "2022-06-27T18:10:46.363Z"
   },
   {
    "duration": 4,
    "start_time": "2022-06-27T18:10:46.885Z"
   },
   {
    "duration": 8,
    "start_time": "2022-06-27T18:10:46.890Z"
   },
   {
    "duration": 5,
    "start_time": "2022-06-27T18:10:46.900Z"
   },
   {
    "duration": 8067,
    "start_time": "2022-06-27T18:10:46.907Z"
   },
   {
    "duration": 2,
    "start_time": "2022-06-27T18:10:54.975Z"
   },
   {
    "duration": 73,
    "start_time": "2022-06-27T18:10:54.978Z"
   },
   {
    "duration": 12,
    "start_time": "2022-06-27T18:10:55.053Z"
   },
   {
    "duration": 10,
    "start_time": "2022-06-27T18:10:55.066Z"
   },
   {
    "duration": 24,
    "start_time": "2022-06-27T18:10:55.078Z"
   },
   {
    "duration": 16,
    "start_time": "2022-06-27T18:10:55.104Z"
   },
   {
    "duration": 2,
    "start_time": "2022-06-27T18:10:55.122Z"
   },
   {
    "duration": 27,
    "start_time": "2022-06-27T18:10:55.125Z"
   },
   {
    "duration": 3,
    "start_time": "2022-06-27T18:13:35.865Z"
   },
   {
    "duration": 10,
    "start_time": "2022-06-27T18:13:36.416Z"
   },
   {
    "duration": 3,
    "start_time": "2022-06-27T18:13:50.193Z"
   },
   {
    "duration": 17,
    "start_time": "2022-06-27T18:13:50.579Z"
   },
   {
    "duration": 3,
    "start_time": "2022-06-27T18:24:44.273Z"
   },
   {
    "duration": 141,
    "start_time": "2022-06-27T18:24:45.845Z"
   },
   {
    "duration": 3,
    "start_time": "2022-06-27T18:24:58.340Z"
   },
   {
    "duration": 93,
    "start_time": "2022-06-27T18:24:58.631Z"
   },
   {
    "duration": 3,
    "start_time": "2022-06-27T18:25:57.833Z"
   },
   {
    "duration": 15,
    "start_time": "2022-06-27T18:26:00.186Z"
   },
   {
    "duration": 3,
    "start_time": "2022-06-27T18:26:15.026Z"
   },
   {
    "duration": 99,
    "start_time": "2022-06-27T18:26:15.397Z"
   },
   {
    "duration": 2,
    "start_time": "2022-06-27T18:26:21.183Z"
   },
   {
    "duration": 93,
    "start_time": "2022-06-27T18:26:21.410Z"
   },
   {
    "duration": 3,
    "start_time": "2022-06-27T18:30:37.970Z"
   },
   {
    "duration": 98,
    "start_time": "2022-06-27T18:30:38.369Z"
   },
   {
    "duration": 3,
    "start_time": "2022-06-27T18:30:52.636Z"
   },
   {
    "duration": 23,
    "start_time": "2022-06-27T18:30:53.947Z"
   },
   {
    "duration": 3,
    "start_time": "2022-06-27T18:32:27.739Z"
   },
   {
    "duration": 24,
    "start_time": "2022-06-27T18:32:29.348Z"
   },
   {
    "duration": 3,
    "start_time": "2022-06-27T18:32:44.332Z"
   },
   {
    "duration": 21,
    "start_time": "2022-06-27T18:32:44.800Z"
   },
   {
    "duration": 3,
    "start_time": "2022-06-27T18:36:34.541Z"
   },
   {
    "duration": 3,
    "start_time": "2022-06-27T18:38:32.778Z"
   },
   {
    "duration": 3,
    "start_time": "2022-06-27T18:38:38.978Z"
   },
   {
    "duration": 3,
    "start_time": "2022-06-27T18:47:56.285Z"
   },
   {
    "duration": 103,
    "start_time": "2022-06-27T18:47:56.586Z"
   },
   {
    "duration": 3,
    "start_time": "2022-06-27T18:48:17.023Z"
   },
   {
    "duration": 102,
    "start_time": "2022-06-27T18:48:17.644Z"
   },
   {
    "duration": 3,
    "start_time": "2022-06-27T18:50:00.618Z"
   },
   {
    "duration": 15,
    "start_time": "2022-06-27T18:50:01.205Z"
   },
   {
    "duration": 3,
    "start_time": "2022-06-27T18:50:17.670Z"
   },
   {
    "duration": 14,
    "start_time": "2022-06-27T18:50:18.399Z"
   },
   {
    "duration": 16,
    "start_time": "2022-06-27T18:51:14.142Z"
   },
   {
    "duration": 16,
    "start_time": "2022-06-27T18:51:14.529Z"
   },
   {
    "duration": 3,
    "start_time": "2022-06-27T18:51:38.297Z"
   },
   {
    "duration": 3,
    "start_time": "2022-06-27T18:51:38.871Z"
   },
   {
    "duration": 3,
    "start_time": "2022-06-27T18:54:22.643Z"
   },
   {
    "duration": 12,
    "start_time": "2022-06-27T18:54:29.127Z"
   },
   {
    "duration": 546,
    "start_time": "2022-06-27T18:58:27.233Z"
   },
   {
    "duration": 5,
    "start_time": "2022-06-27T18:58:27.781Z"
   },
   {
    "duration": 3,
    "start_time": "2022-06-27T18:58:27.788Z"
   },
   {
    "duration": 8,
    "start_time": "2022-06-27T18:58:27.793Z"
   },
   {
    "duration": 8187,
    "start_time": "2022-06-27T18:58:27.803Z"
   },
   {
    "duration": 4,
    "start_time": "2022-06-27T18:58:35.992Z"
   },
   {
    "duration": 91,
    "start_time": "2022-06-27T18:58:35.998Z"
   },
   {
    "duration": 13,
    "start_time": "2022-06-27T18:58:36.092Z"
   },
   {
    "duration": 11,
    "start_time": "2022-06-27T18:58:36.107Z"
   },
   {
    "duration": 33,
    "start_time": "2022-06-27T18:58:36.120Z"
   },
   {
    "duration": 25,
    "start_time": "2022-06-27T18:58:36.155Z"
   },
   {
    "duration": 2,
    "start_time": "2022-06-27T18:58:36.182Z"
   },
   {
    "duration": 17,
    "start_time": "2022-06-27T18:58:36.186Z"
   },
   {
    "duration": 4,
    "start_time": "2022-06-27T18:58:36.205Z"
   },
   {
    "duration": 11,
    "start_time": "2022-06-27T18:58:36.211Z"
   },
   {
    "duration": 6,
    "start_time": "2022-06-27T18:58:36.224Z"
   },
   {
    "duration": 27,
    "start_time": "2022-06-27T18:58:36.231Z"
   },
   {
    "duration": 3,
    "start_time": "2022-06-27T18:58:36.260Z"
   },
   {
    "duration": 17,
    "start_time": "2022-06-27T18:58:36.265Z"
   },
   {
    "duration": 3,
    "start_time": "2022-06-27T18:58:36.284Z"
   },
   {
    "duration": 18,
    "start_time": "2022-06-27T18:58:36.289Z"
   },
   {
    "duration": 12,
    "start_time": "2022-06-27T18:58:36.309Z"
   },
   {
    "duration": 16,
    "start_time": "2022-06-27T18:58:36.323Z"
   },
   {
    "duration": 20,
    "start_time": "2022-06-27T18:58:36.341Z"
   },
   {
    "duration": 26,
    "start_time": "2022-06-27T18:58:36.363Z"
   },
   {
    "duration": 3,
    "start_time": "2022-06-27T18:58:36.390Z"
   },
   {
    "duration": 75,
    "start_time": "2022-06-27T18:58:36.395Z"
   },
   {
    "duration": 550,
    "start_time": "2022-06-27T21:21:42.023Z"
   },
   {
    "duration": 3,
    "start_time": "2022-06-27T21:21:42.575Z"
   },
   {
    "duration": 7,
    "start_time": "2022-06-27T21:21:42.580Z"
   },
   {
    "duration": 8,
    "start_time": "2022-06-27T21:21:42.589Z"
   },
   {
    "duration": 9118,
    "start_time": "2022-06-27T21:21:42.599Z"
   },
   {
    "duration": 3,
    "start_time": "2022-06-27T21:21:51.718Z"
   },
   {
    "duration": 270,
    "start_time": "2022-06-27T21:21:51.722Z"
   },
   {
    "duration": 66,
    "start_time": "2022-06-27T21:21:51.994Z"
   },
   {
    "duration": 65,
    "start_time": "2022-06-27T21:21:52.062Z"
   },
   {
    "duration": 94,
    "start_time": "2022-06-27T21:21:52.128Z"
   },
   {
    "duration": 81,
    "start_time": "2022-06-27T21:21:52.223Z"
   },
   {
    "duration": 3,
    "start_time": "2022-06-27T21:21:52.305Z"
   },
   {
    "duration": 107,
    "start_time": "2022-06-27T21:21:52.309Z"
   },
   {
    "duration": 2,
    "start_time": "2022-06-27T21:21:52.419Z"
   },
   {
    "duration": 6,
    "start_time": "2022-06-27T21:21:52.422Z"
   },
   {
    "duration": 7,
    "start_time": "2022-06-27T21:21:52.429Z"
   },
   {
    "duration": 80,
    "start_time": "2022-06-27T21:21:52.437Z"
   },
   {
    "duration": 3,
    "start_time": "2022-06-27T21:21:52.518Z"
   },
   {
    "duration": 75,
    "start_time": "2022-06-27T21:21:52.523Z"
   },
   {
    "duration": 2,
    "start_time": "2022-06-27T21:21:52.599Z"
   },
   {
    "duration": 70,
    "start_time": "2022-06-27T21:21:52.602Z"
   },
   {
    "duration": 2,
    "start_time": "2022-06-27T21:21:52.674Z"
   },
   {
    "duration": 6,
    "start_time": "2022-06-27T21:21:52.678Z"
   },
   {
    "duration": 11,
    "start_time": "2022-06-27T21:21:52.685Z"
   },
   {
    "duration": 71,
    "start_time": "2022-06-27T21:21:52.697Z"
   },
   {
    "duration": 3,
    "start_time": "2022-06-27T21:21:52.770Z"
   },
   {
    "duration": 97,
    "start_time": "2022-06-27T21:21:52.774Z"
   },
   {
    "duration": 219,
    "start_time": "2022-06-27T21:22:24.659Z"
   },
   {
    "duration": 95,
    "start_time": "2022-06-27T21:22:39.391Z"
   },
   {
    "duration": 74,
    "start_time": "2022-06-27T21:22:51.184Z"
   },
   {
    "duration": 70,
    "start_time": "2022-06-27T21:25:28.270Z"
   },
   {
    "duration": 636,
    "start_time": "2022-07-10T16:36:48.106Z"
   },
   {
    "duration": 4,
    "start_time": "2022-07-10T16:36:48.745Z"
   },
   {
    "duration": 10,
    "start_time": "2022-07-10T16:36:48.751Z"
   },
   {
    "duration": 12,
    "start_time": "2022-07-10T16:36:48.764Z"
   },
   {
    "duration": 5682,
    "start_time": "2022-07-10T16:36:48.778Z"
   },
   {
    "duration": 2,
    "start_time": "2022-07-10T16:36:54.462Z"
   },
   {
    "duration": 332,
    "start_time": "2022-07-10T16:36:54.466Z"
   },
   {
    "duration": 79,
    "start_time": "2022-07-10T16:36:54.799Z"
   },
   {
    "duration": 80,
    "start_time": "2022-07-10T16:36:54.880Z"
   },
   {
    "duration": 124,
    "start_time": "2022-07-10T16:36:54.965Z"
   },
   {
    "duration": 93,
    "start_time": "2022-07-10T16:36:55.091Z"
   },
   {
    "duration": 3,
    "start_time": "2022-07-10T16:36:55.186Z"
   },
   {
    "duration": 79,
    "start_time": "2022-07-10T16:36:55.191Z"
   },
   {
    "duration": 3,
    "start_time": "2022-07-10T16:36:55.273Z"
   },
   {
    "duration": 99,
    "start_time": "2022-07-10T16:36:55.278Z"
   },
   {
    "duration": 4,
    "start_time": "2022-07-10T16:36:55.379Z"
   },
   {
    "duration": 84,
    "start_time": "2022-07-10T16:36:55.385Z"
   },
   {
    "duration": 5,
    "start_time": "2022-07-10T16:36:55.471Z"
   },
   {
    "duration": 89,
    "start_time": "2022-07-10T16:36:55.478Z"
   },
   {
    "duration": 4,
    "start_time": "2022-07-10T16:36:55.569Z"
   },
   {
    "duration": 81,
    "start_time": "2022-07-10T16:36:55.576Z"
   }
  ],
  "kernelspec": {
   "display_name": "Python 3 (ipykernel)",
   "language": "python",
   "name": "python3"
  },
  "language_info": {
   "codemirror_mode": {
    "name": "ipython",
    "version": 3
   },
   "file_extension": ".py",
   "mimetype": "text/x-python",
   "name": "python",
   "nbconvert_exporter": "python",
   "pygments_lexer": "ipython3",
   "version": "3.9.5"
  },
  "toc": {
   "base_numbering": 1,
   "nav_menu": {},
   "number_sections": true,
   "sideBar": true,
   "skip_h1_title": true,
   "title_cell": "Table of Contents",
   "title_sidebar": "Contents",
   "toc_cell": false,
   "toc_position": {},
   "toc_section_display": true,
   "toc_window_display": true
  }
 },
 "nbformat": 4,
 "nbformat_minor": 2
}
